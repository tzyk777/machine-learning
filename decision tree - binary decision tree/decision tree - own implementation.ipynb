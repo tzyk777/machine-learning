{
 "cells": [
  {
   "cell_type": "code",
   "execution_count": 1,
   "metadata": {
    "collapsed": true
   },
   "outputs": [],
   "source": [
    "import pandas as pd\n",
    "import numpy as np"
   ]
  },
  {
   "cell_type": "code",
   "execution_count": 78,
   "metadata": {
    "collapsed": false
   },
   "outputs": [
    {
     "name": "stderr",
     "output_type": "stream",
     "text": [
      "D:\\Users\\zeyang\\Miniconda3\\lib\\site-packages\\IPython\\core\\interactiveshell.py:2825: DtypeWarning: Columns (19,47) have mixed types. Specify dtype option on import or set low_memory=False.\n",
      "  if self.run_code(code, result):\n"
     ]
    }
   ],
   "source": [
    "df = pd.DataFrame.from_csv('lending-club-data.csv')"
   ]
  },
  {
   "cell_type": "code",
   "execution_count": 79,
   "metadata": {
    "collapsed": false
   },
   "outputs": [],
   "source": [
    "df['safe_loans'] = df['bad_loans'].apply(lambda x: 1 if x == 0 else -1)\n",
    "del df['bad_loans']"
   ]
  },
  {
   "cell_type": "code",
   "execution_count": 80,
   "metadata": {
    "collapsed": true
   },
   "outputs": [],
   "source": [
    "features = ['grade',              # grade of the loan\n",
    "            'term',               # the term of the loan\n",
    "            'home_ownership',     # home_ownership status: own, mortgage or rent\n",
    "            'emp_length',         # number of years of employment\n",
    "           ]\n",
    "target = 'safe_loans'"
   ]
  },
  {
   "cell_type": "code",
   "execution_count": 81,
   "metadata": {
    "collapsed": true
   },
   "outputs": [],
   "source": [
    "df = df[features+[target]]"
   ]
  },
  {
   "cell_type": "code",
   "execution_count": 82,
   "metadata": {
    "collapsed": true
   },
   "outputs": [],
   "source": [
    "train_idx = pd.read_json('module-5-assignment-2-train-idx.json')[0]\n",
    "test_idx = pd.read_json('module-5-assignment-2-test-idx.json')[0]"
   ]
  },
  {
   "cell_type": "code",
   "execution_count": 83,
   "metadata": {
    "collapsed": true
   },
   "outputs": [],
   "source": [
    "# one-hot encoding\n",
    "df = pd.get_dummies(df)"
   ]
  },
  {
   "cell_type": "code",
   "execution_count": 84,
   "metadata": {
    "collapsed": false
   },
   "outputs": [],
   "source": [
    "train_data = df.iloc[train_idx].reset_index(drop=True)\n",
    "test_data = df.iloc[test_idx].reset_index(drop=True)"
   ]
  },
  {
   "cell_type": "code",
   "execution_count": 85,
   "metadata": {
    "collapsed": true
   },
   "outputs": [],
   "source": [
    "# Implement binary decision tree"
   ]
  },
  {
   "cell_type": "code",
   "execution_count": 86,
   "metadata": {
    "collapsed": true
   },
   "outputs": [],
   "source": [
    "def intermediate_node_num_mistakes(labels_in_node):\n",
    "    if len(labels_in_node) == 0:\n",
    "        return 0\n",
    "    num_ones = len(labels_in_node[labels_in_node == 1])\n",
    "    num_zeros = len(labels_in_node[labels_in_node == -1])\n",
    "    return num_ones if num_zeros >= num_ones else num_zeros"
   ]
  },
  {
   "cell_type": "code",
   "execution_count": 87,
   "metadata": {
    "collapsed": false
   },
   "outputs": [
    {
     "name": "stdout",
     "output_type": "stream",
     "text": [
      "Test passed!\n",
      "Test passed!\n",
      "Test passed!\n"
     ]
    }
   ],
   "source": [
    "# Test case 1\n",
    "example_labels = pd.Series([-1, -1, 1, 1, 1])\n",
    "if intermediate_node_num_mistakes(example_labels) == 2:\n",
    "    print('Test passed!')\n",
    "else:\n",
    "    print('Test 1 failed... try again!')\n",
    "\n",
    "# Test case 2\n",
    "example_labels = pd.Series([-1, -1, 1, 1, 1, 1, 1])\n",
    "if intermediate_node_num_mistakes(example_labels) == 2:\n",
    "    print('Test passed!')\n",
    "else:\n",
    "    print('Test 3 failed... try again!')\n",
    "    \n",
    "# Test case 3\n",
    "example_labels = pd.Series([-1, -1, -1, -1, -1, 1, 1])\n",
    "if intermediate_node_num_mistakes(example_labels) == 2:\n",
    "    print('Test passed!')\n",
    "else:\n",
    "    print('Test 3 failed... try again!')"
   ]
  },
  {
   "cell_type": "code",
   "execution_count": 88,
   "metadata": {
    "collapsed": false
   },
   "outputs": [
    {
     "data": {
      "text/html": [
       "<div>\n",
       "<table border=\"1\" class=\"dataframe\">\n",
       "  <thead>\n",
       "    <tr style=\"text-align: right;\">\n",
       "      <th></th>\n",
       "      <th>safe_loans</th>\n",
       "      <th>grade_A</th>\n",
       "      <th>grade_B</th>\n",
       "      <th>grade_C</th>\n",
       "      <th>grade_D</th>\n",
       "      <th>grade_E</th>\n",
       "      <th>grade_F</th>\n",
       "      <th>grade_G</th>\n",
       "      <th>term_ 36 months</th>\n",
       "      <th>term_ 60 months</th>\n",
       "      <th>...</th>\n",
       "      <th>emp_length_2 years</th>\n",
       "      <th>emp_length_3 years</th>\n",
       "      <th>emp_length_4 years</th>\n",
       "      <th>emp_length_5 years</th>\n",
       "      <th>emp_length_6 years</th>\n",
       "      <th>emp_length_7 years</th>\n",
       "      <th>emp_length_8 years</th>\n",
       "      <th>emp_length_9 years</th>\n",
       "      <th>emp_length_&lt; 1 year</th>\n",
       "      <th>emp_length_n/a</th>\n",
       "    </tr>\n",
       "  </thead>\n",
       "  <tbody>\n",
       "    <tr>\n",
       "      <th>0</th>\n",
       "      <td>-1</td>\n",
       "      <td>0</td>\n",
       "      <td>0</td>\n",
       "      <td>1</td>\n",
       "      <td>0</td>\n",
       "      <td>0</td>\n",
       "      <td>0</td>\n",
       "      <td>0</td>\n",
       "      <td>0</td>\n",
       "      <td>1</td>\n",
       "      <td>...</td>\n",
       "      <td>0</td>\n",
       "      <td>0</td>\n",
       "      <td>0</td>\n",
       "      <td>0</td>\n",
       "      <td>0</td>\n",
       "      <td>0</td>\n",
       "      <td>0</td>\n",
       "      <td>0</td>\n",
       "      <td>1</td>\n",
       "      <td>0</td>\n",
       "    </tr>\n",
       "  </tbody>\n",
       "</table>\n",
       "<p>1 rows × 26 columns</p>\n",
       "</div>"
      ],
      "text/plain": [
       "   safe_loans  grade_A  grade_B  grade_C  grade_D  grade_E  grade_F  grade_G  \\\n",
       "0          -1        0        0        1        0        0        0        0   \n",
       "\n",
       "   term_ 36 months  term_ 60 months       ...        emp_length_2 years  \\\n",
       "0                0                1       ...                         0   \n",
       "\n",
       "   emp_length_3 years  emp_length_4 years  emp_length_5 years  \\\n",
       "0                   0                   0                   0   \n",
       "\n",
       "   emp_length_6 years  emp_length_7 years  emp_length_8 years  \\\n",
       "0                   0                   0                   0   \n",
       "\n",
       "   emp_length_9 years  emp_length_< 1 year  emp_length_n/a  \n",
       "0                   0                    1               0  \n",
       "\n",
       "[1 rows x 26 columns]"
      ]
     },
     "execution_count": 88,
     "metadata": {},
     "output_type": "execute_result"
    }
   ],
   "source": [
    "train_data.head(1)"
   ]
  },
  {
   "cell_type": "code",
   "execution_count": null,
   "metadata": {
    "collapsed": true
   },
   "outputs": [],
   "source": []
  },
  {
   "cell_type": "code",
   "execution_count": 89,
   "metadata": {
    "collapsed": false
   },
   "outputs": [],
   "source": [
    "def best_splitting_feature(data, features, target):\n",
    "    target_values = data[target]\n",
    "    best_feature = None\n",
    "    current_error = 10\n",
    "    num_data_points = float(len(data))\n",
    "    \n",
    "    for feature in features:\n",
    "        left_split = data[data[feature] == 0]\n",
    "        right_split = data[data[feature] == 1]\n",
    "        \n",
    "        left_mistakes = intermediate_node_num_mistakes(left_split[target])\n",
    "        right_mistake = intermediate_node_num_mistakes(right_split[target])\n",
    "        \n",
    "        error = (left_mistakes + right_mistake) / num_data_points\n",
    "        if error < current_error:\n",
    "            current_error = error\n",
    "            best_feature = feature\n",
    "    print('Best feature found is {}, the corresponding error is {}'.format(feature, current_error))\n",
    "    return best_feature"
   ]
  },
  {
   "cell_type": "code",
   "execution_count": 90,
   "metadata": {
    "collapsed": false
   },
   "outputs": [],
   "source": [
    "class Node:\n",
    "    def __init__(self, splitting_features=None, left=None, right=None, is_leaf=False, prediction=None):\n",
    "        self.splitting_features = splitting_features\n",
    "        self.left = left\n",
    "        self.right = right\n",
    "        self.is_leaf = is_leaf\n",
    "        self.prediction = prediction"
   ]
  },
  {
   "cell_type": "code",
   "execution_count": 91,
   "metadata": {
    "collapsed": true
   },
   "outputs": [],
   "source": [
    "def create_leaf(target_values):\n",
    "    leaf = Node(is_leaf=True)\n",
    "    num_ones = len(target_values[target_values == 1])\n",
    "    num_minus_ones = len(target_values[target_values == -1])\n",
    "    \n",
    "    if num_ones >= num_minus_ones:\n",
    "        leaf.prediction = 1\n",
    "    else:\n",
    "        leaf.prediction = -1\n",
    "    return leaf"
   ]
  },
  {
   "cell_type": "code",
   "execution_count": 92,
   "metadata": {
    "collapsed": true
   },
   "outputs": [],
   "source": [
    "def decision_tree_create(data, features, target, current_depth=0, max_depth=10):\n",
    "    remaining_features = features[:]\n",
    "    target_values = data[target]\n",
    "    \n",
    "    if intermediate_node_num_mistakes(target_values) == 0:\n",
    "        print('Stopping condition 1 reached.')\n",
    "        return create_leaf(target_values)\n",
    "    \n",
    "    if len(remaining_features) == 0:\n",
    "        print('Stopping condition 2 reached.')\n",
    "        return create_leaf(target_values)\n",
    "    \n",
    "    if current_depth >= max_depth:\n",
    "        print('Reached maximum depth. Stopping for now.')\n",
    "        return create_leaf(target_values)\n",
    "    \n",
    "    best_feature = best_splitting_feature(data, remaining_features, target)\n",
    "    left_split = data[data[best_feature] == 0]\n",
    "    right_split = data[data[best_feature] == 1]\n",
    "    remaining_features.remove(best_feature)\n",
    "    \n",
    "    print('Split on feature {}, ({}, {})'.format(best_feature, len(left_split), len(right_split)))\n",
    "    if len(left_split) == len(data):\n",
    "        print('Creating leaf node')\n",
    "        return create_leaf(left_split[target])\n",
    "    if len(right_split) == len(data):\n",
    "        print('Creating leaf node')\n",
    "        return create_leaf(right_split[target])\n",
    "    \n",
    "    left_tree = decision_tree_create(left_split, remaining_features, target, current_depth+1, max_depth)\n",
    "    right_tree = decision_tree_create(right_split, remaining_features, target, current_depth+1, max_depth)\n",
    "    \n",
    "    return Node(splitting_features=best_feature, left=left_tree, right=right_tree, is_leaf=False, prediction=None)"
   ]
  },
  {
   "cell_type": "code",
   "execution_count": 93,
   "metadata": {
    "collapsed": true
   },
   "outputs": [],
   "source": [
    "features = df.columns.values.tolist()"
   ]
  },
  {
   "cell_type": "code",
   "execution_count": 94,
   "metadata": {
    "collapsed": false
   },
   "outputs": [],
   "source": [
    "features.remove('safe_loans')"
   ]
  },
  {
   "cell_type": "code",
   "execution_count": 95,
   "metadata": {
    "collapsed": false
   },
   "outputs": [
    {
     "name": "stdout",
     "output_type": "stream",
     "text": [
      "Best feature found is emp_length_n/a, the corresponding error is 0.4216365785514722\n",
      "Split on feature term_ 36 months, (9223, 28001)\n",
      "Best feature found is emp_length_n/a, the corresponding error is 0.34674184104955\n",
      "Split on feature grade_A, (9122, 101)\n",
      "Best feature found is emp_length_n/a, the corresponding error is 0.34630563472922604\n",
      "Split on feature grade_B, (8074, 1048)\n",
      "Best feature found is emp_length_n/a, the corresponding error is 0.33415902898191724\n",
      "Split on feature grade_C, (5884, 2190)\n",
      "Best feature found is emp_length_n/a, the corresponding error is 0.30319510537049627\n",
      "Split on feature grade_D, (3826, 2058)\n",
      "Best feature found is emp_length_n/a, the corresponding error is 0.2773131207527444\n",
      "Split on feature grade_E, (1693, 2133)\n",
      "Reached maximum depth. Stopping for now.\n",
      "Reached maximum depth. Stopping for now.\n",
      "Best feature found is emp_length_n/a, the corresponding error is 0.35131195335276966\n",
      "Split on feature grade_E, (2058, 0)\n",
      "Creating leaf node\n",
      "Best feature found is emp_length_n/a, the corresponding error is 0.41735159817351597\n",
      "Split on feature grade_D, (2190, 0)\n",
      "Creating leaf node\n",
      "Best feature found is emp_length_n/a, the corresponding error is 0.43702290076335876\n",
      "Split on feature emp_length_5 years, (969, 79)\n",
      "Best feature found is emp_length_n/a, the corresponding error is 0.43343653250773995\n",
      "Split on feature grade_C, (969, 0)\n",
      "Creating leaf node\n",
      "Best feature found is emp_length_n/a, the corresponding error is 0.46835443037974683\n",
      "Split on feature home_ownership_MORTGAGE, (34, 45)\n",
      "Best feature found is emp_length_n/a, the corresponding error is 0.4411764705882353\n",
      "Split on feature grade_C, (34, 0)\n",
      "Creating leaf node\n",
      "Best feature found is emp_length_n/a, the corresponding error is 0.4888888888888889\n",
      "Split on feature grade_C, (45, 0)\n",
      "Creating leaf node\n",
      "Best feature found is emp_length_n/a, the corresponding error is 0.3564356435643564\n",
      "Split on feature emp_length_n/a, (96, 5)\n",
      "Best feature found is emp_length_< 1 year, the corresponding error is 0.3541666666666667\n",
      "Split on feature emp_length_< 1 year, (85, 11)\n",
      "Best feature found is emp_length_9 years, the corresponding error is 0.3411764705882353\n",
      "Split on feature grade_B, (85, 0)\n",
      "Creating leaf node\n",
      "Best feature found is emp_length_9 years, the corresponding error is 0.45454545454545453\n",
      "Split on feature grade_B, (11, 0)\n",
      "Creating leaf node\n",
      "Best feature found is emp_length_< 1 year, the corresponding error is 0.2\n",
      "Split on feature grade_B, (5, 0)\n",
      "Creating leaf node\n",
      "Best feature found is emp_length_n/a, the corresponding error is 0.4175922288489697\n",
      "Split on feature grade_D, (23300, 4701)\n",
      "Best feature found is emp_length_n/a, the corresponding error is 0.4039055793991416\n",
      "Split on feature grade_E, (22024, 1276)\n",
      "Best feature found is emp_length_n/a, the corresponding error is 0.3992008717762441\n",
      "Split on feature grade_F, (21666, 358)\n",
      "Best feature found is emp_length_n/a, the corresponding error is 0.39619680605557095\n",
      "Split on feature emp_length_n/a, (20734, 932)\n",
      "Best feature found is emp_length_< 1 year, the corresponding error is 0.39182019870743706\n",
      "Split on feature grade_G, (20638, 96)\n",
      "Reached maximum depth. Stopping for now.\n",
      "Reached maximum depth. Stopping for now.\n",
      "Best feature found is emp_length_< 1 year, the corresponding error is 0.38626609442060084\n",
      "Split on feature grade_A, (702, 230)\n",
      "Reached maximum depth. Stopping for now.\n",
      "Reached maximum depth. Stopping for now.\n",
      "Best feature found is emp_length_n/a, the corresponding error is 0.29329608938547486\n",
      "Split on feature emp_length_8 years, (347, 11)\n",
      "Best feature found is emp_length_n/a, the corresponding error is 0.2910662824207493\n",
      "Split on feature grade_A, (347, 0)\n",
      "Creating leaf node\n",
      "Best feature found is emp_length_n/a, the corresponding error is 0.18181818181818182\n",
      "Split on feature home_ownership_OWN, (9, 2)\n",
      "Reached maximum depth. Stopping for now.\n",
      "Stopping condition 1 reached.\n",
      "Best feature found is emp_length_n/a, the corresponding error is 0.3738244514106583\n",
      "Split on feature grade_A, (1276, 0)\n",
      "Creating leaf node\n",
      "Best feature found is emp_length_n/a, the corresponding error is 0.4169325675388215\n",
      "Split on feature grade_A, (4701, 0)\n",
      "Creating leaf node\n"
     ]
    }
   ],
   "source": [
    "my_decision_tree = decision_tree_create(train_data, features, target, 0, 6)"
   ]
  },
  {
   "cell_type": "code",
   "execution_count": 96,
   "metadata": {
    "collapsed": true
   },
   "outputs": [],
   "source": [
    "tree = Node()"
   ]
  },
  {
   "cell_type": "code",
   "execution_count": 97,
   "metadata": {
    "collapsed": true
   },
   "outputs": [],
   "source": [
    "def classify(tree, x, annotate=False):\n",
    "    if tree.is_leaf:\n",
    "        if annotate:\n",
    "            print('At leaf, feature {} predicting {}'.format(tree.splitting_features,tree.prediction))\n",
    "        return tree.prediction\n",
    "    if annotate:\n",
    "        print('Split on {} = {}'.format(tree.splitting_features, x[tree.splitting_features]))\n",
    "    if x[tree.splitting_features] == 1:\n",
    "        return classify(tree.right, x, annotate)\n",
    "    return classify(tree.left, x, annotate)"
   ]
  },
  {
   "cell_type": "code",
   "execution_count": 98,
   "metadata": {
    "collapsed": false
   },
   "outputs": [
    {
     "data": {
      "text/plain": [
       "-1"
      ]
     },
     "execution_count": 98,
     "metadata": {},
     "output_type": "execute_result"
    }
   ],
   "source": [
    "classify(my_decision_tree, test_data.ix[0])"
   ]
  },
  {
   "cell_type": "code",
   "execution_count": 99,
   "metadata": {
    "collapsed": false
   },
   "outputs": [
    {
     "name": "stdout",
     "output_type": "stream",
     "text": [
      "Split on term_ 36 months = 0.0\n",
      "Split on grade_A = 0.0\n",
      "Split on grade_B = 0.0\n",
      "Split on grade_C = 0.0\n",
      "Split on grade_D = 1.0\n",
      "At leaf, feature None predicting -1\n"
     ]
    },
    {
     "data": {
      "text/plain": [
       "-1"
      ]
     },
     "execution_count": 99,
     "metadata": {},
     "output_type": "execute_result"
    }
   ],
   "source": [
    "classify(my_decision_tree, test_data.ix[0], True)"
   ]
  },
  {
   "cell_type": "code",
   "execution_count": 102,
   "metadata": {
    "collapsed": true
   },
   "outputs": [],
   "source": [
    "# Quiz question: What was the feature that my_decision_tree first split on while making the \n",
    "# prediction for test_data[0]?\n",
    "\n",
    "# term_ 36 months"
   ]
  },
  {
   "cell_type": "code",
   "execution_count": 103,
   "metadata": {
    "collapsed": true
   },
   "outputs": [],
   "source": [
    "# Quiz question: What was the first feature that lead to a right split of test_data[0]?\n",
    "\n",
    "# grade_D"
   ]
  },
  {
   "cell_type": "code",
   "execution_count": 104,
   "metadata": {
    "collapsed": true
   },
   "outputs": [],
   "source": [
    "# Quiz question: What was the last feature split on before reaching a leaf node \n",
    "# for test_data[0]?\n",
    "\n",
    "# grade_D"
   ]
  },
  {
   "cell_type": "code",
   "execution_count": 105,
   "metadata": {
    "collapsed": true
   },
   "outputs": [],
   "source": [
    "def evaluate_classification_error(tree, data, target):\n",
    "    prediction = data.apply(lambda x: classify(tree, x), axis=1)\n",
    "    return sum(prediction == data[target]) / len(data)"
   ]
  },
  {
   "cell_type": "code",
   "execution_count": 106,
   "metadata": {
    "collapsed": false,
    "scrolled": true
   },
   "outputs": [
    {
     "data": {
      "text/plain": [
       "0.61622145626884961"
      ]
     },
     "execution_count": 106,
     "metadata": {},
     "output_type": "execute_result"
    }
   ],
   "source": [
    "evaluate_classification_error(my_decision_tree, test_data, target)"
   ]
  },
  {
   "cell_type": "code",
   "execution_count": 107,
   "metadata": {
    "collapsed": true
   },
   "outputs": [],
   "source": [
    "# Quiz Question: Rounded to 2nd decimal point, what is the classification error of \n",
    "# my_decision_tree on the test_data?\n",
    "\n",
    "# 0.62"
   ]
  },
  {
   "cell_type": "code",
   "execution_count": 108,
   "metadata": {
    "collapsed": false
   },
   "outputs": [],
   "source": [
    "def print_stump(tree, name = 'root'):\n",
    "    split_name = tree.splitting_features # split_name is something like 'term. 36 months'\n",
    "    if split_name is None:\n",
    "        print(\"(leaf, label: %s)\" % tree.prediction)\n",
    "        return None\n",
    "    print('                       %s' % name)\n",
    "    print('         |---------------|----------------|')\n",
    "    print('         |                                |')\n",
    "    print('         |                                |')\n",
    "    print('         |                                |')\n",
    "    print('  [{0} == 0]               [{0} == 1]    '.format(split_name))\n",
    "    print('         |                                |')\n",
    "    print('         |                                |')\n",
    "    print('         |                                |')\n",
    "    print('    ({})                         ({})'.format(\n",
    "            ('leaf, label: ' + str(tree.left.prediction) if tree.left.is_leaf else 'subtree'),\n",
    "            ('leaf, label: ' + str(tree.right.prediction) if tree.right.is_leaf else 'subtree')))"
   ]
  },
  {
   "cell_type": "code",
   "execution_count": 109,
   "metadata": {
    "collapsed": false
   },
   "outputs": [
    {
     "name": "stdout",
     "output_type": "stream",
     "text": [
      "                       root\n",
      "         |---------------|----------------|\n",
      "         |                                |\n",
      "         |                                |\n",
      "         |                                |\n",
      "  [term_ 36 months == 0]               [term_ 36 months == 1]    \n",
      "         |                                |\n",
      "         |                                |\n",
      "         |                                |\n",
      "    (subtree)                         (subtree)\n"
     ]
    }
   ],
   "source": [
    "print_stump(my_decision_tree)"
   ]
  },
  {
   "cell_type": "code",
   "execution_count": 110,
   "metadata": {
    "collapsed": true
   },
   "outputs": [],
   "source": [
    "# Quiz Question: What is the feature that is used for the split at the root node?\n",
    "\n",
    "# term_ 36 months"
   ]
  },
  {
   "cell_type": "code",
   "execution_count": 111,
   "metadata": {
    "collapsed": false
   },
   "outputs": [
    {
     "name": "stdout",
     "output_type": "stream",
     "text": [
      "                       term_ 36 months\n",
      "         |---------------|----------------|\n",
      "         |                                |\n",
      "         |                                |\n",
      "         |                                |\n",
      "  [grade_A == 0]               [grade_A == 1]    \n",
      "         |                                |\n",
      "         |                                |\n",
      "         |                                |\n",
      "    (subtree)                         (subtree)\n"
     ]
    }
   ],
   "source": [
    "print_stump(my_decision_tree.left, my_decision_tree.splitting_features)"
   ]
  },
  {
   "cell_type": "code",
   "execution_count": 112,
   "metadata": {
    "collapsed": false
   },
   "outputs": [
    {
     "name": "stdout",
     "output_type": "stream",
     "text": [
      "                       grade_A\n",
      "         |---------------|----------------|\n",
      "         |                                |\n",
      "         |                                |\n",
      "         |                                |\n",
      "  [grade_B == 0]               [grade_B == 1]    \n",
      "         |                                |\n",
      "         |                                |\n",
      "         |                                |\n",
      "    (subtree)                         (subtree)\n"
     ]
    }
   ],
   "source": [
    "print_stump(my_decision_tree.left.left, my_decision_tree.left.splitting_features)"
   ]
  },
  {
   "cell_type": "code",
   "execution_count": 113,
   "metadata": {
    "collapsed": true
   },
   "outputs": [],
   "source": [
    "# Quiz question: What is the path of the first 3 feature splits considered along the \n",
    "# left-most branch of my_decision_tree?\n",
    "\n",
    "# term_ 36 months -> grade_A -> grade_B"
   ]
  },
  {
   "cell_type": "code",
   "execution_count": 56,
   "metadata": {
    "collapsed": false
   },
   "outputs": [
    {
     "name": "stdout",
     "output_type": "stream",
     "text": [
      "                       term_ 36 months\n",
      "         |---------------|----------------|\n",
      "         |                                |\n",
      "         |                                |\n",
      "         |                                |\n",
      "  [grade_D == 0]               [grade_D == 1]    \n",
      "         |                                |\n",
      "         |                                |\n",
      "         |                                |\n",
      "    (subtree)                         (leaf, label: -1)\n"
     ]
    }
   ],
   "source": [
    "print_stump(my_decision_tree.right, my_decision_tree.splitting_features)"
   ]
  },
  {
   "cell_type": "code",
   "execution_count": 114,
   "metadata": {
    "collapsed": false
   },
   "outputs": [
    {
     "name": "stdout",
     "output_type": "stream",
     "text": [
      "(leaf, label: -1)\n"
     ]
    }
   ],
   "source": [
    "print_stump(my_decision_tree.right.right, my_decision_tree.right.splitting_features)"
   ]
  }
 ],
 "metadata": {
  "kernelspec": {
   "display_name": "Python 3",
   "language": "python",
   "name": "python3"
  },
  "language_info": {
   "codemirror_mode": {
    "name": "ipython",
    "version": 3
   },
   "file_extension": ".py",
   "mimetype": "text/x-python",
   "name": "python",
   "nbconvert_exporter": "python",
   "pygments_lexer": "ipython3",
   "version": "3.5.1"
  }
 },
 "nbformat": 4,
 "nbformat_minor": 0
}
