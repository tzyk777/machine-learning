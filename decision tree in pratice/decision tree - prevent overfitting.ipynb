{
 "cells": [
  {
   "cell_type": "code",
   "execution_count": 1,
   "metadata": {
    "collapsed": true
   },
   "outputs": [],
   "source": [
    "import pandas as pd"
   ]
  },
  {
   "cell_type": "code",
   "execution_count": 2,
   "metadata": {
    "collapsed": false
   },
   "outputs": [
    {
     "name": "stderr",
     "output_type": "stream",
     "text": [
      "D:\\Users\\zeyang\\Miniconda3\\lib\\site-packages\\IPython\\core\\interactiveshell.py:2825: DtypeWarning: Columns (19,47) have mixed types. Specify dtype option on import or set low_memory=False.\n",
      "  if self.run_code(code, result):\n"
     ]
    }
   ],
   "source": [
    "loans = pd.DataFrame.from_csv('lending-club-data.csv')"
   ]
  },
  {
   "cell_type": "code",
   "execution_count": 3,
   "metadata": {
    "collapsed": true
   },
   "outputs": [],
   "source": [
    "loans['safe_loans'] = loans['bad_loans'].apply(lambda x: 1 if x == 0 else -1)\n",
    "del loans['bad_loans']"
   ]
  },
  {
   "cell_type": "code",
   "execution_count": 4,
   "metadata": {
    "collapsed": true
   },
   "outputs": [],
   "source": [
    "features = ['grade',              # grade of the loan\n",
    "            'term',               # the term of the loan\n",
    "            'home_ownership',     # home_ownership status: own, mortgage or rent\n",
    "            'emp_length',         # number of years of employment\n",
    "           ]\n",
    "target = 'safe_loans'"
   ]
  },
  {
   "cell_type": "code",
   "execution_count": 6,
   "metadata": {
    "collapsed": false
   },
   "outputs": [],
   "source": [
    "loans = loans[features+[target]]"
   ]
  },
  {
   "cell_type": "code",
   "execution_count": 8,
   "metadata": {
    "collapsed": false
   },
   "outputs": [],
   "source": [
    "loans = pd.get_dummies(loans)"
   ]
  },
  {
   "cell_type": "code",
   "execution_count": 39,
   "metadata": {
    "collapsed": true
   },
   "outputs": [],
   "source": [
    "train_data = loans.iloc[pd.read_json('module-6-assignment-train-idx.json')[0]].reset_index(drop=True)\n",
    "validation_data = loans.iloc[pd.read_json('module-6-assignment-validation-idx.json')[0]].reset_index(drop=True)"
   ]
  },
  {
   "cell_type": "code",
   "execution_count": 40,
   "metadata": {
    "collapsed": true
   },
   "outputs": [],
   "source": [
    "def reached_minimum_node_size(data, min_node_size):\n",
    "    return len(data) < min_node_size"
   ]
  },
  {
   "cell_type": "code",
   "execution_count": 41,
   "metadata": {
    "collapsed": true
   },
   "outputs": [],
   "source": [
    "# Quiz question: Given an intermediate node with 6 safe loans and 3 risky loans, \n",
    "# if the min_node_size parameter is 10, what should the tree learning algorithm do next?\n",
    "\n",
    "# Stop"
   ]
  },
  {
   "cell_type": "code",
   "execution_count": 42,
   "metadata": {
    "collapsed": true
   },
   "outputs": [],
   "source": [
    "def error_reduction(error_before_split, error_after_split):\n",
    "    return error_before_split - error_after_split"
   ]
  },
  {
   "cell_type": "code",
   "execution_count": 43,
   "metadata": {
    "collapsed": true
   },
   "outputs": [],
   "source": [
    "# Quiz question: Assume an intermediate node has 6 safe loans and 3 risky loans. \n",
    "# For each of 4 possible features to split on, the error reduction is 0.0, 0.05, 0.1, \n",
    "# and 0.14, respectively. If the minimum gain in error reduction parameter is set to 0.2, \n",
    "# what should the tree learning algorithm do next?\n",
    "\n",
    "# Stop"
   ]
  },
  {
   "cell_type": "code",
   "execution_count": 103,
   "metadata": {
    "collapsed": true
   },
   "outputs": [],
   "source": [
    "def intermediate_node_num_mistakes(labels_in_node):\n",
    "    if len(labels_in_node) == 0:\n",
    "        return 0\n",
    "    num_ones = len(labels_in_node[labels_in_node == 1])\n",
    "    num_zeros = len(labels_in_node[labels_in_node == -1])\n",
    "    return num_ones if num_zeros >= num_ones else num_zeros"
   ]
  },
  {
   "cell_type": "code",
   "execution_count": 104,
   "metadata": {
    "collapsed": true
   },
   "outputs": [],
   "source": [
    "def best_splitting_feature(data, features, target):\n",
    "    target_values = data[target]\n",
    "    best_feature = None\n",
    "    best_error = 10\n",
    "    \n",
    "    num_data_points = float(len(data))\n",
    "    for feature in features:\n",
    "        left_split = data[data[feature] == 0]\n",
    "        right_split = data[data[feature] == 1]\n",
    "        left_mistake = intermediate_node_num_mistakes(left_split[target])\n",
    "        right_mistake = intermediate_node_num_mistakes(right_split[target])\n",
    "        error = (left_mistake + right_mistake) / num_data_points\n",
    "        if error < best_error:\n",
    "            best_error = error\n",
    "            best_feature = feature\n",
    "    \n",
    "    print('Best feature found {} error {}'.format(best_feature, best_error))\n",
    "    return best_feature"
   ]
  },
  {
   "cell_type": "code",
   "execution_count": 105,
   "metadata": {
    "collapsed": true
   },
   "outputs": [],
   "source": [
    "class Node:\n",
    "    def __init__(self, splitting_feature=None, is_leaf=False, left=None, right=None, prediction=None):\n",
    "        self.splitting_feature = splitting_feature\n",
    "        self.is_leaf = is_leaf\n",
    "        self.left = left\n",
    "        self.right = right\n",
    "        self.prediction = prediction"
   ]
  },
  {
   "cell_type": "code",
   "execution_count": 106,
   "metadata": {
    "collapsed": true
   },
   "outputs": [],
   "source": [
    "def create_leaf(target_values):\n",
    "    leaf = Node(is_leaf=True)\n",
    "    num_pos = len(target_values[target_values == 1])\n",
    "    num_neg = len(target_values[target_values == -1])\n",
    "    if num_pos >= num_neg:\n",
    "        leaf.prediction = 1\n",
    "    else:\n",
    "        leaf.prediction = -1\n",
    "    return leaf"
   ]
  },
  {
   "cell_type": "code",
   "execution_count": 107,
   "metadata": {
    "collapsed": true
   },
   "outputs": [],
   "source": [
    "def decision_tree_create(data, features, target, current_depth = 0, \n",
    "                         max_depth = 10, min_node_size=1, \n",
    "                         min_error_reduction=0.0):\n",
    "    remaining_features = features[:]\n",
    "    \n",
    "    # Stop condition\n",
    "    if intermediate_node_num_mistakes(data[target]) == 0:\n",
    "        print('Reached stopping condition - all same category')\n",
    "        return create_leaf(data[target])\n",
    "    if remaining_features == []:\n",
    "        print('Reached stopping condition - empty features')\n",
    "        return create_leaf(data[target])\n",
    "    # Early stopping condition 1\n",
    "    if current_depth >= max_depth:\n",
    "        print('Reached early stopping condition - reached max depth')\n",
    "        return create_leaf(data[target])\n",
    "    # Early stopping condition 2\n",
    "    if reached_minimum_node_size(data, min_node_size):\n",
    "        print('Reached early stopping condition - too few data in this node')\n",
    "        return create_leaf(data[target])\n",
    "    # Early sopping condition 3\n",
    "    \n",
    "    splitting_feature = best_splitting_feature(data, remaining_features, target)\n",
    "    left_split = data[data[splitting_feature] == 0]\n",
    "    right_split = data[data[splitting_feature] == 1]\n",
    "    \n",
    "    error_before_split = intermediate_node_num_mistakes(data[target]) / float(len(data))\n",
    "    left_mistake = intermediate_node_num_mistakes(left_split[target])\n",
    "    right_mistake = intermediate_node_num_mistakes(right_split[target])\n",
    "    error_after_split = (left_mistake + right_mistake) / float(len(data))\n",
    "    \n",
    "    if error_reduction(error_before_split, error_after_split) < min_error_reduction:\n",
    "        print('Reached early stopping condition - error reduction is less than min_error_reduction')\n",
    "        return create_leaf(data[target])\n",
    "    \n",
    "    remaining_features.remove(splitting_feature)\n",
    "    if len(left_split) == len(data):\n",
    "        print('Creating leaf node')\n",
    "        return create_leaf(left_split[target])\n",
    "    if len(right_split) == len(data):\n",
    "        print('Creating leaf node')\n",
    "        return create_leaf(right_split[target])\n",
    "    \n",
    "    print('Split on feature {}, ({}, {})'.format(splitting_feature, len(left_split), len(right_split)))\n",
    "\n",
    "    left_tree = decision_tree_create(left_split, remaining_features, target, current_depth+1, \n",
    "                                     max_depth, min_node_size, min_error_reduction)\n",
    "    right_tree = decision_tree_create(right_split, remaining_features, target, current_depth+1,\n",
    "                                     max_depth, min_node_size, min_error_reduction)\n",
    "    return Node(splitting_feature=splitting_feature, left=left_tree, right=right_tree)"
   ]
  },
  {
   "cell_type": "code",
   "execution_count": 108,
   "metadata": {
    "collapsed": true
   },
   "outputs": [],
   "source": [
    "features = loans.columns.values.tolist()\n",
    "features.remove('safe_loans')"
   ]
  },
  {
   "cell_type": "code",
   "execution_count": 109,
   "metadata": {
    "collapsed": false
   },
   "outputs": [
    {
     "name": "stdout",
     "output_type": "stream",
     "text": [
      "Best feature found term_ 36 months error 0.4216365785514722\n",
      "Split on feature term_ 36 months, (9223, 28001)\n",
      "Best feature found grade_A error 0.34674184104955\n",
      "Split on feature grade_A, (9122, 101)\n",
      "Best feature found grade_B error 0.34630563472922604\n",
      "Split on feature grade_B, (8074, 1048)\n",
      "Best feature found grade_C error 0.33415902898191724\n",
      "Split on feature grade_C, (5884, 2190)\n",
      "Best feature found grade_D error 0.30319510537049627\n",
      "Split on feature grade_D, (3826, 2058)\n",
      "Best feature found grade_E error 0.2773131207527444\n",
      "Split on feature grade_E, (1693, 2133)\n",
      "Reached early stopping condition - reached max depth\n",
      "Reached early stopping condition - reached max depth\n",
      "Best feature found grade_E error 0.35131195335276966\n",
      "Creating leaf node\n",
      "Best feature found grade_D error 0.41735159817351597\n",
      "Creating leaf node\n",
      "Best feature found emp_length_5 years error 0.43702290076335876\n",
      "Split on feature emp_length_5 years, (969, 79)\n",
      "Best feature found grade_C error 0.43343653250773995\n",
      "Creating leaf node\n",
      "Reached early stopping condition - too few data in this node\n",
      "Best feature found emp_length_n/a error 0.3564356435643564\n",
      "Split on feature emp_length_n/a, (96, 5)\n",
      "Reached early stopping condition - too few data in this node\n",
      "Reached early stopping condition - too few data in this node\n",
      "Best feature found grade_D error 0.4175922288489697\n",
      "Split on feature grade_D, (23300, 4701)\n",
      "Best feature found grade_E error 0.4039055793991416\n",
      "Split on feature grade_E, (22024, 1276)\n",
      "Best feature found grade_F error 0.3992008717762441\n",
      "Split on feature grade_F, (21666, 358)\n",
      "Best feature found emp_length_n/a error 0.39619680605557095\n",
      "Split on feature emp_length_n/a, (20734, 932)\n",
      "Best feature found grade_G error 0.39182019870743706\n",
      "Split on feature grade_G, (20638, 96)\n",
      "Reached early stopping condition - reached max depth\n",
      "Reached early stopping condition - reached max depth\n",
      "Best feature found grade_A error 0.38626609442060084\n",
      "Split on feature grade_A, (702, 230)\n",
      "Reached early stopping condition - reached max depth\n",
      "Reached early stopping condition - reached max depth\n",
      "Best feature found emp_length_8 years error 0.29329608938547486\n",
      "Split on feature emp_length_8 years, (347, 11)\n",
      "Best feature found grade_A error 0.2910662824207493\n",
      "Creating leaf node\n",
      "Reached early stopping condition - too few data in this node\n",
      "Best feature found grade_A error 0.3738244514106583\n",
      "Creating leaf node\n",
      "Best feature found grade_A error 0.4169325675388215\n",
      "Creating leaf node\n"
     ]
    }
   ],
   "source": [
    "my_decision_tree_new = decision_tree_create(train_data, features, 'safe_loans', max_depth = 6, \n",
    "                                            min_node_size = 100, min_error_reduction=0.0)"
   ]
  },
  {
   "cell_type": "code",
   "execution_count": 110,
   "metadata": {
    "collapsed": false
   },
   "outputs": [
    {
     "name": "stdout",
     "output_type": "stream",
     "text": [
      "Best feature found term_ 36 months error 0.4216365785514722\n",
      "Split on feature term_ 36 months, (9223, 28001)\n",
      "Best feature found grade_A error 0.34674184104955\n",
      "Split on feature grade_A, (9122, 101)\n",
      "Best feature found grade_B error 0.34630563472922604\n",
      "Split on feature grade_B, (8074, 1048)\n",
      "Best feature found grade_C error 0.33415902898191724\n",
      "Split on feature grade_C, (5884, 2190)\n",
      "Best feature found grade_D error 0.30319510537049627\n",
      "Split on feature grade_D, (3826, 2058)\n",
      "Best feature found grade_E error 0.2773131207527444\n",
      "Split on feature grade_E, (1693, 2133)\n",
      "Reached early stopping condition - reached max depth\n",
      "Reached early stopping condition - reached max depth\n",
      "Best feature found grade_E error 0.35131195335276966\n",
      "Creating leaf node\n",
      "Best feature found grade_D error 0.41735159817351597\n",
      "Creating leaf node\n",
      "Best feature found emp_length_5 years error 0.43702290076335876\n",
      "Split on feature emp_length_5 years, (969, 79)\n",
      "Best feature found grade_C error 0.43343653250773995\n",
      "Creating leaf node\n",
      "Best feature found home_ownership_MORTGAGE error 0.46835443037974683\n",
      "Split on feature home_ownership_MORTGAGE, (34, 45)\n",
      "Best feature found grade_C error 0.4411764705882353\n",
      "Creating leaf node\n",
      "Best feature found grade_C error 0.4888888888888889\n",
      "Creating leaf node\n",
      "Best feature found emp_length_n/a error 0.3564356435643564\n",
      "Split on feature emp_length_n/a, (96, 5)\n",
      "Best feature found emp_length_< 1 year error 0.3541666666666667\n",
      "Split on feature emp_length_< 1 year, (85, 11)\n",
      "Best feature found grade_B error 0.3411764705882353\n",
      "Creating leaf node\n",
      "Best feature found grade_B error 0.45454545454545453\n",
      "Creating leaf node\n",
      "Best feature found grade_B error 0.2\n",
      "Creating leaf node\n",
      "Best feature found grade_D error 0.4175922288489697\n",
      "Split on feature grade_D, (23300, 4701)\n",
      "Best feature found grade_E error 0.4039055793991416\n",
      "Split on feature grade_E, (22024, 1276)\n",
      "Best feature found grade_F error 0.3992008717762441\n",
      "Split on feature grade_F, (21666, 358)\n",
      "Best feature found emp_length_n/a error 0.39619680605557095\n",
      "Split on feature emp_length_n/a, (20734, 932)\n",
      "Best feature found grade_G error 0.39182019870743706\n",
      "Split on feature grade_G, (20638, 96)\n",
      "Reached early stopping condition - reached max depth\n",
      "Reached early stopping condition - reached max depth\n",
      "Best feature found grade_A error 0.38626609442060084\n",
      "Split on feature grade_A, (702, 230)\n",
      "Reached early stopping condition - reached max depth\n",
      "Reached early stopping condition - reached max depth\n",
      "Best feature found emp_length_8 years error 0.29329608938547486\n",
      "Split on feature emp_length_8 years, (347, 11)\n",
      "Best feature found grade_A error 0.2910662824207493\n",
      "Creating leaf node\n",
      "Best feature found home_ownership_OWN error 0.18181818181818182\n",
      "Split on feature home_ownership_OWN, (9, 2)\n",
      "Reached early stopping condition - reached max depth\n",
      "Reached stopping condition - all same category\n",
      "Best feature found grade_A error 0.3738244514106583\n",
      "Creating leaf node\n",
      "Best feature found grade_A error 0.4169325675388215\n",
      "Creating leaf node\n"
     ]
    }
   ],
   "source": [
    "my_decision_tree_old = decision_tree_create(train_data, features, 'safe_loans', max_depth = 6, min_node_size = 0, min_error_reduction=-1)"
   ]
  },
  {
   "cell_type": "code",
   "execution_count": 111,
   "metadata": {
    "collapsed": true
   },
   "outputs": [],
   "source": [
    "def classify(tree, x, annotate=False):\n",
    "    if tree.is_leaf:\n",
    "        if annotate:\n",
    "            print('At leaf, feature {} predicting {}'.format(tree.splitting_feature,tree.prediction))\n",
    "        return tree.prediction\n",
    "    if annotate:\n",
    "        print('Split on {} = {}'.format(tree.splitting_feature, x[tree.splitting_feature]))\n",
    "    if x[tree.splitting_feature] == 1:\n",
    "        return classify(tree.right, x, annotate)\n",
    "    return classify(tree.left, x, annotate)"
   ]
  },
  {
   "cell_type": "code",
   "execution_count": 112,
   "metadata": {
    "collapsed": false
   },
   "outputs": [
    {
     "name": "stdout",
     "output_type": "stream",
     "text": [
      "safe_loans                -1\n",
      "grade_A                    0\n",
      "grade_B                    0\n",
      "grade_C                    0\n",
      "grade_D                    1\n",
      "grade_E                    0\n",
      "grade_F                    0\n",
      "grade_G                    0\n",
      "term_ 36 months            0\n",
      "term_ 60 months            1\n",
      "home_ownership_MORTGAGE    0\n",
      "home_ownership_OTHER       0\n",
      "home_ownership_OWN         0\n",
      "home_ownership_RENT        1\n",
      "emp_length_1 year          0\n",
      "emp_length_10+ years       0\n",
      "emp_length_2 years         1\n",
      "emp_length_3 years         0\n",
      "emp_length_4 years         0\n",
      "emp_length_5 years         0\n",
      "emp_length_6 years         0\n",
      "emp_length_7 years         0\n",
      "emp_length_8 years         0\n",
      "emp_length_9 years         0\n",
      "emp_length_< 1 year        0\n",
      "emp_length_n/a             0\n",
      "Name: 0, dtype: float64\n"
     ]
    }
   ],
   "source": [
    "print(validation_data.ix[0])"
   ]
  },
  {
   "cell_type": "code",
   "execution_count": 113,
   "metadata": {
    "collapsed": false
   },
   "outputs": [
    {
     "name": "stdout",
     "output_type": "stream",
     "text": [
      "predicted class: -1\n"
     ]
    }
   ],
   "source": [
    "print('predicted class: {}'.format(classify(my_decision_tree_new, validation_data.ix[0])))"
   ]
  },
  {
   "cell_type": "code",
   "execution_count": 114,
   "metadata": {
    "collapsed": false
   },
   "outputs": [
    {
     "name": "stdout",
     "output_type": "stream",
     "text": [
      "Split on term_ 36 months = 0.0\n",
      "Split on grade_A = 0.0\n",
      "Split on grade_B = 0.0\n",
      "Split on grade_C = 0.0\n",
      "Split on grade_D = 1.0\n",
      "At leaf, feature None predicting -1\n",
      "predicted class: -1\n"
     ]
    }
   ],
   "source": [
    "print('predicted class: {}'.format(classify(my_decision_tree_new, validation_data.ix[0], True)))"
   ]
  },
  {
   "cell_type": "code",
   "execution_count": 115,
   "metadata": {
    "collapsed": false
   },
   "outputs": [
    {
     "name": "stdout",
     "output_type": "stream",
     "text": [
      "Split on term_ 36 months = 0.0\n",
      "Split on grade_A = 0.0\n",
      "Split on grade_B = 0.0\n",
      "Split on grade_C = 0.0\n",
      "Split on grade_D = 1.0\n",
      "At leaf, feature None predicting -1\n",
      "predicted class: -1\n"
     ]
    }
   ],
   "source": [
    "print('predicted class: {}'.format(classify(my_decision_tree_old, validation_data.ix[0], True)))"
   ]
  },
  {
   "cell_type": "code",
   "execution_count": 116,
   "metadata": {
    "collapsed": true
   },
   "outputs": [],
   "source": [
    "def evaluate_classification_error(tree, data, target):\n",
    "    prediction = data.apply(lambda x: classify(tree, x), axis=1)\n",
    "    return sum(prediction == data[target]) / len(data)"
   ]
  },
  {
   "cell_type": "code",
   "execution_count": 117,
   "metadata": {
    "collapsed": false
   },
   "outputs": [
    {
     "data": {
      "text/plain": [
       "0.61589831968978892"
      ]
     },
     "execution_count": 117,
     "metadata": {},
     "output_type": "execute_result"
    }
   ],
   "source": [
    "evaluate_classification_error(my_decision_tree_new, validation_data, target)"
   ]
  },
  {
   "cell_type": "code",
   "execution_count": 118,
   "metadata": {
    "collapsed": false
   },
   "outputs": [
    {
     "data": {
      "text/plain": [
       "0.61622145626884961"
      ]
     },
     "execution_count": 118,
     "metadata": {},
     "output_type": "execute_result"
    }
   ],
   "source": [
    "evaluate_classification_error(my_decision_tree_old, validation_data, target)"
   ]
  },
  {
   "cell_type": "code",
   "execution_count": 119,
   "metadata": {
    "collapsed": false
   },
   "outputs": [
    {
     "name": "stdout",
     "output_type": "stream",
     "text": [
      "Best feature found term_ 36 months error 0.4216365785514722\n",
      "Split on feature term_ 36 months, (9223, 28001)\n",
      "Best feature found grade_A error 0.34674184104955\n",
      "Split on feature grade_A, (9122, 101)\n",
      "Reached early stopping condition - reached max depth\n",
      "Reached early stopping condition - reached max depth\n",
      "Best feature found grade_D error 0.4175922288489697\n",
      "Split on feature grade_D, (23300, 4701)\n",
      "Reached early stopping condition - reached max depth\n",
      "Reached early stopping condition - reached max depth\n"
     ]
    }
   ],
   "source": [
    "model_1 = decision_tree_create(train_data, features, 'safe_loans', max_depth = 2, \n",
    "                               min_node_size = 0, min_error_reduction=-1)"
   ]
  },
  {
   "cell_type": "code",
   "execution_count": 120,
   "metadata": {
    "collapsed": false
   },
   "outputs": [
    {
     "name": "stdout",
     "output_type": "stream",
     "text": [
      "Best feature found term_ 36 months error 0.4216365785514722\n",
      "Split on feature term_ 36 months, (9223, 28001)\n",
      "Best feature found grade_A error 0.34674184104955\n",
      "Split on feature grade_A, (9122, 101)\n",
      "Best feature found grade_B error 0.34630563472922604\n",
      "Split on feature grade_B, (8074, 1048)\n",
      "Best feature found grade_C error 0.33415902898191724\n",
      "Split on feature grade_C, (5884, 2190)\n",
      "Best feature found grade_D error 0.30319510537049627\n",
      "Split on feature grade_D, (3826, 2058)\n",
      "Best feature found grade_E error 0.2773131207527444\n",
      "Split on feature grade_E, (1693, 2133)\n",
      "Reached early stopping condition - reached max depth\n",
      "Reached early stopping condition - reached max depth\n",
      "Best feature found grade_E error 0.35131195335276966\n",
      "Creating leaf node\n",
      "Best feature found grade_D error 0.41735159817351597\n",
      "Creating leaf node\n",
      "Best feature found emp_length_5 years error 0.43702290076335876\n",
      "Split on feature emp_length_5 years, (969, 79)\n",
      "Best feature found grade_C error 0.43343653250773995\n",
      "Creating leaf node\n",
      "Best feature found home_ownership_MORTGAGE error 0.46835443037974683\n",
      "Split on feature home_ownership_MORTGAGE, (34, 45)\n",
      "Best feature found grade_C error 0.4411764705882353\n",
      "Creating leaf node\n",
      "Best feature found grade_C error 0.4888888888888889\n",
      "Creating leaf node\n",
      "Best feature found emp_length_n/a error 0.3564356435643564\n",
      "Split on feature emp_length_n/a, (96, 5)\n",
      "Best feature found emp_length_< 1 year error 0.3541666666666667\n",
      "Split on feature emp_length_< 1 year, (85, 11)\n",
      "Best feature found grade_B error 0.3411764705882353\n",
      "Creating leaf node\n",
      "Best feature found grade_B error 0.45454545454545453\n",
      "Creating leaf node\n",
      "Best feature found grade_B error 0.2\n",
      "Creating leaf node\n",
      "Best feature found grade_D error 0.4175922288489697\n",
      "Split on feature grade_D, (23300, 4701)\n",
      "Best feature found grade_E error 0.4039055793991416\n",
      "Split on feature grade_E, (22024, 1276)\n",
      "Best feature found grade_F error 0.3992008717762441\n",
      "Split on feature grade_F, (21666, 358)\n",
      "Best feature found emp_length_n/a error 0.39619680605557095\n",
      "Split on feature emp_length_n/a, (20734, 932)\n",
      "Best feature found grade_G error 0.39182019870743706\n",
      "Split on feature grade_G, (20638, 96)\n",
      "Reached early stopping condition - reached max depth\n",
      "Reached early stopping condition - reached max depth\n",
      "Best feature found grade_A error 0.38626609442060084\n",
      "Split on feature grade_A, (702, 230)\n",
      "Reached early stopping condition - reached max depth\n",
      "Reached early stopping condition - reached max depth\n",
      "Best feature found emp_length_8 years error 0.29329608938547486\n",
      "Split on feature emp_length_8 years, (347, 11)\n",
      "Best feature found grade_A error 0.2910662824207493\n",
      "Creating leaf node\n",
      "Best feature found home_ownership_OWN error 0.18181818181818182\n",
      "Split on feature home_ownership_OWN, (9, 2)\n",
      "Reached early stopping condition - reached max depth\n",
      "Reached stopping condition - all same category\n",
      "Best feature found grade_A error 0.3738244514106583\n",
      "Creating leaf node\n",
      "Best feature found grade_A error 0.4169325675388215\n",
      "Creating leaf node\n"
     ]
    }
   ],
   "source": [
    "model_2 = decision_tree_create(train_data, features, 'safe_loans', max_depth = 6, \n",
    "                               min_node_size = 0, min_error_reduction=-1)"
   ]
  },
  {
   "cell_type": "code",
   "execution_count": 121,
   "metadata": {
    "collapsed": false
   },
   "outputs": [
    {
     "name": "stdout",
     "output_type": "stream",
     "text": [
      "Best feature found term_ 36 months error 0.4216365785514722\n",
      "Split on feature term_ 36 months, (9223, 28001)\n",
      "Best feature found grade_A error 0.34674184104955\n",
      "Split on feature grade_A, (9122, 101)\n",
      "Best feature found grade_B error 0.34630563472922604\n",
      "Split on feature grade_B, (8074, 1048)\n",
      "Best feature found grade_C error 0.33415902898191724\n",
      "Split on feature grade_C, (5884, 2190)\n",
      "Best feature found grade_D error 0.30319510537049627\n",
      "Split on feature grade_D, (3826, 2058)\n",
      "Best feature found grade_E error 0.2773131207527444\n",
      "Split on feature grade_E, (1693, 2133)\n",
      "Best feature found home_ownership_OTHER error 0.2575310100413467\n",
      "Split on feature home_ownership_OTHER, (1692, 1)\n",
      "Best feature found grade_F error 0.2576832151300236\n",
      "Split on feature grade_F, (339, 1353)\n",
      "Best feature found grade_G error 0.2448377581120944\n",
      "Creating leaf node\n",
      "Best feature found grade_G error 0.2609016999260902\n",
      "Creating leaf node\n",
      "Reached stopping condition - all same category\n",
      "Best feature found grade_F error 0.29254571026722925\n",
      "Creating leaf node\n",
      "Best feature found grade_E error 0.35131195335276966\n",
      "Creating leaf node\n",
      "Best feature found grade_D error 0.41735159817351597\n",
      "Creating leaf node\n",
      "Best feature found emp_length_5 years error 0.43702290076335876\n",
      "Split on feature emp_length_5 years, (969, 79)\n",
      "Best feature found grade_C error 0.43343653250773995\n",
      "Creating leaf node\n",
      "Best feature found home_ownership_MORTGAGE error 0.46835443037974683\n",
      "Split on feature home_ownership_MORTGAGE, (34, 45)\n",
      "Best feature found grade_C error 0.4411764705882353\n",
      "Creating leaf node\n",
      "Best feature found grade_C error 0.4888888888888889\n",
      "Creating leaf node\n",
      "Best feature found emp_length_n/a error 0.3564356435643564\n",
      "Split on feature emp_length_n/a, (96, 5)\n",
      "Best feature found emp_length_< 1 year error 0.3541666666666667\n",
      "Split on feature emp_length_< 1 year, (85, 11)\n",
      "Best feature found grade_B error 0.3411764705882353\n",
      "Creating leaf node\n",
      "Best feature found grade_B error 0.45454545454545453\n",
      "Creating leaf node\n",
      "Best feature found grade_B error 0.2\n",
      "Creating leaf node\n",
      "Best feature found grade_D error 0.4175922288489697\n",
      "Split on feature grade_D, (23300, 4701)\n",
      "Best feature found grade_E error 0.4039055793991416\n",
      "Split on feature grade_E, (22024, 1276)\n",
      "Best feature found grade_F error 0.3992008717762441\n",
      "Split on feature grade_F, (21666, 358)\n",
      "Best feature found emp_length_n/a error 0.39619680605557095\n",
      "Split on feature emp_length_n/a, (20734, 932)\n",
      "Best feature found grade_G error 0.39182019870743706\n",
      "Split on feature grade_G, (20638, 96)\n",
      "Best feature found grade_A error 0.3923829828471751\n",
      "Split on feature grade_A, (15839, 4799)\n",
      "Best feature found home_ownership_OTHER error 0.4396742218574405\n",
      "Split on feature home_ownership_OTHER, (15811, 28)\n",
      "Best feature found grade_B error 0.4396306368983619\n",
      "Split on feature grade_B, (6894, 8917)\n",
      "Best feature found home_ownership_MORTGAGE error 0.47389033942558745\n",
      "Split on feature home_ownership_MORTGAGE, (4102, 2792)\n",
      "Best feature found emp_length_4 years error 0.47440273037542663\n",
      "Split on feature emp_length_4 years, (3768, 334)\n",
      "Best feature found emp_length_9 years error 0.4747876857749469\n",
      "Split on feature emp_length_9 years, (3639, 129)\n",
      "Best feature found emp_length_2 years error 0.47375652651827427\n",
      "Split on feature emp_length_2 years, (3123, 516)\n",
      "Best feature found grade_C error 0.4697406340057637\n",
      "Creating leaf node\n",
      "Best feature found home_ownership_OWN error 0.4903100775193798\n",
      "Split on feature home_ownership_OWN, (458, 58)\n",
      "Reached early stopping condition - reached max depth\n",
      "Reached early stopping condition - reached max depth\n",
      "Best feature found home_ownership_OWN error 0.46511627906976744\n",
      "Split on feature home_ownership_OWN, (113, 16)\n",
      "Best feature found grade_C error 0.48672566371681414\n",
      "Creating leaf node\n",
      "Best feature found grade_C error 0.3125\n",
      "Creating leaf node\n",
      "Best feature found grade_C error 0.46107784431137727\n",
      "Creating leaf node\n",
      "Best feature found emp_length_2 years error 0.46310888252148996\n",
      "Split on feature emp_length_2 years, (2562, 230)\n",
      "Best feature found emp_length_5 years error 0.4597970335675254\n",
      "Split on feature emp_length_5 years, (2335, 227)\n",
      "Best feature found grade_C error 0.45610278372591007\n",
      "Creating leaf node\n",
      "Best feature found grade_C error 0.4977973568281938\n",
      "Creating leaf node\n",
      "Best feature found grade_C error 0.4956521739130435\n",
      "Creating leaf node\n",
      "Best feature found grade_C error 0.3954244701132668\n",
      "Creating leaf node\n",
      "Best feature found grade_B error 0.35714285714285715\n",
      "Split on feature grade_B, (11, 17)\n",
      "Best feature found emp_length_6 years error 0.2727272727272727\n",
      "Split on feature emp_length_6 years, (10, 1)\n",
      "Best feature found grade_C error 0.3\n",
      "Creating leaf node\n",
      "Reached stopping condition - all same category\n",
      "Best feature found emp_length_1 year error 0.29411764705882354\n",
      "Split on feature emp_length_1 year, (16, 1)\n",
      "Best feature found emp_length_3 years error 0.25\n",
      "Split on feature emp_length_3 years, (15, 1)\n",
      "Best feature found emp_length_4 years error 0.2\n",
      "Split on feature emp_length_4 years, (14, 1)\n",
      "Best feature found emp_length_< 1 year error 0.14285714285714285\n",
      "Split on feature emp_length_< 1 year, (13, 1)\n",
      "Best feature found grade_C error 0.15384615384615385\n",
      "Creating leaf node\n",
      "Reached stopping condition - all same category\n",
      "Reached stopping condition - all same category\n",
      "Reached stopping condition - all same category\n",
      "Reached stopping condition - all same category\n",
      "Best feature found grade_B error 0.23588247551573244\n",
      "Creating leaf node\n",
      "Best feature found grade_A error 0.2708333333333333\n",
      "Creating leaf node\n",
      "Best feature found grade_A error 0.38626609442060084\n",
      "Split on feature grade_A, (702, 230)\n",
      "Best feature found home_ownership_OTHER error 0.38746438746438744\n",
      "Split on feature home_ownership_OTHER, (701, 1)\n",
      "Best feature found grade_B error 0.3880171184022825\n",
      "Split on feature grade_B, (317, 384)\n",
      "Best feature found grade_C error 0.33753943217665616\n",
      "Split on feature grade_C, (1, 316)\n",
      "Reached stopping condition - all same category\n",
      "Best feature found grade_G error 0.33860759493670883\n",
      "Creating leaf node\n",
      "Best feature found grade_C error 0.4296875\n",
      "Creating leaf node\n",
      "Reached stopping condition - all same category\n",
      "Best feature found grade_B error 0.3782608695652174\n",
      "Creating leaf node\n",
      "Best feature found emp_length_8 years error 0.29329608938547486\n",
      "Split on feature emp_length_8 years, (347, 11)\n",
      "Best feature found grade_A error 0.2910662824207493\n",
      "Creating leaf node\n",
      "Best feature found home_ownership_OWN error 0.18181818181818182\n",
      "Split on feature home_ownership_OWN, (9, 2)\n",
      "Best feature found grade_A error 0.2222222222222222\n",
      "Creating leaf node\n",
      "Reached stopping condition - all same category\n",
      "Best feature found grade_A error 0.3738244514106583\n",
      "Creating leaf node\n",
      "Best feature found grade_A error 0.4169325675388215\n",
      "Creating leaf node\n"
     ]
    }
   ],
   "source": [
    "model_3 = decision_tree_create(train_data, features, 'safe_loans', max_depth = 14, \n",
    "                               min_node_size = 0, min_error_reduction=-1)"
   ]
  },
  {
   "cell_type": "code",
   "execution_count": 122,
   "metadata": {
    "collapsed": false
   },
   "outputs": [
    {
     "name": "stdout",
     "output_type": "stream",
     "text": [
      "Training data, classification error (model 1): 0.599962389856\n",
      "Training data, classification error (model 2): 0.618149580916\n",
      "Training data, classification error (model 3): 0.623817966903\n"
     ]
    }
   ],
   "source": [
    "print(\"Training data, classification error (model 1):\", evaluate_classification_error(model_1, train_data, target))\n",
    "print(\"Training data, classification error (model 2):\", evaluate_classification_error(model_2, train_data, target))\n",
    "print(\"Training data, classification error (model 3):\", evaluate_classification_error(model_3, train_data, target))"
   ]
  },
  {
   "cell_type": "code",
   "execution_count": 123,
   "metadata": {
    "collapsed": false
   },
   "outputs": [
    {
     "name": "stdout",
     "output_type": "stream",
     "text": [
      "Validation data, classification error (model 1): 0.601895734597\n",
      "Validation data, classification error (model 2): 0.616221456269\n",
      "Validation data, classification error (model 3): 0.62268418785\n"
     ]
    }
   ],
   "source": [
    "print(\"Validation data, classification error (model 1):\", evaluate_classification_error(model_1, validation_data, target))\n",
    "print(\"Validation data, classification error (model 2):\", evaluate_classification_error(model_2, validation_data, target))\n",
    "print(\"Validation data, classification error (model 3):\", evaluate_classification_error(model_3, validation_data, target))"
   ]
  },
  {
   "cell_type": "code",
   "execution_count": 124,
   "metadata": {
    "collapsed": true
   },
   "outputs": [],
   "source": [
    "def count_leaves(tree):\n",
    "    if tree.is_leaf:\n",
    "        return 1\n",
    "    return count_leaves(tree.left) + count_leaves(tree.right)"
   ]
  },
  {
   "cell_type": "code",
   "execution_count": 125,
   "metadata": {
    "collapsed": false
   },
   "outputs": [
    {
     "data": {
      "text/plain": [
       "4"
      ]
     },
     "execution_count": 125,
     "metadata": {},
     "output_type": "execute_result"
    }
   ],
   "source": [
    "count_leaves(model_1)"
   ]
  },
  {
   "cell_type": "code",
   "execution_count": 126,
   "metadata": {
    "collapsed": false
   },
   "outputs": [
    {
     "data": {
      "text/plain": [
       "19"
      ]
     },
     "execution_count": 126,
     "metadata": {},
     "output_type": "execute_result"
    }
   ],
   "source": [
    "count_leaves(model_2)"
   ]
  },
  {
   "cell_type": "code",
   "execution_count": 127,
   "metadata": {
    "collapsed": false
   },
   "outputs": [
    {
     "data": {
      "text/plain": [
       "41"
      ]
     },
     "execution_count": 127,
     "metadata": {},
     "output_type": "execute_result"
    }
   ],
   "source": [
    "count_leaves(model_3) "
   ]
  },
  {
   "cell_type": "code",
   "execution_count": 128,
   "metadata": {
    "collapsed": true
   },
   "outputs": [],
   "source": [
    "# Explor the effect of min_error_reduction"
   ]
  },
  {
   "cell_type": "code",
   "execution_count": 129,
   "metadata": {
    "collapsed": false
   },
   "outputs": [
    {
     "name": "stdout",
     "output_type": "stream",
     "text": [
      "Best feature found term_ 36 months error 0.4216365785514722\n",
      "Split on feature term_ 36 months, (9223, 28001)\n",
      "Best feature found grade_A error 0.34674184104955\n",
      "Split on feature grade_A, (9122, 101)\n",
      "Best feature found grade_B error 0.34630563472922604\n",
      "Split on feature grade_B, (8074, 1048)\n",
      "Best feature found grade_C error 0.33415902898191724\n",
      "Split on feature grade_C, (5884, 2190)\n",
      "Best feature found grade_D error 0.30319510537049627\n",
      "Split on feature grade_D, (3826, 2058)\n",
      "Best feature found grade_E error 0.2773131207527444\n",
      "Split on feature grade_E, (1693, 2133)\n",
      "Reached early stopping condition - reached max depth\n",
      "Reached early stopping condition - reached max depth\n",
      "Best feature found grade_E error 0.35131195335276966\n",
      "Creating leaf node\n",
      "Best feature found grade_D error 0.41735159817351597\n",
      "Creating leaf node\n",
      "Best feature found emp_length_5 years error 0.43702290076335876\n",
      "Split on feature emp_length_5 years, (969, 79)\n",
      "Best feature found grade_C error 0.43343653250773995\n",
      "Creating leaf node\n",
      "Best feature found home_ownership_MORTGAGE error 0.46835443037974683\n",
      "Split on feature home_ownership_MORTGAGE, (34, 45)\n",
      "Best feature found grade_C error 0.4411764705882353\n",
      "Creating leaf node\n",
      "Best feature found grade_C error 0.4888888888888889\n",
      "Creating leaf node\n",
      "Best feature found emp_length_n/a error 0.3564356435643564\n",
      "Split on feature emp_length_n/a, (96, 5)\n",
      "Best feature found emp_length_< 1 year error 0.3541666666666667\n",
      "Split on feature emp_length_< 1 year, (85, 11)\n",
      "Best feature found grade_B error 0.3411764705882353\n",
      "Creating leaf node\n",
      "Best feature found grade_B error 0.45454545454545453\n",
      "Creating leaf node\n",
      "Best feature found grade_B error 0.2\n",
      "Creating leaf node\n",
      "Best feature found grade_D error 0.4175922288489697\n",
      "Split on feature grade_D, (23300, 4701)\n",
      "Best feature found grade_E error 0.4039055793991416\n",
      "Split on feature grade_E, (22024, 1276)\n",
      "Best feature found grade_F error 0.3992008717762441\n",
      "Split on feature grade_F, (21666, 358)\n",
      "Best feature found emp_length_n/a error 0.39619680605557095\n",
      "Split on feature emp_length_n/a, (20734, 932)\n",
      "Best feature found grade_G error 0.39182019870743706\n",
      "Split on feature grade_G, (20638, 96)\n",
      "Reached early stopping condition - reached max depth\n",
      "Reached early stopping condition - reached max depth\n",
      "Best feature found grade_A error 0.38626609442060084\n",
      "Split on feature grade_A, (702, 230)\n",
      "Reached early stopping condition - reached max depth\n",
      "Reached early stopping condition - reached max depth\n",
      "Best feature found emp_length_8 years error 0.29329608938547486\n",
      "Split on feature emp_length_8 years, (347, 11)\n",
      "Best feature found grade_A error 0.2910662824207493\n",
      "Creating leaf node\n",
      "Best feature found home_ownership_OWN error 0.18181818181818182\n",
      "Split on feature home_ownership_OWN, (9, 2)\n",
      "Reached early stopping condition - reached max depth\n",
      "Reached stopping condition - all same category\n",
      "Best feature found grade_A error 0.3738244514106583\n",
      "Creating leaf node\n",
      "Best feature found grade_A error 0.4169325675388215\n",
      "Creating leaf node\n"
     ]
    }
   ],
   "source": [
    "model_4 = decision_tree_create(train_data, features, 'safe_loans', max_depth = 6, \n",
    "                               min_node_size = 0, min_error_reduction=-1)"
   ]
  },
  {
   "cell_type": "code",
   "execution_count": 130,
   "metadata": {
    "collapsed": false
   },
   "outputs": [
    {
     "name": "stdout",
     "output_type": "stream",
     "text": [
      "Best feature found term_ 36 months error 0.4216365785514722\n",
      "Split on feature term_ 36 months, (9223, 28001)\n",
      "Best feature found grade_A error 0.34674184104955\n",
      "Split on feature grade_A, (9122, 101)\n",
      "Best feature found grade_B error 0.34630563472922604\n",
      "Split on feature grade_B, (8074, 1048)\n",
      "Best feature found grade_C error 0.33415902898191724\n",
      "Split on feature grade_C, (5884, 2190)\n",
      "Best feature found grade_D error 0.30319510537049627\n",
      "Split on feature grade_D, (3826, 2058)\n",
      "Best feature found grade_E error 0.2773131207527444\n",
      "Split on feature grade_E, (1693, 2133)\n",
      "Reached early stopping condition - reached max depth\n",
      "Reached early stopping condition - reached max depth\n",
      "Best feature found grade_E error 0.35131195335276966\n",
      "Creating leaf node\n",
      "Best feature found grade_D error 0.41735159817351597\n",
      "Creating leaf node\n",
      "Best feature found emp_length_5 years error 0.43702290076335876\n",
      "Split on feature emp_length_5 years, (969, 79)\n",
      "Best feature found grade_C error 0.43343653250773995\n",
      "Creating leaf node\n",
      "Best feature found home_ownership_MORTGAGE error 0.46835443037974683\n",
      "Split on feature home_ownership_MORTGAGE, (34, 45)\n",
      "Best feature found grade_C error 0.4411764705882353\n",
      "Creating leaf node\n",
      "Best feature found grade_C error 0.4888888888888889\n",
      "Creating leaf node\n",
      "Best feature found emp_length_n/a error 0.3564356435643564\n",
      "Split on feature emp_length_n/a, (96, 5)\n",
      "Best feature found emp_length_< 1 year error 0.3541666666666667\n",
      "Split on feature emp_length_< 1 year, (85, 11)\n",
      "Best feature found grade_B error 0.3411764705882353\n",
      "Creating leaf node\n",
      "Best feature found grade_B error 0.45454545454545453\n",
      "Creating leaf node\n",
      "Best feature found grade_B error 0.2\n",
      "Creating leaf node\n",
      "Best feature found grade_D error 0.4175922288489697\n",
      "Split on feature grade_D, (23300, 4701)\n",
      "Best feature found grade_E error 0.4039055793991416\n",
      "Split on feature grade_E, (22024, 1276)\n",
      "Best feature found grade_F error 0.3992008717762441\n",
      "Split on feature grade_F, (21666, 358)\n",
      "Best feature found emp_length_n/a error 0.39619680605557095\n",
      "Split on feature emp_length_n/a, (20734, 932)\n",
      "Best feature found grade_G error 0.39182019870743706\n",
      "Split on feature grade_G, (20638, 96)\n",
      "Reached early stopping condition - reached max depth\n",
      "Reached early stopping condition - reached max depth\n",
      "Best feature found grade_A error 0.38626609442060084\n",
      "Split on feature grade_A, (702, 230)\n",
      "Reached early stopping condition - reached max depth\n",
      "Reached early stopping condition - reached max depth\n",
      "Best feature found emp_length_8 years error 0.29329608938547486\n",
      "Split on feature emp_length_8 years, (347, 11)\n",
      "Best feature found grade_A error 0.2910662824207493\n",
      "Creating leaf node\n",
      "Best feature found home_ownership_OWN error 0.18181818181818182\n",
      "Split on feature home_ownership_OWN, (9, 2)\n",
      "Reached early stopping condition - reached max depth\n",
      "Reached stopping condition - all same category\n",
      "Best feature found grade_A error 0.3738244514106583\n",
      "Creating leaf node\n",
      "Best feature found grade_A error 0.4169325675388215\n",
      "Creating leaf node\n"
     ]
    }
   ],
   "source": [
    "model_5 = decision_tree_create(train_data, features, 'safe_loans', max_depth = 6, \n",
    "                               min_node_size = 0, min_error_reduction=0)"
   ]
  },
  {
   "cell_type": "code",
   "execution_count": 131,
   "metadata": {
    "collapsed": false
   },
   "outputs": [
    {
     "name": "stdout",
     "output_type": "stream",
     "text": [
      "Best feature found term_ 36 months error 0.4216365785514722\n",
      "Reached early stopping condition - error reduction is less than min_error_reduction\n"
     ]
    }
   ],
   "source": [
    "model_6 = decision_tree_create(train_data, features, 'safe_loans', max_depth = 6, \n",
    "                               min_node_size = 0, min_error_reduction=5)"
   ]
  },
  {
   "cell_type": "code",
   "execution_count": 132,
   "metadata": {
    "collapsed": false
   },
   "outputs": [
    {
     "name": "stdout",
     "output_type": "stream",
     "text": [
      "Validation data, classification error (model 4): 0.616221456269\n",
      "Validation data, classification error (model 5): 0.616221456269\n",
      "Validation data, classification error (model 6): 0.496553209823\n"
     ]
    }
   ],
   "source": [
    "print(\"Validation data, classification error (model 4):\", evaluate_classification_error(model_4, validation_data, target))\n",
    "print(\"Validation data, classification error (model 5):\", evaluate_classification_error(model_5, validation_data, target))\n",
    "print(\"Validation data, classification error (model 6):\", evaluate_classification_error(model_6, validation_data, target))"
   ]
  },
  {
   "cell_type": "code",
   "execution_count": 133,
   "metadata": {
    "collapsed": false
   },
   "outputs": [
    {
     "data": {
      "text/plain": [
       "19"
      ]
     },
     "execution_count": 133,
     "metadata": {},
     "output_type": "execute_result"
    }
   ],
   "source": [
    "count_leaves(model_4)"
   ]
  },
  {
   "cell_type": "code",
   "execution_count": 134,
   "metadata": {
    "collapsed": false
   },
   "outputs": [
    {
     "data": {
      "text/plain": [
       "19"
      ]
     },
     "execution_count": 134,
     "metadata": {},
     "output_type": "execute_result"
    }
   ],
   "source": [
    "count_leaves(model_5)"
   ]
  },
  {
   "cell_type": "code",
   "execution_count": 135,
   "metadata": {
    "collapsed": false
   },
   "outputs": [
    {
     "data": {
      "text/plain": [
       "1"
      ]
     },
     "execution_count": 135,
     "metadata": {},
     "output_type": "execute_result"
    }
   ],
   "source": [
    "count_leaves(model_6)"
   ]
  },
  {
   "cell_type": "code",
   "execution_count": 136,
   "metadata": {
    "collapsed": true
   },
   "outputs": [],
   "source": [
    "# Explor the effect of min_node_size"
   ]
  },
  {
   "cell_type": "code",
   "execution_count": 137,
   "metadata": {
    "collapsed": false
   },
   "outputs": [
    {
     "name": "stdout",
     "output_type": "stream",
     "text": [
      "Best feature found term_ 36 months error 0.4216365785514722\n",
      "Split on feature term_ 36 months, (9223, 28001)\n",
      "Best feature found grade_A error 0.34674184104955\n",
      "Split on feature grade_A, (9122, 101)\n",
      "Best feature found grade_B error 0.34630563472922604\n",
      "Split on feature grade_B, (8074, 1048)\n",
      "Best feature found grade_C error 0.33415902898191724\n",
      "Split on feature grade_C, (5884, 2190)\n",
      "Best feature found grade_D error 0.30319510537049627\n",
      "Split on feature grade_D, (3826, 2058)\n",
      "Best feature found grade_E error 0.2773131207527444\n",
      "Split on feature grade_E, (1693, 2133)\n",
      "Reached early stopping condition - reached max depth\n",
      "Reached early stopping condition - reached max depth\n",
      "Best feature found grade_E error 0.35131195335276966\n",
      "Creating leaf node\n",
      "Best feature found grade_D error 0.41735159817351597\n",
      "Creating leaf node\n",
      "Best feature found emp_length_5 years error 0.43702290076335876\n",
      "Split on feature emp_length_5 years, (969, 79)\n",
      "Best feature found grade_C error 0.43343653250773995\n",
      "Creating leaf node\n",
      "Best feature found home_ownership_MORTGAGE error 0.46835443037974683\n",
      "Split on feature home_ownership_MORTGAGE, (34, 45)\n",
      "Best feature found grade_C error 0.4411764705882353\n",
      "Creating leaf node\n",
      "Best feature found grade_C error 0.4888888888888889\n",
      "Creating leaf node\n",
      "Best feature found emp_length_n/a error 0.3564356435643564\n",
      "Split on feature emp_length_n/a, (96, 5)\n",
      "Best feature found emp_length_< 1 year error 0.3541666666666667\n",
      "Split on feature emp_length_< 1 year, (85, 11)\n",
      "Best feature found grade_B error 0.3411764705882353\n",
      "Creating leaf node\n",
      "Best feature found grade_B error 0.45454545454545453\n",
      "Creating leaf node\n",
      "Best feature found grade_B error 0.2\n",
      "Creating leaf node\n",
      "Best feature found grade_D error 0.4175922288489697\n",
      "Split on feature grade_D, (23300, 4701)\n",
      "Best feature found grade_E error 0.4039055793991416\n",
      "Split on feature grade_E, (22024, 1276)\n",
      "Best feature found grade_F error 0.3992008717762441\n",
      "Split on feature grade_F, (21666, 358)\n",
      "Best feature found emp_length_n/a error 0.39619680605557095\n",
      "Split on feature emp_length_n/a, (20734, 932)\n",
      "Best feature found grade_G error 0.39182019870743706\n",
      "Split on feature grade_G, (20638, 96)\n",
      "Reached early stopping condition - reached max depth\n",
      "Reached early stopping condition - reached max depth\n",
      "Best feature found grade_A error 0.38626609442060084\n",
      "Split on feature grade_A, (702, 230)\n",
      "Reached early stopping condition - reached max depth\n",
      "Reached early stopping condition - reached max depth\n",
      "Best feature found emp_length_8 years error 0.29329608938547486\n",
      "Split on feature emp_length_8 years, (347, 11)\n",
      "Best feature found grade_A error 0.2910662824207493\n",
      "Creating leaf node\n",
      "Best feature found home_ownership_OWN error 0.18181818181818182\n",
      "Split on feature home_ownership_OWN, (9, 2)\n",
      "Reached early stopping condition - reached max depth\n",
      "Reached stopping condition - all same category\n",
      "Best feature found grade_A error 0.3738244514106583\n",
      "Creating leaf node\n",
      "Best feature found grade_A error 0.4169325675388215\n",
      "Creating leaf node\n"
     ]
    }
   ],
   "source": [
    "model_7 = decision_tree_create(train_data, features, 'safe_loans', max_depth = 6, \n",
    "                               min_node_size = 0, min_error_reduction=-1)"
   ]
  },
  {
   "cell_type": "code",
   "execution_count": 138,
   "metadata": {
    "collapsed": false
   },
   "outputs": [
    {
     "name": "stdout",
     "output_type": "stream",
     "text": [
      "Best feature found term_ 36 months error 0.4216365785514722\n",
      "Split on feature term_ 36 months, (9223, 28001)\n",
      "Best feature found grade_A error 0.34674184104955\n",
      "Split on feature grade_A, (9122, 101)\n",
      "Best feature found grade_B error 0.34630563472922604\n",
      "Split on feature grade_B, (8074, 1048)\n",
      "Best feature found grade_C error 0.33415902898191724\n",
      "Split on feature grade_C, (5884, 2190)\n",
      "Best feature found grade_D error 0.30319510537049627\n",
      "Split on feature grade_D, (3826, 2058)\n",
      "Best feature found grade_E error 0.2773131207527444\n",
      "Split on feature grade_E, (1693, 2133)\n",
      "Reached early stopping condition - reached max depth\n",
      "Reached early stopping condition - reached max depth\n",
      "Best feature found grade_E error 0.35131195335276966\n",
      "Creating leaf node\n",
      "Best feature found grade_D error 0.41735159817351597\n",
      "Creating leaf node\n",
      "Reached early stopping condition - too few data in this node\n",
      "Reached early stopping condition - too few data in this node\n",
      "Best feature found grade_D error 0.4175922288489697\n",
      "Split on feature grade_D, (23300, 4701)\n",
      "Best feature found grade_E error 0.4039055793991416\n",
      "Split on feature grade_E, (22024, 1276)\n",
      "Best feature found grade_F error 0.3992008717762441\n",
      "Split on feature grade_F, (21666, 358)\n",
      "Best feature found emp_length_n/a error 0.39619680605557095\n",
      "Split on feature emp_length_n/a, (20734, 932)\n",
      "Best feature found grade_G error 0.39182019870743706\n",
      "Split on feature grade_G, (20638, 96)\n",
      "Reached early stopping condition - reached max depth\n",
      "Reached early stopping condition - reached max depth\n",
      "Reached early stopping condition - too few data in this node\n",
      "Reached early stopping condition - too few data in this node\n",
      "Reached early stopping condition - too few data in this node\n",
      "Best feature found grade_A error 0.4169325675388215\n",
      "Creating leaf node\n"
     ]
    }
   ],
   "source": [
    "model_8 = decision_tree_create(train_data, features, 'safe_loans', max_depth = 6, \n",
    "                               min_node_size = 2000, min_error_reduction=-1)"
   ]
  },
  {
   "cell_type": "code",
   "execution_count": 89,
   "metadata": {
    "collapsed": false
   },
   "outputs": [
    {
     "name": "stdout",
     "output_type": "stream",
     "text": [
      "Reached early stopping condition - too few data in this node\n"
     ]
    }
   ],
   "source": [
    "model_9 = decision_tree_create(train_data, features, 'safe_loans', max_depth = 6, \n",
    "                               min_node_size = 50000, min_error_reduction=-1)"
   ]
  },
  {
   "cell_type": "code",
   "execution_count": 91,
   "metadata": {
    "collapsed": false
   },
   "outputs": [
    {
     "name": "stdout",
     "output_type": "stream",
     "text": [
      "Validation data, classification error (model 7): 0.616221456269\n",
      "Validation data, classification error (model 8): 0.615467470918\n",
      "Validation data, classification error (model 9): 0.496553209823\n"
     ]
    }
   ],
   "source": [
    "print(\"Validation data, classification error (model 7):\", evaluate_classification_error(model_7, validation_data, target))\n",
    "print(\"Validation data, classification error (model 8):\", evaluate_classification_error(model_8, validation_data, target))\n",
    "print(\"Validation data, classification error (model 9):\", evaluate_classification_error(model_9, validation_data, target))"
   ]
  },
  {
   "cell_type": "code",
   "execution_count": 92,
   "metadata": {
    "collapsed": false
   },
   "outputs": [
    {
     "data": {
      "text/plain": [
       "19"
      ]
     },
     "execution_count": 92,
     "metadata": {},
     "output_type": "execute_result"
    }
   ],
   "source": [
    "count_leaves(model_7)"
   ]
  },
  {
   "cell_type": "code",
   "execution_count": 93,
   "metadata": {
    "collapsed": false
   },
   "outputs": [
    {
     "data": {
      "text/plain": [
       "12"
      ]
     },
     "execution_count": 93,
     "metadata": {},
     "output_type": "execute_result"
    }
   ],
   "source": [
    "count_leaves(model_8)"
   ]
  },
  {
   "cell_type": "code",
   "execution_count": 94,
   "metadata": {
    "collapsed": false
   },
   "outputs": [
    {
     "data": {
      "text/plain": [
       "1"
      ]
     },
     "execution_count": 94,
     "metadata": {},
     "output_type": "execute_result"
    }
   ],
   "source": [
    "count_leaves(model_9)"
   ]
  },
  {
   "cell_type": "code",
   "execution_count": null,
   "metadata": {
    "collapsed": true
   },
   "outputs": [],
   "source": []
  }
 ],
 "metadata": {
  "kernelspec": {
   "display_name": "Python 3",
   "language": "python",
   "name": "python3"
  },
  "language_info": {
   "codemirror_mode": {
    "name": "ipython",
    "version": 3
   },
   "file_extension": ".py",
   "mimetype": "text/x-python",
   "name": "python",
   "nbconvert_exporter": "python",
   "pygments_lexer": "ipython3",
   "version": "3.5.1"
  }
 },
 "nbformat": 4,
 "nbformat_minor": 0
}
