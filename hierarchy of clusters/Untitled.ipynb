{
 "cells": [
  {
   "cell_type": "code",
   "execution_count": 1,
   "metadata": {
    "collapsed": true
   },
   "outputs": [],
   "source": [
    "import pandas as pd                                  # see below for install instruction\n",
    "import matplotlib.pyplot as plt\n",
    "import numpy as np\n",
    "from scipy.sparse import csr_matrix\n",
    "from sklearn.cluster import KMeans                # we'll be using scikit-learn's KMeans for this assignment\n",
    "from sklearn.metrics import pairwise_distances\n",
    "from sklearn.preprocessing import normalize\n",
    "%matplotlib inline"
   ]
  },
  {
   "cell_type": "code",
   "execution_count": 3,
   "metadata": {
    "collapsed": false
   },
   "outputs": [],
   "source": [
    "wiki = pd.read_csv('people_wiki.csv')"
   ]
  },
  {
   "cell_type": "code",
   "execution_count": 4,
   "metadata": {
    "collapsed": true
   },
   "outputs": [],
   "source": [
    "def load_sparse_csr(filename):\n",
    "    loader = np.load(filename)\n",
    "    data = loader['data']\n",
    "    indices = loader['indices']\n",
    "    indptr = loader['indptr']\n",
    "    shape = loader['shape']\n",
    "    \n",
    "    return csr_matrix( (data, indices, indptr), shape)\n",
    "\n",
    "tf_idf = load_sparse_csr('people_wiki_tf_idf.npz')\n",
    "map_index_to_word = pd.read_json('people_wiki_map_index_to_word.json', typ='series', orient='records')"
   ]
  },
  {
   "cell_type": "code",
   "execution_count": 61,
   "metadata": {
    "collapsed": true
   },
   "outputs": [],
   "source": [
    "inv_map = {v: k for k, v in map_index_to_word.items()}"
   ]
  },
  {
   "cell_type": "code",
   "execution_count": 5,
   "metadata": {
    "collapsed": true
   },
   "outputs": [],
   "source": [
    "tf_idf = normalize(tf_idf)"
   ]
  },
  {
   "cell_type": "code",
   "execution_count": 47,
   "metadata": {
    "collapsed": true
   },
   "outputs": [],
   "source": [
    "def bipartition(cluster, maxiter=400, num_runs=4, seed=None):\n",
    "    '''cluster: should be a dictionary containing the following keys\n",
    "                * dataframe: original dataframe\n",
    "                * matrix:    same data, in matrix format\n",
    "                * centroid:  centroid for this particular cluster'''\n",
    "    \n",
    "    data_matrix = cluster['matrix']\n",
    "    dataframe   = cluster['dataframe']\n",
    "    \n",
    "    # Run k-means on the data matrix with k=2. We use scikit-learn here to simplify workflow.\n",
    "    kmeans_model = KMeans(n_clusters=2, max_iter=maxiter, n_init=num_runs, random_state=seed, n_jobs=-1)    \n",
    "    kmeans_model.fit(data_matrix)\n",
    "    centroids, cluster_assignment = kmeans_model.cluster_centers_, kmeans_model.labels_\n",
    "    \n",
    "    # Divide the data matrix into two parts using the cluster assignments.\n",
    "    data_matrix_left_child, data_matrix_right_child = data_matrix[cluster_assignment==0], \\\n",
    "                                                      data_matrix[cluster_assignment==1]\n",
    "    # Divide the dataframe into two parts, again using the cluster assignments.\n",
    "    #cluster_assignment_sa = pd.Series(cluster_assignment) # minor format conversion\n",
    "    dataframe_left_child, dataframe_right_child     = dataframe[cluster_assignment==0], \\\n",
    "                                                      dataframe[cluster_assignment==1]\n",
    "        \n",
    "    \n",
    "    # Package relevant variables for the child clusters\n",
    "    cluster_left_child  = {'matrix': data_matrix_left_child,\n",
    "                           'dataframe': dataframe_left_child,\n",
    "                           'centroid': centroids[0]}\n",
    "    cluster_right_child = {'matrix': data_matrix_right_child,\n",
    "                           'dataframe': dataframe_right_child,\n",
    "                           'centroid': centroids[1]}\n",
    "    return (cluster_left_child, cluster_right_child)"
   ]
  },
  {
   "cell_type": "code",
   "execution_count": 48,
   "metadata": {
    "collapsed": false
   },
   "outputs": [],
   "source": [
    "wiki_data = {'matrix': tf_idf, 'dataframe': wiki} # no 'centroid' for the root cluster\n",
    "left_child, right_child = bipartition(wiki_data, maxiter=100, num_runs=6, seed=1)"
   ]
  },
  {
   "cell_type": "code",
   "execution_count": 62,
   "metadata": {
    "collapsed": true
   },
   "outputs": [],
   "source": [
    "def display_single_tf_idf_cluster(cluster, map_index_to_word):\n",
    "    '''map_index_to_word: SFrame specifying the mapping betweeen words and column indices'''\n",
    "    \n",
    "    wiki_subset   = cluster['dataframe']\n",
    "    tf_idf_subset = cluster['matrix']\n",
    "    centroid      = cluster['centroid']\n",
    "    \n",
    "    # Print top 5 words with largest TF-IDF weights in the cluster\n",
    "    idx = centroid.argsort()[::-1]\n",
    "    for i in range(5):\n",
    "        print('{0:s}:{1:.3f}'.format(inv_map[idx[i]], centroid[idx[i]])),\n",
    "    print('')\n",
    "    \n",
    "    # Compute distances from the centroid to all data points in the cluster.\n",
    "    distances = pairwise_distances(tf_idf_subset, [centroid], metric='euclidean').flatten()\n",
    "    # compute nearest neighbors of the centroid within the cluster.\n",
    "    nearest_neighbors = distances.argsort()\n",
    "    # For 8 nearest neighbors, print the title as well as first 180 characters of text.\n",
    "    # Wrap the text at 80-character mark.\n",
    "    for i in range(8):\n",
    "        text = ' '.join(wiki_subset.iloc[nearest_neighbors[i]]['text'].split(None, 25)[0:25])\n",
    "        print('* {0:50s} {1:.5f}\\n  {2:s}\\n  {3:s}'.format(wiki_subset.iloc[nearest_neighbors[i]]['name'],\n",
    "              distances[nearest_neighbors[i]], text[:90], text[90:180] if len(text) > 90 else ''))\n",
    "    print('')"
   ]
  },
  {
   "cell_type": "code",
   "execution_count": 63,
   "metadata": {
    "collapsed": false
   },
   "outputs": [
    {
     "name": "stdout",
     "output_type": "stream",
     "text": [
      "league:0.040\n",
      "season:0.036\n",
      "team:0.029\n",
      "football:0.029\n",
      "played:0.028\n",
      "\n",
      "* Todd Williams                                      0.95468\n",
      "  todd michael williams born february 13 1971 in syracuse new york is a former major league \n",
      "  baseball relief pitcher he attended east syracuseminoa high school\n",
      "* Gord Sherven                                       0.95622\n",
      "  gordon r sherven born august 21 1963 in gravelbourg saskatchewan and raised in mankota sas\n",
      "  katchewan is a retired canadian professional ice hockey forward who played\n",
      "* Justin Knoedler                                    0.95639\n",
      "  justin joseph knoedler born july 17 1980 in springfield illinois is a former major league \n",
      "  baseball catcherknoedler was originally drafted by the st louis cardinals\n",
      "* Chris Day                                          0.95648\n",
      "  christopher nicholas chris day born 28 july 1975 is an english professional footballer who\n",
      "   plays as a goalkeeper for stevenageday started his career at tottenham\n",
      "* Tony Smith (footballer, born 1957)                 0.95653\n",
      "  anthony tony smith born 20 february 1957 is a former footballer who played as a central de\n",
      "  fender in the football league in the 1970s and\n",
      "* Ashley Prescott                                    0.95761\n",
      "  ashley prescott born 11 september 1972 is a former australian rules footballer he played w\n",
      "  ith the richmond and fremantle football clubs in the afl between\n",
      "* Leslie Lea                                         0.95802\n",
      "  leslie lea born 5 october 1942 in manchester is an english former professional footballer \n",
      "  he played as a midfielderlea began his professional career with blackpool\n",
      "* Tommy Anderson (footballer)                        0.95818\n",
      "  thomas cowan tommy anderson born 24 september 1934 in haddington is a scottish former prof\n",
      "  essional footballer he played as a forward and was noted for\n",
      "\n",
      "she:0.025\n",
      "her:0.017\n",
      "music:0.012\n",
      "he:0.011\n",
      "university:0.011\n",
      "\n",
      "* Anita Kunz                                         0.97401\n",
      "  anita e kunz oc born 1956 is a canadianborn artist and illustratorkunz has lived in london\n",
      "   new york and toronto contributing to magazines and working\n",
      "* Janet Jackson                                      0.97472\n",
      "  janet damita jo jackson born may 16 1966 is an american singer songwriter and actress know\n",
      "  n for a series of sonically innovative socially conscious and\n",
      "* Madonna (entertainer)                              0.97475\n",
      "  madonna louise ciccone tkoni born august 16 1958 is an american singer songwriter actress \n",
      "  and businesswoman she achieved popularity by pushing the boundaries of lyrical\n",
      "* %C3%81ine Hyland                                   0.97536\n",
      "  ine hyland ne donlon is emeritus professor of education and former vicepresident of univer\n",
      "  sity college cork ireland she was born in 1942 in athboy co\n",
      "* Jane Fonda                                         0.97621\n",
      "  jane fonda born lady jayne seymour fonda december 21 1937 is an american actress writer po\n",
      "  litical activist former fashion model and fitness guru she is\n",
      "* Christine Robertson                                0.97643\n",
      "  christine mary robertson born 5 october 1948 is an australian politician and former austra\n",
      "  lian labor party member of the new south wales legislative council serving\n",
      "* Pat Studdy-Clift                                   0.97643\n",
      "  pat studdyclift is an australian author specialising in historical fiction and nonfictionb\n",
      "  orn in 1925 she lived in gunnedah until she was sent to a boarding\n",
      "* Alexandra Potter                                   0.97646\n",
      "  alexandra potter born 1970 is a british author of romantic comediesborn in bradford yorksh\n",
      "  ire england and educated at liverpool university gaining an honors degree in\n",
      "\n"
     ]
    }
   ],
   "source": [
    "display_single_tf_idf_cluster(left_child, map_index_to_word)\n",
    "display_single_tf_idf_cluster(right_child, map_index_to_word)"
   ]
  },
  {
   "cell_type": "code",
   "execution_count": 51,
   "metadata": {
    "collapsed": true
   },
   "outputs": [],
   "source": [
    "athletes = left_child\n",
    "non_athletes = right_child"
   ]
  },
  {
   "cell_type": "code",
   "execution_count": 52,
   "metadata": {
    "collapsed": false
   },
   "outputs": [],
   "source": [
    "# Bipartition the cluster of athletes\n",
    "left_child_athletes, right_child_athletes = bipartition(athletes, maxiter=100, num_runs=6, seed=1)"
   ]
  },
  {
   "cell_type": "code",
   "execution_count": 64,
   "metadata": {
    "collapsed": false
   },
   "outputs": [
    {
     "name": "stdout",
     "output_type": "stream",
     "text": [
      "league:0.054\n",
      "season:0.043\n",
      "football:0.038\n",
      "played:0.035\n",
      "coach:0.030\n",
      "\n",
      "* Tony Smith (footballer, born 1957)                 0.94677\n",
      "  anthony tony smith born 20 february 1957 is a former footballer who played as a central de\n",
      "  fender in the football league in the 1970s and\n",
      "* Justin Knoedler                                    0.94746\n",
      "  justin joseph knoedler born july 17 1980 in springfield illinois is a former major league \n",
      "  baseball catcherknoedler was originally drafted by the st louis cardinals\n",
      "* Chris Day                                          0.94849\n",
      "  christopher nicholas chris day born 28 july 1975 is an english professional footballer who\n",
      "   plays as a goalkeeper for stevenageday started his career at tottenham\n",
      "* Todd Williams                                      0.94882\n",
      "  todd michael williams born february 13 1971 in syracuse new york is a former major league \n",
      "  baseball relief pitcher he attended east syracuseminoa high school\n",
      "* Todd Curley                                        0.95007\n",
      "  todd curley born 14 january 1973 is a former australian rules footballer who played for co\n",
      "  llingwood and the western bulldogs in the australian football league\n",
      "* Ashley Prescott                                    0.95015\n",
      "  ashley prescott born 11 september 1972 is a former australian rules footballer he played w\n",
      "  ith the richmond and fremantle football clubs in the afl between\n",
      "* Tommy Anderson (footballer)                        0.95037\n",
      "  thomas cowan tommy anderson born 24 september 1934 in haddington is a scottish former prof\n",
      "  essional footballer he played as a forward and was noted for\n",
      "* Leslie Lea                                         0.95065\n",
      "  leslie lea born 5 october 1942 in manchester is an english former professional footballer \n",
      "  he played as a midfielderlea began his professional career with blackpool\n",
      "\n"
     ]
    }
   ],
   "source": [
    "display_single_tf_idf_cluster(left_child_athletes, map_index_to_word)"
   ]
  },
  {
   "cell_type": "code",
   "execution_count": 65,
   "metadata": {
    "collapsed": false
   },
   "outputs": [
    {
     "name": "stdout",
     "output_type": "stream",
     "text": [
      "championships:0.045\n",
      "tour:0.043\n",
      "championship:0.035\n",
      "world:0.031\n",
      "won:0.031\n",
      "\n",
      "* Alessandra Aguilar                                 0.93880\n",
      "  alessandra aguilar born 1 july 1978 in lugo is a spanish longdistance runner who specialis\n",
      "  es in marathon running she represented her country in the event\n",
      "* Heather Samuel                                     0.93999\n",
      "  heather barbara samuel born 6 july 1970 is a retired sprinter from antigua and barbuda who\n",
      "   specialized in the 100 and 200 metres in 1990\n",
      "* Viola Kibiwot                                      0.94037\n",
      "  viola jelagat kibiwot born december 22 1983 in keiyo district is a runner from kenya who s\n",
      "  pecialises in the 1500 metres kibiwot won her first\n",
      "* Ayelech Worku                                      0.94052\n",
      "  ayelech worku born june 12 1979 is an ethiopian longdistance runner most known for winning\n",
      "   two world championships bronze medals on the 5000 metres she\n",
      "* Krisztina Papp                                     0.94105\n",
      "  krisztina papp born 17 december 1982 in eger is a hungarian long distance runner she is th\n",
      "  e national indoor record holder over 5000 mpapp began\n",
      "* Petra Lammert                                      0.94230\n",
      "  petra lammert born 3 march 1984 in freudenstadt badenwrttemberg is a former german shot pu\n",
      "  tter and current bobsledder she was the 2009 european indoor champion\n",
      "* Morhad Amdouni                                     0.94231\n",
      "  morhad amdouni born 21 january 1988 in portovecchio is a french middle and longdistance ru\n",
      "  nner he was european junior champion in track and cross country\n",
      "* Brian Davis (golfer)                               0.94378\n",
      "  brian lester davis born 2 august 1974 is an english professional golferdavis was born in l\n",
      "  ondon he turned professional in 1994 and became a member\n",
      "\n"
     ]
    }
   ],
   "source": [
    "display_single_tf_idf_cluster(right_child_athletes, map_index_to_word)"
   ]
  },
  {
   "cell_type": "code",
   "execution_count": 66,
   "metadata": {
    "collapsed": false
   },
   "outputs": [
    {
     "name": "stdout",
     "output_type": "stream",
     "text": [
      "championships:0.045\n",
      "tour:0.043\n",
      "championship:0.035\n",
      "world:0.031\n",
      "won:0.031\n",
      "\n",
      "* Alessandra Aguilar                                 0.93880\n",
      "  alessandra aguilar born 1 july 1978 in lugo is a spanish longdistance runner who specialis\n",
      "  es in marathon running she represented her country in the event\n",
      "* Heather Samuel                                     0.93999\n",
      "  heather barbara samuel born 6 july 1970 is a retired sprinter from antigua and barbuda who\n",
      "   specialized in the 100 and 200 metres in 1990\n",
      "* Viola Kibiwot                                      0.94037\n",
      "  viola jelagat kibiwot born december 22 1983 in keiyo district is a runner from kenya who s\n",
      "  pecialises in the 1500 metres kibiwot won her first\n",
      "* Ayelech Worku                                      0.94052\n",
      "  ayelech worku born june 12 1979 is an ethiopian longdistance runner most known for winning\n",
      "   two world championships bronze medals on the 5000 metres she\n",
      "* Krisztina Papp                                     0.94105\n",
      "  krisztina papp born 17 december 1982 in eger is a hungarian long distance runner she is th\n",
      "  e national indoor record holder over 5000 mpapp began\n",
      "* Petra Lammert                                      0.94230\n",
      "  petra lammert born 3 march 1984 in freudenstadt badenwrttemberg is a former german shot pu\n",
      "  tter and current bobsledder she was the 2009 european indoor champion\n",
      "* Morhad Amdouni                                     0.94231\n",
      "  morhad amdouni born 21 january 1988 in portovecchio is a french middle and longdistance ru\n",
      "  nner he was european junior champion in track and cross country\n",
      "* Brian Davis (golfer)                               0.94378\n",
      "  brian lester davis born 2 august 1974 is an english professional golferdavis was born in l\n",
      "  ondon he turned professional in 1994 and became a member\n",
      "\n"
     ]
    }
   ],
   "source": [
    "display_single_tf_idf_cluster(right_child_athletes, map_index_to_word)"
   ]
  },
  {
   "cell_type": "code",
   "execution_count": 56,
   "metadata": {
    "collapsed": true
   },
   "outputs": [],
   "source": [
    "baseball            = left_child_athletes\n",
    "ice_hockey_football = right_child_athletes"
   ]
  },
  {
   "cell_type": "code",
   "execution_count": 67,
   "metadata": {
    "collapsed": false
   },
   "outputs": [
    {
     "name": "stdout",
     "output_type": "stream",
     "text": [
      "championships:0.064\n",
      "world:0.039\n",
      "she:0.038\n",
      "metres:0.038\n",
      "olympics:0.037\n",
      "\n",
      "* Heather Samuel                                     0.91590\n",
      "  heather barbara samuel born 6 july 1970 is a retired sprinter from antigua and barbuda who\n",
      "   specialized in the 100 and 200 metres in 1990\n",
      "* Krisztina Papp                                     0.91672\n",
      "  krisztina papp born 17 december 1982 in eger is a hungarian long distance runner she is th\n",
      "  e national indoor record holder over 5000 mpapp began\n",
      "* Ayelech Worku                                      0.91892\n",
      "  ayelech worku born june 12 1979 is an ethiopian longdistance runner most known for winning\n",
      "   two world championships bronze medals on the 5000 metres she\n",
      "* Viola Kibiwot                                      0.91906\n",
      "  viola jelagat kibiwot born december 22 1983 in keiyo district is a runner from kenya who s\n",
      "  pecialises in the 1500 metres kibiwot won her first\n",
      "* Alessandra Aguilar                                 0.91955\n",
      "  alessandra aguilar born 1 july 1978 in lugo is a spanish longdistance runner who specialis\n",
      "  es in marathon running she represented her country in the event\n",
      "* Antonina Yefremova                                 0.92054\n",
      "  antonina yefremova born 19 july 1981 is a ukrainian sprinter who specializes in the 400 me\n",
      "  tres yefremova received a twoyear ban in 2012 for using\n",
      "* Marian Burnett                                     0.92251\n",
      "  marian joan burnett born 22 february 1976 in linden is a female middledistance runner from\n",
      "   guyana who specialises in the 800 metres she competed in\n",
      "* Wang Xiuting                                       0.92377\n",
      "  wang xiuting chinese born 11 may 1965 in shandong is a chinese former longdistance runners\n",
      "  he rose to prominence with a victory in the 10000 metres\n",
      "\n",
      "tour:0.118\n",
      "pga:0.089\n",
      "racing:0.062\n",
      "golf:0.060\n",
      "championship:0.054\n",
      "\n",
      "* Bob Heintz                                         0.88057\n",
      "  robert edward heintz born may 1 1970 is an american professional golfer who plays on the n\n",
      "  ationwide tourheintz was born in syosset new york he\n",
      "* Tim Conley                                         0.88274\n",
      "  tim conley born december 8 1958 is an american professional golfer who played on the pga t\n",
      "  our nationwide tour and most recently the champions tourconley\n",
      "* Bruce Zabriski                                     0.88279\n",
      "  bruce zabriski born august 3 1957 is an american professional golfer who played on the pga\n",
      "   tour european tour and the nationwide tourzabriski joined the\n",
      "* Sonny Skinner                                      0.88438\n",
      "  sonny skinner born august 18 1960 is an american professional golfer who plays on the cham\n",
      "  pions tourskinner was born in portsmouth virginia he turned professional\n",
      "* Brian Davis (golfer)                               0.88482\n",
      "  brian lester davis born 2 august 1974 is an english professional golferdavis was born in l\n",
      "  ondon he turned professional in 1994 and became a member\n",
      "* Greg Chalmers                                      0.88501\n",
      "  greg j chalmers born 11 october 1973 is an australian professional golfer who has played o\n",
      "  n both the european tour and the pga tourchalmers was\n",
      "* Todd Barranger                                     0.88552\n",
      "  todd barranger born october 19 1968 is an american professional golfer who played on the p\n",
      "  ga tour asian tour and the nationwide tourbarranger joined the\n",
      "* Dick Mast                                          0.88830\n",
      "  richard mast born march 23 1951 is an american professional golfer who has played on the p\n",
      "  ga tour nationwide tour and champions tourmast was born\n",
      "\n"
     ]
    }
   ],
   "source": [
    "left_child_ihs, right_child_ihs = bipartition(ice_hockey_football, maxiter=100, num_runs=6, seed=1)\n",
    "display_single_tf_idf_cluster(left_child_ihs, map_index_to_word)\n",
    "display_single_tf_idf_cluster(right_child_ihs, map_index_to_word)"
   ]
  },
  {
   "cell_type": "code",
   "execution_count": 68,
   "metadata": {
    "collapsed": false
   },
   "outputs": [
    {
     "name": "stdout",
     "output_type": "stream",
     "text": [
      "university:0.016\n",
      "he:0.013\n",
      "she:0.013\n",
      "law:0.012\n",
      "served:0.012\n",
      "\n",
      "* Barry Sullivan (lawyer)                            0.97227\n",
      "  barry sullivan is a chicago lawyer and as of july 1 2009 the cooney conway chair in advoca\n",
      "  cy at loyola university chicago school of law\n",
      "* Kayee Griffin                                      0.97444\n",
      "  kayee frances griffin born 6 february 1950 is an australian politician and former australi\n",
      "  an labor party member of the new south wales legislative council serving\n",
      "* Christine Robertson                                0.97450\n",
      "  christine mary robertson born 5 october 1948 is an australian politician and former austra\n",
      "  lian labor party member of the new south wales legislative council serving\n",
      "* James A. Joseph                                    0.97464\n",
      "  james a joseph born 1935 is an american former diplomatjoseph is professor of the practice\n",
      "   of public policy studies at duke university and founder of\n",
      "* David Anderson (British Columbia politician)       0.97492\n",
      "  david a anderson pc oc born august 16 1937 in victoria british columbia is a former canadi\n",
      "  an cabinet minister educated at victoria college in victoria\n",
      "* Mary Ellen Coster Williams                         0.97594\n",
      "  mary ellen coster williams born april 3 1953 is a judge of the united states court of fede\n",
      "  ral claims appointed to that court in 2003\n",
      "* Sven Erik Holmes                                   0.97600\n",
      "  sven erik holmes is a former federal judge and currently the vice chairman legal risk and \n",
      "  regulatory and chief legal officer for kpmg llp a\n",
      "* Andrew Fois                                        0.97652\n",
      "  andrew fois is an attorney living and working in washington dc as of april 9 2012 he will \n",
      "  be serving as the deputy attorney general\n",
      "\n",
      "she:0.039\n",
      "her:0.030\n",
      "music:0.023\n",
      "film:0.021\n",
      "album:0.015\n",
      "\n",
      "* Madonna (entertainer)                              0.96092\n",
      "  madonna louise ciccone tkoni born august 16 1958 is an american singer songwriter actress \n",
      "  and businesswoman she achieved popularity by pushing the boundaries of lyrical\n",
      "* Janet Jackson                                      0.96153\n",
      "  janet damita jo jackson born may 16 1966 is an american singer songwriter and actress know\n",
      "  n for a series of sonically innovative socially conscious and\n",
      "* Cher                                               0.96540\n",
      "  cher r born cherilyn sarkisian may 20 1946 is an american singer actress and television ho\n",
      "  st described as embodying female autonomy in a maledominated industry\n",
      "* Laura Smith                                        0.96600\n",
      "  laura smith is a canadian folk singersongwriter she is best known for her 1995 single shad\n",
      "  e of your love one of the years biggest hits\n",
      "* Natashia Williams                                  0.96677\n",
      "  natashia williamsblach born august 2 1978 is an american actress and former wonderbra camp\n",
      "  aign model who is perhaps best known for her role as shane\n",
      "* Anita Kunz                                         0.96716\n",
      "  anita e kunz oc born 1956 is a canadianborn artist and illustratorkunz has lived in london\n",
      "   new york and toronto contributing to magazines and working\n",
      "* Maggie Smith                                       0.96747\n",
      "  dame margaret natalie maggie smith ch dbe born 28 december 1934 is an english actress she \n",
      "  made her stage debut in 1952 and has had\n",
      "* Lizzie West                                        0.96752\n",
      "  lizzie west born in brooklyn ny on july 21 1973 is a singersongwriter her music can be des\n",
      "  cribed as a blend of many genres including\n",
      "\n"
     ]
    }
   ],
   "source": [
    "# Bipartition the cluster of non-athletes\n",
    "left_child_non_athletes, right_child_non_athletes = bipartition(non_athletes, maxiter=100, num_runs=6, seed=1)\n",
    "\n",
    "display_single_tf_idf_cluster(left_child_non_athletes, map_index_to_word)\n",
    "display_single_tf_idf_cluster(right_child_non_athletes, map_index_to_word)"
   ]
  },
  {
   "cell_type": "code",
   "execution_count": 70,
   "metadata": {
    "collapsed": true
   },
   "outputs": [],
   "source": [
    "male_non_athletes = left_child_non_athletes\n",
    "female_non_athletes = right_child_non_athletes"
   ]
  },
  {
   "cell_type": "code",
   "execution_count": 72,
   "metadata": {
    "collapsed": false
   },
   "outputs": [
    {
     "name": "stdout",
     "output_type": "stream",
     "text": [
      "party:0.039\n",
      "election:0.036\n",
      "minister:0.033\n",
      "she:0.028\n",
      "elected:0.026\n",
      "\n",
      "* Kayee Griffin                                      0.95170\n",
      "  kayee frances griffin born 6 february 1950 is an australian politician and former australi\n",
      "  an labor party member of the new south wales legislative council serving\n",
      "* Marcelle Mersereau                                 0.95417\n",
      "  marcelle mersereau born february 14 1942 in pointeverte new brunswick is a canadian politi\n",
      "  cian a civil servant for most of her career she also served\n",
      "* Lucienne Robillard                                 0.95453\n",
      "  lucienne robillard pc born june 16 1945 is a canadian politician and a member of the liber\n",
      "  al party of canada she sat in the house\n",
      "* Maureen Lyster                                     0.95590\n",
      "  maureen anne lyster born 10 september 1943 is an australian politician she was an australi\n",
      "  an labor party member of the victorian legislative assembly from 1985\n",
      "* Liz Cunningham                                     0.95690\n",
      "  elizabeth anne liz cunningham is an australian politician she was an independent member of\n",
      "   the legislative assembly of queensland from 1995 to 2015 representing the\n",
      "* Carol Skelton                                      0.95780\n",
      "  carol skelton pc born december 12 1945 in biggar saskatchewan is a canadian politician she\n",
      "   is a member of the security intelligence review committee which\n",
      "* Stephen Harper                                     0.95816\n",
      "  stephen joseph harper pc mp born april 30 1959 is a canadian politician who is the 22nd an\n",
      "  d current prime minister of canada and the\n",
      "* Doug Lewis                                         0.95875\n",
      "  douglas grinslade doug lewis pc qc born april 17 1938 is a former canadian politician a ch\n",
      "  artered accountant and lawyer by training lewis entered the\n",
      "\n",
      "university:0.018\n",
      "research:0.015\n",
      "professor:0.013\n",
      "he:0.013\n",
      "president:0.010\n",
      "\n",
      "* Lawrence W. Green                                  0.97495\n",
      "  lawrence w green is best known by health education researchers as the originator of the pr\n",
      "  ecede model and codeveloper of the precedeproceed model which has\n",
      "* James A. Joseph                                    0.97506\n",
      "  james a joseph born 1935 is an american former diplomatjoseph is professor of the practice\n",
      "   of public policy studies at duke university and founder of\n",
      "* Timothy Luke                                       0.97584\n",
      "  timothy w luke is university distinguished professor of political science in the college o\n",
      "  f liberal arts and human sciences as well as program chair of\n",
      "* Archie Brown                                       0.97628\n",
      "  archibald haworth brown cmg fba commonly known as archie brown born 10 may 1938 is a briti\n",
      "  sh political scientist and historian in 2005 he became\n",
      "* Jerry L. Martin                                    0.97687\n",
      "  jerry l martin is chairman emeritus of the american council of trustees and alumni he serv\n",
      "  ed as president of acta from its founding in 1995\n",
      "* Ren%C3%A9e Fox                                     0.97713\n",
      "  rene c fox a summa cum laude graduate of smith college in 1949 earned her phd in sociology\n",
      "   in 1954 from radcliffe college harvard university\n",
      "* Robert Bates (political scientist)                 0.97732\n",
      "  robert hinrichs bates born 1942 is an american political scientist he is eaton professor o\n",
      "  f the science of government in the departments of government and\n",
      "* Ferdinand K. Levy                                  0.97737\n",
      "  ferdinand k levy was a famous management scientist with several important contributions to\n",
      "   system analysis he was a professor at georgia tech from 1972 until\n",
      "\n"
     ]
    }
   ],
   "source": [
    "left_child_male, right_child_male = bipartition(male_non_athletes, maxiter=100, num_runs=6, seed=1)\n",
    "\n",
    "display_single_tf_idf_cluster(left_child_male, map_index_to_word)\n",
    "display_single_tf_idf_cluster(right_child_male, map_index_to_word)"
   ]
  },
  {
   "cell_type": "code",
   "execution_count": 73,
   "metadata": {
    "collapsed": false
   },
   "outputs": [
    {
     "name": "stdout",
     "output_type": "stream",
     "text": [
      "music:0.027\n",
      "film:0.023\n",
      "album:0.017\n",
      "band:0.016\n",
      "art:0.015\n",
      "\n",
      "* Julian Knowles                                     0.96904\n",
      "  julian knowles is an australian composer and performer specialising in new and emerging te\n",
      "  chnologies his creative work spans the fields of composition for theatre dance\n",
      "* Peter Combe                                        0.97080\n",
      "  peter combe born 20 october 1948 is an australian childrens entertainer and musicianmusica\n",
      "  l genre childrens musiche has had 22 releases including seven gold albums two\n",
      "* Craig Pruess                                       0.97121\n",
      "  craig pruess born 1950 is an american composer musician arranger and gold platinum record \n",
      "  producer who has been living in britain since 1973 his career\n",
      "* Ceiri Torjussen                                    0.97169\n",
      "  ceiri torjussen born 1976 is a composer who has contributed music to dozens of film and te\n",
      "  levision productions in the ushis music was described by\n",
      "* Brenton Broadstock                                 0.97192\n",
      "  brenton broadstock ao born 1952 is an australian composerbroadstock was born in melbourne \n",
      "  he studied history politics and music at monash university and later composition\n",
      "* Michael Peter Smith                                0.97318\n",
      "  michael peter smith born september 7 1941 is a chicagobased singersongwriter rolling stone\n",
      "   magazine once called him the greatest songwriter in the english language he\n",
      "* Marc Hoffman                                       0.97356\n",
      "  marc hoffman born april 16 1961 is a composer of concert music and music for film pianist \n",
      "  vocalist recording artist and music educator hoffman grew\n",
      "* Tom Bancroft                                       0.97378\n",
      "  tom bancroft born 1967 london is a british jazz drummer and composer he began drumming age\n",
      "  d seven and started off playing jazz with his father\n",
      "\n",
      "she:0.124\n",
      "her:0.092\n",
      "film:0.015\n",
      "actress:0.015\n",
      "music:0.014\n",
      "\n",
      "* Janet Jackson                                      0.93374\n",
      "  janet damita jo jackson born may 16 1966 is an american singer songwriter and actress know\n",
      "  n for a series of sonically innovative socially conscious and\n",
      "* Barbara Hershey                                    0.93507\n",
      "  barbara hershey born barbara lynn herzstein february 5 1948 once known as barbara seagull \n",
      "  is an american actress in a career spanning nearly 50 years\n",
      "* Lauren Royal                                       0.93717\n",
      "  lauren royal born march 3 circa 1965 is a book writer from california royal has written bo\n",
      "  th historic and novelistic booksa selfproclaimed angels baseball fan\n",
      "* Alexandra Potter                                   0.93802\n",
      "  alexandra potter born 1970 is a british author of romantic comediesborn in bradford yorksh\n",
      "  ire england and educated at liverpool university gaining an honors degree in\n",
      "* Cher                                               0.93804\n",
      "  cher r born cherilyn sarkisian may 20 1946 is an american singer actress and television ho\n",
      "  st described as embodying female autonomy in a maledominated industry\n",
      "* Madonna (entertainer)                              0.93806\n",
      "  madonna louise ciccone tkoni born august 16 1958 is an american singer songwriter actress \n",
      "  and businesswoman she achieved popularity by pushing the boundaries of lyrical\n",
      "* Jane Fonda                                         0.93836\n",
      "  jane fonda born lady jayne seymour fonda december 21 1937 is an american actress writer po\n",
      "  litical activist former fashion model and fitness guru she is\n",
      "* Ellina Graypel                                     0.93927\n",
      "  ellina graypel born july 19 1972 is an awardwinning russian singersongwriter she was born \n",
      "  near the volga river in the heart of russia she spent\n",
      "\n"
     ]
    }
   ],
   "source": [
    "left_child_female, right_child_female = bipartition(female_non_athletes, maxiter=100, num_runs=6, seed=1)\n",
    "\n",
    "display_single_tf_idf_cluster(left_child_female, map_index_to_word)\n",
    "display_single_tf_idf_cluster(right_child_female, map_index_to_word)"
   ]
  },
  {
   "cell_type": "code",
   "execution_count": null,
   "metadata": {
    "collapsed": true
   },
   "outputs": [],
   "source": []
  }
 ],
 "metadata": {
  "kernelspec": {
   "display_name": "Python 3",
   "language": "python",
   "name": "python3"
  },
  "language_info": {
   "codemirror_mode": {
    "name": "ipython",
    "version": 3
   },
   "file_extension": ".py",
   "mimetype": "text/x-python",
   "name": "python",
   "nbconvert_exporter": "python",
   "pygments_lexer": "ipython3",
   "version": "3.5.1"
  }
 },
 "nbformat": 4,
 "nbformat_minor": 0
}
