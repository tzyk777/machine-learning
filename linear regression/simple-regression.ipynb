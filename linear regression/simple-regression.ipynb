{
 "cells": [
  {
   "cell_type": "markdown",
   "metadata": {},
   "source": [
    "# Regression Week 1: Simple Linear Regression"
   ]
  },
  {
   "cell_type": "markdown",
   "metadata": {},
   "source": [
    "In this notebook we will use data on house sales in King County to predict house prices using simple (one input) linear regression. You will:\n",
    "* Use graphlab SArray and SFrame functions to compute important summary statistics\n",
    "* Write a function to compute the Simple Linear Regression weights using the closed form solution\n",
    "* Write a function to make predictions of the output given the input feature\n",
    "* Turn the regression around to predict the input given the output\n",
    "* Compare two different models for predicting house prices\n",
    "\n",
    "In this notebook you will be provided with some already complete code as well as some code that you should complete yourself in order to answer quiz questions. The code we provide to complte is optional and is there to assist you with solving the problems but feel free to ignore the helper code and write your own."
   ]
  },
  {
   "cell_type": "markdown",
   "metadata": {},
   "source": [
    "# Fire up graphlab create"
   ]
  },
  {
   "cell_type": "code",
   "execution_count": 1,
   "metadata": {
    "collapsed": false
   },
   "outputs": [],
   "source": [
    "import graphlab"
   ]
  },
  {
   "cell_type": "markdown",
   "metadata": {},
   "source": [
    "# Load house sales data\n",
    "\n",
    "Dataset is from house sales in King County, the region where the city of Seattle, WA is located."
   ]
  },
  {
   "cell_type": "code",
   "execution_count": 2,
   "metadata": {
    "collapsed": false
   },
   "outputs": [
    {
     "name": "stdout",
     "output_type": "stream",
     "text": [
      "This non-commercial license of GraphLab Create for academic use is assigned to zeyangtao1020@gmail.com and will expire on September 22, 2017.\n"
     ]
    },
    {
     "name": "stderr",
     "output_type": "stream",
     "text": [
      "[INFO] graphlab.cython.cy_server: GraphLab Create v2.1 started. Logging: C:\\Users\\zeyang\\AppData\\Local\\Temp\\graphlab_server_1474814067.log.0\n"
     ]
    }
   ],
   "source": [
    "sales = graphlab.SFrame('kc_house_data.gl/')"
   ]
  },
  {
   "cell_type": "markdown",
   "metadata": {},
   "source": [
    "# Split data into training and testing"
   ]
  },
  {
   "cell_type": "markdown",
   "metadata": {},
   "source": [
    "We use seed=0 so that everyone running this notebook gets the same results.  In practice, you may set a random seed (or let GraphLab Create pick a random seed for you).  "
   ]
  },
  {
   "cell_type": "code",
   "execution_count": 3,
   "metadata": {
    "collapsed": false
   },
   "outputs": [],
   "source": [
    "train_data,test_data = sales.random_split(.8,seed=0)"
   ]
  },
  {
   "cell_type": "markdown",
   "metadata": {},
   "source": [
    "# Useful SFrame summary functions"
   ]
  },
  {
   "cell_type": "markdown",
   "metadata": {},
   "source": [
    "In order to make use of the closed form solution as well as take advantage of graphlab's built in functions we will review some important ones. In particular:\n",
    "* Computing the sum of an SArray\n",
    "* Computing the arithmetic average (mean) of an SArray\n",
    "* multiplying SArrays by constants\n",
    "* multiplying SArrays by other SArrays"
   ]
  },
  {
   "cell_type": "code",
   "execution_count": 4,
   "metadata": {
    "collapsed": false
   },
   "outputs": [
    {
     "name": "stdout",
     "output_type": "stream",
     "text": [
      "average price via method 1: 540088.141905\n",
      "average price via method 2: 540088.141905\n"
     ]
    }
   ],
   "source": [
    "# Let's compute the mean of the House Prices in King County in 2 different ways.\n",
    "prices = sales['price'] # extract the price column of the sales SFrame -- this is now an SArray\n",
    "\n",
    "# recall that the arithmetic average (the mean) is the sum of the prices divided by the total number of houses:\n",
    "sum_prices = prices.sum()\n",
    "num_houses = prices.size() # when prices is an SArray .size() returns its length\n",
    "avg_price_1 = sum_prices/num_houses\n",
    "avg_price_2 = prices.mean() # if you just want the average, the .mean() function\n",
    "print \"average price via method 1: \" + str(avg_price_1)\n",
    "print \"average price via method 2: \" + str(avg_price_2)"
   ]
  },
  {
   "cell_type": "markdown",
   "metadata": {},
   "source": [
    "As we see we get the same answer both ways"
   ]
  },
  {
   "cell_type": "code",
   "execution_count": 5,
   "metadata": {
    "collapsed": false
   },
   "outputs": [
    {
     "name": "stdout",
     "output_type": "stream",
     "text": [
      "the sum of price squared is: 9.21732513355e+15\n"
     ]
    }
   ],
   "source": [
    "# if we want to multiply every price by 0.5 it's a simple as:\n",
    "half_prices = 0.5*prices\n",
    "# Let's compute the sum of squares of price. We can multiply two SArrays of the same length elementwise also with *\n",
    "prices_squared = prices*prices\n",
    "sum_prices_squared = prices_squared.sum() # price_squared is an SArray of the squares and we want to add them up.\n",
    "print \"the sum of price squared is: \" + str(sum_prices_squared)"
   ]
  },
  {
   "cell_type": "markdown",
   "metadata": {},
   "source": [
    "Aside: The python notation x.xxe+yy means x.xx \\* 10^(yy). e.g 100 = 10^2 = 1*10^2 = 1e2 "
   ]
  },
  {
   "cell_type": "markdown",
   "metadata": {},
   "source": [
    "# Build a generic simple linear regression function "
   ]
  },
  {
   "cell_type": "markdown",
   "metadata": {},
   "source": [
    "Armed with these SArray functions we can use the closed form solution found from lecture to compute the slope and intercept for a simple linear regression on observations stored as SArrays: input_feature, output.\n",
    "\n",
    "Complete the following function (or write your own) to compute the simple linear regression slope and intercept:"
   ]
  },
  {
   "cell_type": "code",
   "execution_count": 6,
   "metadata": {
    "collapsed": false
   },
   "outputs": [],
   "source": [
    "def simple_linear_regression(input_feature, output):\n",
    "    N = output.size()\n",
    "    # compute the sum of input_feature and output\n",
    "    sum_x = input_feature.sum()\n",
    "    sum_y = output.sum()\n",
    "    \n",
    "    # compute the product of the output and the input_feature and its sum\n",
    "    product_sum = (input_feature*output).sum()\n",
    "    # compute the squared value of the input_feature and its sum\n",
    "    sqsum_x = (input_feature*input_feature).sum()\n",
    "    # use the formula for the slope\n",
    "    slope = (product_sum-sum_x*sum_y/N)/(sqsum_x-sum_x*sum_x/N)\n",
    "    # use the formula for the intercept\n",
    "    intercept = sum_y/N - slope*sum_x/N\n",
    "    \n",
    "    return (intercept, slope)"
   ]
  },
  {
   "cell_type": "markdown",
   "metadata": {},
   "source": [
    "We can test that our function works by passing it something where we know the answer. In particular we can generate a feature and then put the output exactly on a line: output = 1 + 1\\*input_feature then we know both our slope and intercept should be 1"
   ]
  },
  {
   "cell_type": "code",
   "execution_count": 7,
   "metadata": {
    "collapsed": false,
    "scrolled": true
   },
   "outputs": [
    {
     "name": "stdout",
     "output_type": "stream",
     "text": [
      "Intercept: 1\n",
      "Slope: 1\n"
     ]
    }
   ],
   "source": [
    "test_feature = graphlab.SArray(range(5))\n",
    "test_output = graphlab.SArray(1 + 1*test_feature)\n",
    "(test_intercept, test_slope) =  simple_linear_regression(test_feature, test_output)\n",
    "print \"Intercept: \" + str(test_intercept)\n",
    "print \"Slope: \" + str(test_slope)"
   ]
  },
  {
   "cell_type": "markdown",
   "metadata": {},
   "source": [
    "Now that we know it works let's build a regression model for predicting price based on sqft_living. Rembember that we train on train_data!"
   ]
  },
  {
   "cell_type": "code",
   "execution_count": 8,
   "metadata": {
    "collapsed": false
   },
   "outputs": [
    {
     "name": "stdout",
     "output_type": "stream",
     "text": [
      "Intercept: -47116.0765749\n",
      "Slope: 281.958838568\n"
     ]
    }
   ],
   "source": [
    "sqft_intercept, sqft_slope = simple_linear_regression(train_data['sqft_living'], train_data['price'])\n",
    "\n",
    "print \"Intercept: \" + str(sqft_intercept)\n",
    "print \"Slope: \" + str(sqft_slope)"
   ]
  },
  {
   "cell_type": "markdown",
   "metadata": {},
   "source": [
    "# Predicting Values"
   ]
  },
  {
   "cell_type": "markdown",
   "metadata": {},
   "source": [
    "Now that we have the model parameters: intercept & slope we can make predictions. Using SArrays it's easy to multiply an SArray by a constant and add a constant value. Complete the following function to return the predicted output given the input_feature, slope and intercept:"
   ]
  },
  {
   "cell_type": "code",
   "execution_count": 9,
   "metadata": {
    "collapsed": false
   },
   "outputs": [
    {
     "data": {
      "application/javascript": [
       "$(\"head\").append($(\"<link/>\").attr({\n",
       "  rel:  \"stylesheet\",\n",
       "  type: \"text/css\",\n",
       "  href: \"//cdnjs.cloudflare.com/ajax/libs/font-awesome/4.1.0/css/font-awesome.min.css\"\n",
       "}));\n",
       "$(\"head\").append($(\"<link/>\").attr({\n",
       "  rel:  \"stylesheet\",\n",
       "  type: \"text/css\",\n",
       "  href: \"https://static.turi.com/products/graphlab-create/2.1/canvas/css/canvas.css\"\n",
       "}));\n",
       "\n",
       "            (function(){\n",
       "\n",
       "                var e = null;\n",
       "                if (typeof element == 'undefined') {\n",
       "                    var scripts = document.getElementsByTagName('script');\n",
       "                    var thisScriptTag = scripts[scripts.length-1];\n",
       "                    var parentDiv = thisScriptTag.parentNode;\n",
       "                    e = document.createElement('div');\n",
       "                    parentDiv.appendChild(e);\n",
       "                } else {\n",
       "                    e = element[0];\n",
       "                }\n",
       "\n",
       "                if (typeof requirejs !== 'undefined') {\n",
       "                    // disable load timeout; ipython_app.js is large and can take a while to load.\n",
       "                    requirejs.config({waitSeconds: 0});\n",
       "                }\n",
       "\n",
       "                require(['https://static.turi.com/products/graphlab-create/2.1/canvas/js/ipython_app.js'], function(IPythonApp){\n",
       "                    var app = new IPythonApp();\n",
       "                    app.attachView('sframe','Plots', {\"selected_variable\": {\"name\": [\"sales\"], \"descriptives\": {\"rows\": 21613, \"columns\": 21}, \"view_component\": \"Plots\", \"view_file\": \"sframe\", \"view_params\": {\"y\": \"price\", \"x\": \"sqft_living\", \"columns\": [\"id\", \"date\", \"price\", \"bedrooms\", \"bathrooms\", \"sqft_living\", \"sqft_lot\", \"floors\", \"waterfront\", \"view\", \"condition\", \"grade\", \"sqft_above\", \"sqft_basement\", \"yr_built\", \"yr_renovated\", \"zipcode\", \"lat\", \"long\", \"sqft_living15\", \"sqft_lot15\"], \"view\": \"Scatter Plot\"}, \"view_components\": [\"Summary\", \"Table\", \"Bar Chart\", \"BoxWhisker Plot\", \"Line Chart\", \"Scatter Plot\", \"Heat Map\", \"Plots\"], \"type\": \"SFrame\", \"columns\": [{\"dtype\": \"str\", \"name\": \"id\"}, {\"dtype\": \"datetime\", \"name\": \"date\"}, {\"dtype\": \"float\", \"name\": \"price\"}, {\"dtype\": \"float\", \"name\": \"bedrooms\"}, {\"dtype\": \"float\", \"name\": \"bathrooms\"}, {\"dtype\": \"float\", \"name\": \"sqft_living\"}, {\"dtype\": \"int\", \"name\": \"sqft_lot\"}, {\"dtype\": \"str\", \"name\": \"floors\"}, {\"dtype\": \"int\", \"name\": \"waterfront\"}, {\"dtype\": \"int\", \"name\": \"view\"}, {\"dtype\": \"int\", \"name\": \"condition\"}, {\"dtype\": \"int\", \"name\": \"grade\"}, {\"dtype\": \"int\", \"name\": \"sqft_above\"}, {\"dtype\": \"int\", \"name\": \"sqft_basement\"}, {\"dtype\": \"int\", \"name\": \"yr_built\"}, {\"dtype\": \"int\", \"name\": \"yr_renovated\"}, {\"dtype\": \"str\", \"name\": \"zipcode\"}, {\"dtype\": \"float\", \"name\": \"lat\"}, {\"dtype\": \"float\", \"name\": \"long\"}, {\"dtype\": \"float\", \"name\": \"sqft_living15\"}, {\"dtype\": \"float\", \"name\": \"sqft_lot15\"}], \"column_identifiers\": [\"bathrooms\", \"sqft_living15\", \"sqft_above\", \"grade\", \"yr_built\", \"price\", \"bedrooms\", \"zipcode\", \"long\", \"id\", \"sqft_lot15\", \"sqft_living\", \"floors\", \"sqft_lot\", \"date\", \"waterfront\", \"sqft_basement\", \"yr_renovated\", \"lat\", \"condition\", \"view\"]}, \"complete\": 1, \"ipython\": true, \"progress\": 1.0, \"data\": [[1710.0, 475000.0], [1310.0, 370000.0], [1470.0, 290000.0], [1300.0, 515000.0], [2410.0, 537000.0], [5420.0, 1225000.0], [1310.0, 375000.0], [1660.0, 460000.0], [2020.0, 629500.0], [3500.0, 788600.0], [1230.0, 200000.0], [2230.0, 491500.0], [1990.0, 328000.0], [2400.0, 672500.0], [2620.0, 427000.0], [3030.0, 902000.0], [2520.0, 449888.0], [760.0, 415000.0], [1820.0, 359950.0], [2150.0, 300499.0], [2100.0, 521900.0], [1770.0, 440000.0], [1860.0, 585000.0], [1070.0, 252700.0], [1788.0, 294400.0], [1860.0, 267500.0], [2610.0, 1517000.0], [2680.0, 375000.0], [780.0, 285000.0], [2242.0, 490000.0], [1520.0, 500000.0], [2430.0, 658100.0], [2330.0, 687500.0], [1820.0, 327500.0], [1420.0, 265000.0], [1100.0, 249900.0], [1300.0, 208000.0], [2190.0, 450000.0], [2216.0, 667000.0], [1390.0, 216500.0], [1460.0, 436000.0], [1360.0, 150000.0], [1445.0, 366000.0], [1540.0, 345000.0], [1780.0, 240000.0], [3550.0, 720000.0], [2140.0, 292500.0], [2420.0, 725000.0], [1190.0, 299500.0], [3740.0, 660000.0], [1900.0, 380500.0], [1550.0, 613000.0], [1580.0, 779000.0], [2260.0, 380000.0], [670.0, 272000.0], [3640.0, 1651000.0], [2250.0, 292500.0], [1060.0, 220000.0], [880.0, 210000.0], [1130.0, 220000.0], [2850.0, 1535000.0], [2920.0, 625000.0], [1590.0, 247000.0], [4010.0, 849000.0], [1660.0, 288000.0], [2540.0, 359950.0], [1420.0, 451300.0], [1810.0, 600000.0], [3000.0, 760000.0], [1530.0, 700180.0], [860.0, 189000.0], [2168.0, 625000.0], [1380.0, 345000.0], [1360.0, 329950.0], [2980.0, 1012000.0], [1700.0, 315000.0], [1540.0, 450000.0], [1430.0, 305000.0], [1690.0, 336900.0], [1260.0, 437500.0], [1690.0, 245000.0], [1730.0, 490000.0], [2450.0, 605000.0], [1890.0, 524950.0], [1520.0, 260000.0], [1080.0, 140000.0], [550.0, 290000.0], [960.0, 179950.0], [3450.0, 445000.0], [1860.0, 460000.0], [2120.0, 492650.0], [1420.0, 269900.0], [1640.0, 475000.0], [1700.0, 255000.0], [2330.0, 625000.0], [1200.0, 279500.0], [2750.0, 980000.0], [2520.0, 535000.0], [610.0, 314200.0], [1720.0, 583500.0], [950.0, 230000.0], [2290.0, 440000.0], [1370.0, 500000.0], [3830.0, 1700000.0], [2120.0, 436000.0], [1930.0, 268000.0], [2340.0, 668750.0], [1110.0, 190500.0], [1820.0, 625000.0], [2260.0, 649000.0], [1068.0, 239950.0], [1840.0, 730001.0], [2100.0, 495000.0], [3266.0, 418000.0], [1080.0, 203000.0], [1780.0, 370000.0], [2710.0, 591000.0], [2120.0, 455000.0], [1200.0, 299000.0], [790.0, 330000.0], [5280.0, 1550000.0], [1070.0, 164000.0], [3860.0, 840000.0], [1410.0, 377500.0], [1540.0, 450000.0], [1340.0, 300000.0], [2780.0, 439950.0], [3300.0, 725000.0], [1980.0, 319950.0], [1600.0, 239950.0], [4500.0, 1515000.0], [2470.0, 1234568.0], [2830.0, 515500.0], [770.0, 260000.0], [4610.0, 750000.0], [610.0, 126000.0], [1850.0, 315000.0], [2100.0, 350000.0], [1460.0, 235000.0], [3180.0, 1130000.0], [2680.0, 400000.0], [1620.0, 467100.0], [1670.0, 661000.0], [1860.0, 380000.0], [2080.0, 665000.0], [2080.0, 385000.0], [790.0, 200000.0], [1290.0, 225000.0], [1890.0, 409000.0], [1530.0, 230000.0], [940.0, 252000.0], [1390.0, 245000.0], [1100.0, 392500.0], [2620.0, 525000.0], [2800.0, 550000.0], [2300.0, 479500.0], [4620.0, 575000.0], [3050.0, 865000.0], [2200.0, 535000.0], [1620.0, 484000.0], [1995.0, 505000.0], [1310.0, 525000.0], [2290.0, 540000.0], [2840.0, 790000.0], [1180.0, 355000.0], [1580.0, 290000.0], [2870.0, 1555000.0], [790.0, 118125.0], [1400.0, 279000.0], [3990.0, 1080000.0], [5350.0, 3345000.0], [1180.0, 220000.0], [3440.0, 1225000.0], [1040.0, 642000.0], [880.0, 230000.0], [3970.0, 995000.0], [2510.0, 600000.0], [2040.0, 464625.0], [1340.0, 255000.0], [1560.0, 295000.0], [2120.0, 200000.0], [2230.0, 415000.0], [2220.0, 852000.0], [1460.0, 540000.0], [2110.0, 925000.0], [1060.0, 325000.0], [2700.0, 470000.0], [2850.0, 993000.0], [3020.0, 439000.0], [3150.0, 800000.0], [1820.0, 700000.0], [1220.0, 240000.0], [1740.0, 252000.0], [1340.0, 290000.0], [2720.0, 550000.0], [2950.0, 386500.0], [1120.0, 380000.0], [1210.0, 175000.0], [1860.0, 590000.0], [1680.0, 450000.0], [2050.0, 290000.0], [1790.0, 509900.0], [3660.0, 475000.0], [1320.0, 409950.0], [2260.0, 865000.0], [3820.0, 775000.0], [1360.0, 431200.0], [2020.0, 689000.0], [1060.0, 315000.0], [3240.0, 724500.0], [1690.0, 419990.0], [1400.0, 430000.0], [1880.0, 405000.0], [1580.0, 279900.0], [1160.0, 365000.0], [1970.0, 437500.0], [1340.0, 290000.0], [2310.0, 494000.0], [5860.0, 1157200.0], [1490.0, 604000.0], [1630.0, 448000.0], [3240.0, 604000.0], [4420.0, 1205000.0], [3330.0, 936000.0], [1640.0, 325000.0], [1100.0, 474000.0], [1710.0, 390000.0], [2180.0, 254950.0], [2520.0, 618250.0], [1320.0, 229000.0], [1960.0, 605000.0], [1489.0, 255900.0], [470.0, 156000.0], [2643.0, 376950.0], [1510.0, 250000.0], [2250.0, 280000.0], [1460.0, 222000.0], [2600.0, 695000.0], [1770.0, 240000.0], [1400.0, 483000.0], [1660.0, 655000.0], [1960.0, 655000.0], [1850.0, 496800.0], [2360.0, 875000.0], [3330.0, 1955000.0], [2870.0, 560000.0], [1720.0, 286900.0], [2210.0, 640000.0], [3790.0, 929950.0], [1890.0, 385000.0], [2550.0, 452250.0], [2180.0, 363000.0], [1690.0, 295000.0], [1640.0, 410000.0], [1740.0, 677915.0], [3550.0, 2100000.0], [2770.0, 804000.0], [2370.0, 429900.0], [2180.0, 625000.0], [1710.0, 453500.0], [1660.0, 780000.0], [2460.0, 630000.0], [2500.0, 545000.0], [830.0, 394475.0], [1140.0, 400000.0], [2620.0, 695000.0], [1480.0, 560000.0], [2280.0, 410000.0], [2070.0, 272500.0], [1500.0, 340000.0], [1190.0, 312000.0], [1930.0, 568000.0], [2070.0, 795000.0], [2450.0, 850000.0], [1290.0, 573300.0], [1090.0, 140000.0], [1540.0, 269000.0], [1800.0, 295000.0], [2550.0, 340000.0], [1580.0, 375000.0], [2050.0, 256000.0], [2760.0, 821000.0], [1670.0, 282500.0], [2950.0, 599000.0], [2250.0, 446950.0], [2720.0, 370000.0], [2180.0, 499900.0], [2240.0, 300000.0], [2030.0, 545000.0], [1950.0, 323000.0], [4040.0, 1650000.0], [2470.0, 405000.0], [2490.0, 645000.0], [1800.0, 335000.0], [1960.0, 285000.0], [2730.0, 760000.0], [1820.0, 475000.0], [1640.0, 1014250.0], [900.0, 470000.0], [1960.0, 330000.0], [1290.0, 315000.0], [1210.0, 315000.0], [1390.0, 199000.0], [2040.0, 208633.0], [3050.0, 890000.0], [1730.0, 446000.0], [1800.0, 550000.0], [2120.0, 637000.0], [1670.0, 545000.0], [2050.0, 500000.0], [2970.0, 320000.0], [2120.0, 330000.0], [1410.0, 481450.0], [4290.0, 1384000.0], [2060.0, 500000.0], [1160.0, 137900.0], [1790.0, 302000.0], [2980.0, 1595000.0], [2700.0, 665000.0], [1740.0, 280000.0], [1020.0, 364000.0], [2080.0, 474950.0], [2250.0, 349950.0], [2900.0, 310000.0], [2040.0, 467500.0], [1240.0, 240500.0], [1880.0, 565000.0], [1800.0, 719000.0], [2940.0, 530000.0], [1870.0, 520000.0], [1890.0, 825000.0], [3510.0, 915000.0], [2560.0, 560000.0], [1610.0, 235000.0], [2430.0, 409950.0], [2650.0, 685000.0], [2390.0, 358000.0], [2060.0, 485000.0], [1540.0, 430000.0], [1740.0, 245000.0], [1802.0, 320000.0], [1870.0, 456000.0], [1960.0, 405000.0], [1950.0, 315000.0], [1590.0, 1062500.0], [1522.0, 407500.0], [1830.0, 249000.0], [3930.0, 1200000.0], [1890.0, 359000.0], [2800.0, 405000.0], [2720.0, 632500.0], [1510.0, 227000.0], [1570.0, 495000.0], [2434.0, 285000.0], [4330.0, 1700000.0], [2200.0, 375000.0], [1790.0, 430000.0], [2440.0, 340000.0], [1570.0, 657000.0], [1850.0, 476100.0], [2180.0, 488000.0], [1981.0, 303700.0], [1960.0, 308000.0], [2720.0, 850000.0], [1900.0, 410000.0], [2860.0, 1225000.0], [1750.0, 315000.0], [2670.0, 810000.0], [1200.0, 190000.0], [3300.0, 760000.0], [1430.0, 280000.0], [2150.0, 550000.0], [3880.0, 506000.0], [820.0, 274000.0], [720.0, 403000.0], [1090.0, 265000.0], [3500.0, 917000.0], [2800.0, 350000.0], [2180.0, 540000.0], [3060.0, 775000.0], [1460.0, 437000.0], [4040.0, 950000.0], [2940.0, 435000.0], [1090.0, 249000.0], [3056.0, 524225.0], [4410.0, 1320000.0], [1990.0, 334500.0], [1850.0, 475000.0], [2110.0, 615000.0], [4300.0, 1130000.0], [1330.0, 475000.0], [2670.0, 410000.0], [2320.0, 779000.0], [2441.0, 340000.0], [1310.0, 235000.0], [1370.0, 315000.0], [4400.0, 1050000.0], [2190.0, 365000.0], [980.0, 575000.0], [1800.0, 485000.0], [3192.0, 427000.0], [3400.0, 825000.0], [2260.0, 679000.0], [2080.0, 467000.0], [2030.0, 471000.0], [1510.0, 650000.0], [2783.0, 840000.0], [5270.0, 2600000.0], [1320.0, 387500.0], [2510.0, 675000.0], [1520.0, 307300.0], [1770.0, 345000.0], [3250.0, 1150000.0], [1250.0, 344000.0], [2130.0, 335000.0], [3060.0, 446500.0], [4890.0, 1780000.0], [2030.0, 405000.0], [1050.0, 445000.0], [1260.0, 320000.0], [1640.0, 250000.0], [1600.0, 625000.0], [2410.0, 617950.0], [1580.0, 428000.0], [970.0, 300000.0], [4520.0, 1250000.0], [1030.0, 175000.0], [2230.0, 500000.0], [1680.0, 500000.0], [2670.0, 744000.0], [1670.0, 325000.0], [1540.0, 439950.0], [2210.0, 510000.0], [1860.0, 350000.0], [2260.0, 605000.0], [3140.0, 532500.0], [1140.0, 379000.0], [1470.0, 490000.0], [2170.0, 419000.0], [900.0, 302000.0], [1620.0, 450000.0], [2970.0, 1565000.0], [1710.0, 561000.0], [1500.0, 277000.0], [1670.0, 310000.0], [1460.0, 295000.0], [960.0, 365000.0], [1900.0, 550000.0], [1610.0, 505000.0], [2590.0, 520000.0], [1370.0, 168000.0], [2400.0, 440000.0], [2300.0, 1335000.0], [2700.0, 565000.0], [3070.0, 550000.0], [2060.0, 815241.0], [2310.0, 524000.0], [1100.0, 397000.0], [1140.0, 276000.0], [1650.0, 371500.0], [2820.0, 585000.0], [1936.0, 338900.0], [960.0, 232000.0], [1040.0, 250000.0], [2660.0, 580000.0], [1610.0, 397000.0], [2530.0, 340000.0], [2010.0, 427500.0], [2240.0, 590000.0], [2660.0, 425000.0], [2610.0, 665000.0], [2330.0, 630000.0], [4110.0, 1199000.0], [900.0, 89000.0], [2840.0, 250000.0], [1470.0, 540000.0], [2100.0, 800000.0], [1950.0, 360000.0], [2580.0, 937750.0], [920.0, 365000.0], [760.0, 135900.0], [2570.0, 1100000.0], [2250.0, 440000.0], [2260.0, 550000.0], [1660.0, 560000.0], [3223.0, 469950.0], [3030.0, 799950.0], [1995.0, 271500.0], [1680.0, 550285.0], [570.0, 89950.0], [780.0, 221900.0], [1680.0, 370000.0], [1300.0, 232000.0], [2190.0, 335000.0], [3450.0, 832500.0], [1870.0, 449000.0], [1970.0, 405000.0], [1880.0, 340000.0], [1160.0, 394000.0], [3220.0, 550000.0], [1330.0, 197500.0], [1060.0, 215000.0], [1960.0, 325000.0], [3610.0, 587000.0], [930.0, 230000.0], [1550.0, 313000.0], [3430.0, 473000.0], [2360.0, 285000.0], [1320.0, 594000.0], [2410.0, 635000.0], [2730.0, 1030000.0], [2100.0, 567000.0], [920.0, 125000.0], [2400.0, 442500.0], [3560.0, 756000.0], [2340.0, 459950.0], [1140.0, 695000.0], [1140.0, 379900.0], [2080.0, 286950.0], [3030.0, 1470000.0], [2440.0, 312000.0], [1170.0, 324800.0], [1240.0, 420000.0], [1440.0, 395000.0], [2340.0, 428000.0], [2550.0, 465000.0], [2160.0, 433000.0], [1900.0, 385000.0], [1460.0, 392137.0], [900.0, 320000.0], [2770.0, 675750.0], [1790.0, 539000.0], [5160.0, 1900000.0], [1950.0, 601000.0], [1660.0, 635500.0], [1440.0, 410000.0], [2150.0, 284000.0], [1510.0, 595000.0], [2460.0, 305000.0], [3390.0, 460000.0], [2140.0, 780000.0], [1890.0, 473000.0], [2550.0, 480000.0], [770.0, 257000.0], [1480.0, 315000.0], [3310.0, 419000.0], [1460.0, 395000.0], [2880.0, 755000.0], [1670.0, 280500.0], [1780.0, 305000.0], [1520.0, 402000.0], [2220.0, 405000.0], [1820.0, 320000.0], [1930.0, 289000.0], [1740.0, 548500.0], [3900.0, 1998000.0], [3580.0, 600000.0], [3010.0, 530000.0], [4160.0, 1110000.0], [1280.0, 495000.0], [3110.0, 559000.0], [880.0, 378500.0], [1790.0, 336000.0], [2670.0, 345000.0], [790.0, 100000.0], [1600.0, 308550.0], [1370.0, 535000.0], [1820.0, 350000.0], [3210.0, 725000.0], [1900.0, 650000.0], [1490.0, 515000.0], [1530.0, 335000.0], [840.0, 191000.0], [940.0, 121800.0], [950.0, 475000.0], [1590.0, 310000.0], [1280.0, 215000.0], [3550.0, 685000.0], [2730.0, 769900.0], [1840.0, 274950.0], [3110.0, 725000.0], [1930.0, 345500.0], [2260.0, 514000.0], [780.0, 464050.0], [3500.0, 1075000.0], [2600.0, 665000.0], [1940.0, 520000.0], [1430.0, 257000.0], [2130.0, 395000.0], [2060.0, 685000.0], [2170.0, 377000.0], [1580.0, 247800.0], [2230.0, 700000.0], [1780.0, 296000.0], [1120.0, 360000.0], [1540.0, 742000.0], [3361.0, 471275.0], [2090.0, 499000.0], [3590.0, 515000.0], [2370.0, 479000.0], [950.0, 290000.0], [2500.0, 599950.0], [1420.0, 300000.0], [1980.0, 207000.0], [2690.0, 419000.0], [2690.0, 530000.0], [2670.0, 749000.0], [620.0, 148000.0], [1710.0, 482000.0], [2130.0, 445000.0], [2020.0, 868000.0], [2840.0, 462000.0], [2320.0, 562500.0], [1410.0, 391000.0], [2170.0, 592500.0], [1430.0, 453000.0], [1890.0, 826000.0], [2880.0, 775000.0], [1390.0, 225000.0], [1060.0, 206000.0], [2240.0, 625000.0], [2790.0, 815000.0], [2120.0, 534000.0], [1510.0, 254000.0], [5330.0, 1125000.0], [1880.0, 324900.0], [1400.0, 575000.0], [1550.0, 645000.0], [820.0, 173000.0], [3276.0, 720000.0], [2830.0, 533000.0], [2350.0, 495000.0], [2080.0, 426700.0], [2690.0, 650000.0], [890.0, 542000.0], [1620.0, 249950.0], [1200.0, 214000.0], [2090.0, 285000.0], [1270.0, 518000.0], [1370.0, 605004.0], [3220.0, 775000.0], [1470.0, 248000.0], [1960.0, 256500.0], [2150.0, 317500.0], [3870.0, 589900.0], [2210.0, 530000.0], [940.0, 280000.0], [680.0, 510000.0], [2840.0, 375000.0], [2310.0, 785000.0], [1360.0, 330000.0], [3200.0, 422000.0], [2390.0, 695000.0], [1990.0, 619000.0], [1300.0, 275000.0], [1800.0, 606400.0], [3930.0, 3070000.0], [2240.0, 340000.0], [1470.0, 239000.0], [1700.0, 403000.0], [1630.0, 185850.0], [1610.0, 269000.0], [3130.0, 302300.0], [1890.0, 587206.0], [1760.0, 640000.0], [2400.0, 495000.0], [1960.0, 372000.0], [2080.0, 330000.0], [1410.0, 541000.0], [960.0, 210000.0], [4410.0, 1240000.0], [1600.0, 240000.0], [2510.0, 664000.0], [2960.0, 1340000.0], [4220.0, 1635000.0], [1600.0, 355000.0], [1960.0, 300000.0], [3630.0, 490000.0], [1120.0, 249950.0], [990.0, 354000.0], [2680.0, 475000.0], [1480.0, 520000.0], [3190.0, 609900.0], [3290.0, 562000.0], [1990.0, 564800.0], [1780.0, 415000.0], [2680.0, 320000.0], [2240.0, 435000.0], [1763.0, 305000.0], [800.0, 95000.0], [3840.0, 1135000.0], [2100.0, 399000.0], [2180.0, 720000.0], [2740.0, 259000.0], [4050.0, 925000.0], [1320.0, 342000.0], [1300.0, 562500.0], [2320.0, 485500.0], [700.0, 250000.0], [3620.0, 858000.0], [1640.0, 515000.0], [1850.0, 510000.0], [2960.0, 385000.0], [3330.0, 2500000.0], [3100.0, 1450000.0], [1650.0, 429500.0], [2720.0, 875000.0], [2680.0, 449990.0], [2340.0, 510000.0], [2590.0, 920000.0], [3440.0, 554000.0], [2260.0, 605000.0], [1320.0, 190000.0], [980.0, 134000.0], [2490.0, 635000.0], [1310.0, 291750.0], [2030.0, 660000.0], [3070.0, 1900000.0], [3130.0, 1265000.0], [2360.0, 459000.0], [2880.0, 780000.0], [1010.0, 212000.0], [930.0, 100000.0], [2140.0, 636000.0], [1040.0, 430000.0], [1020.0, 208000.0], [1600.0, 308950.0], [1560.0, 400000.0], [1420.0, 310000.0], [1390.0, 280950.0], [1120.0, 363000.0], [2200.0, 680000.0], [1840.0, 485000.0], [970.0, 210000.0], [2380.0, 921000.0], [1220.0, 319000.0], [1400.0, 325000.0], [2820.0, 395000.0], [1814.0, 530000.0], [1820.0, 469000.0], [3260.0, 715000.0], [2430.0, 471500.0], [1390.0, 190500.0], [2860.0, 750500.0], [2100.0, 352500.0], [2390.0, 799000.0], [2240.0, 689000.0], [1180.0, 600000.0], [3070.0, 850000.0], [1300.0, 650000.0], [1890.0, 265000.0], [940.0, 283000.0], [2640.0, 880000.0], [5480.0, 3650000.0], [2210.0, 315000.0], [2640.0, 365000.0], [1640.0, 375000.0], [3330.0, 911100.0], [960.0, 358000.0], [1130.0, 415000.0], [1860.0, 291000.0], [1400.0, 357250.0], [790.0, 268500.0], [1630.0, 609000.0], [2240.0, 480000.0], [2052.0, 349900.0], [1900.0, 340000.0], [920.0, 209000.0], [2440.0, 575000.0], [2230.0, 323000.0], [1240.0, 297950.0], [1460.0, 204000.0], [2350.0, 1015000.0], [1720.0, 256900.0], [2170.0, 546800.0], [2260.0, 648360.0], [3420.0, 757500.0], [2700.0, 402000.0], [3050.0, 465000.0], [1300.0, 249000.0], [2130.0, 830000.0], [10040.0, 7062500.0], [1260.0, 375000.0], [2560.0, 1175000.0], [1060.0, 140000.0], [2050.0, 305000.0], [700.0, 267800.0], [3470.0, 1050000.0], [4620.0, 1459000.0], [1560.0, 524000.0], [1720.0, 279950.0], [3490.0, 1620000.0], [2790.0, 445000.0], [830.0, 222000.0], [1910.0, 570000.0], [4560.0, 1675000.0], [1680.0, 489900.0], [1310.0, 455000.0], [1850.0, 515000.0], [2690.0, 390000.0], [1460.0, 207000.0], [2170.0, 442500.0], [940.0, 250000.0], [2380.0, 818000.0], [2130.0, 283000.0], [1500.0, 300000.0], [1010.0, 269000.0], [1180.0, 209950.0], [3760.0, 851000.0], [5190.0, 1702500.0], [1190.0, 229000.0], [1630.0, 385000.0], [1430.0, 399000.0], [1110.0, 343000.0], [2430.0, 990000.0], [1000.0, 375000.0], [670.0, 334000.0], [1300.0, 329950.0], [1520.0, 198500.0], [1110.0, 411500.0], [3710.0, 692500.0], [3600.0, 760000.0], [2550.0, 277500.0], [1810.0, 287500.0], [940.0, 342500.0], [900.0, 219000.0], [3786.0, 1379900.0], [2760.0, 760000.0], [1320.0, 529000.0], [2810.0, 1700000.0], [1920.0, 329950.0], [2160.0, 625000.0], [2120.0, 559950.0], [2070.0, 503000.0], [2740.0, 689900.0], [2330.0, 680000.0], [1000.0, 196000.0], [3110.0, 1300000.0], [2060.0, 499950.0], [2040.0, 494900.0], [1960.0, 204250.0], [1420.0, 205000.0], [940.0, 253905.0], [2910.0, 312200.0], [3020.0, 808100.0], [3700.0, 1250000.0], [2580.0, 899000.0], [1770.0, 360000.0], [2550.0, 675000.0], [1680.0, 425000.0], [1940.0, 423800.0], [2180.0, 625000.0], [1740.0, 450000.0], [2880.0, 845000.0], [2496.0, 661000.0], [1660.0, 343500.0], [1550.0, 324000.0], [1520.0, 296475.0], [1460.0, 220000.0], [1150.0, 825000.0], [1370.0, 231000.0], [1200.0, 219950.0], [2080.0, 480000.0], [1720.0, 935000.0], [1800.0, 533000.0], [1560.0, 491500.0], [1580.0, 558000.0], [2120.0, 278100.0], [1690.0, 875000.0], [1480.0, 865000.0], [3100.0, 460000.0], [1350.0, 414500.0], [1720.0, 248500.0], [3640.0, 895900.0], [1410.0, 404000.0], [1810.0, 515000.0], [1530.0, 147500.0], [1010.0, 300000.0], [1470.0, 454280.0], [1200.0, 464950.0], [2620.0, 360000.0], [2710.0, 740000.0], [1680.0, 334000.0], [1510.0, 230000.0], [1480.0, 600000.0], [1450.0, 405000.0], [2230.0, 368750.0], [2810.0, 685000.0], [1370.0, 815000.0], [1570.0, 209950.0], [1090.0, 680000.0], [2290.0, 425000.0], [530.0, 355000.0], [1490.0, 305000.0], [2080.0, 324900.0], [2100.0, 635000.0], [3010.0, 600000.0], [2680.0, 660000.0], [830.0, 85000.0], [2470.0, 630000.0], [2600.0, 580000.0], [1980.0, 530000.0], [2770.0, 820000.0], [3680.0, 1225000.0], [1890.0, 570000.0], [2610.0, 757000.0], [2031.0, 335000.0], [1960.0, 355000.0], [1500.0, 395000.0], [1770.0, 250000.0], [3470.0, 875000.0], [1340.0, 230000.0], [2640.0, 823000.0], [3720.0, 960000.0], [2470.0, 525000.0], [1560.0, 425000.0], [1995.0, 645000.0], [1760.0, 688500.0], [1240.0, 425000.0], [2280.0, 565000.0], [1860.0, 350000.0], [920.0, 125000.0], [2080.0, 800000.0], [1740.0, 580000.0], [860.0, 311000.0], [1250.0, 455000.0], [3930.0, 575000.0], [1910.0, 369950.0], [1370.0, 359000.0], [2310.0, 470000.0], [1080.0, 874950.0], [1510.0, 1000000.0], [1290.0, 790000.0], [1010.0, 219950.0], [2330.0, 891000.0], [2370.0, 351999.0], [1860.0, 265500.0], [1080.0, 157000.0], [1100.0, 570000.0], [3090.0, 458000.0], [1590.0, 290000.0], [1660.0, 247500.0], [1510.0, 196000.0], [1180.0, 179500.0], [2190.0, 340000.0], [1170.0, 315000.0], [2770.0, 347000.0], [3530.0, 695000.0], [1630.0, 357500.0], [3880.0, 1030000.0], [2040.0, 499000.0], [1790.0, 375000.0], [1500.0, 249500.0], [990.0, 747000.0], [2350.0, 895000.0], [1850.0, 535000.0], [1040.0, 239000.0], [3130.0, 310000.0], [1020.0, 235000.0], [3380.0, 850000.0], [3410.0, 870000.0], [4360.0, 795127.0], [1140.0, 374000.0], [1520.0, 210000.0], [3080.0, 750000.0], [2100.0, 305000.0], [1380.0, 482000.0], [1000.0, 352500.0], [2270.0, 615000.0], [1380.0, 650000.0], [1470.0, 299900.0], [2370.0, 328000.0], [1020.0, 290000.0], [1000.0, 400000.0], [1510.0, 500000.0], [2620.0, 648000.0], [5940.0, 1149000.0], [2300.0, 372000.0], [1790.0, 560000.0], [3620.0, 825000.0], [1430.0, 270000.0], [2460.0, 665000.0], [1200.0, 235000.0], [1730.0, 396675.0], [2330.0, 690000.0], [2770.0, 575000.0], [1650.0, 350000.0], [3420.0, 975000.0], [2490.0, 778983.0], [2100.0, 305000.0], [1510.0, 449000.0], [1870.0, 700000.0], [4360.0, 1450000.0], [1220.0, 215500.0], [2560.0, 700500.0], [1730.0, 596000.0], [2280.0, 850000.0], [1510.0, 190000.0], [1400.0, 270000.0], [2290.0, 668500.0]], \"columns\": [{\"dtype\": \"str\", \"name\": \"id\"}, {\"dtype\": \"datetime\", \"name\": \"date\"}, {\"dtype\": \"float\", \"name\": \"price\"}, {\"dtype\": \"float\", \"name\": \"bedrooms\"}, {\"dtype\": \"float\", \"name\": \"bathrooms\"}, {\"dtype\": \"float\", \"name\": \"sqft_living\"}, {\"dtype\": \"int\", \"name\": \"sqft_lot\"}, {\"dtype\": \"str\", \"name\": \"floors\"}, {\"dtype\": \"int\", \"name\": \"waterfront\"}, {\"dtype\": \"int\", \"name\": \"view\"}, {\"dtype\": \"int\", \"name\": \"condition\"}, {\"dtype\": \"int\", \"name\": \"grade\"}, {\"dtype\": \"int\", \"name\": \"sqft_above\"}, {\"dtype\": \"int\", \"name\": \"sqft_basement\"}, {\"dtype\": \"int\", \"name\": \"yr_built\"}, {\"dtype\": \"int\", \"name\": \"yr_renovated\"}, {\"dtype\": \"str\", \"name\": \"zipcode\"}, {\"dtype\": \"float\", \"name\": \"lat\"}, {\"dtype\": \"float\", \"name\": \"long\"}, {\"dtype\": \"float\", \"name\": \"sqft_living15\"}, {\"dtype\": \"float\", \"name\": \"sqft_lot15\"}]}, e);\n",
       "                });\n",
       "            })();\n",
       "        "
      ]
     },
     "metadata": {},
     "output_type": "display_data"
    }
   ],
   "source": [
    "graphlab.canvas.set_target('ipynb')\n",
    "sales.show(view=\"Scatter Plot\", x=\"sqft_living\", y=\"price\")"
   ]
  },
  {
   "cell_type": "code",
   "execution_count": 10,
   "metadata": {
    "collapsed": false
   },
   "outputs": [],
   "source": [
    "def get_regression_predictions(input_feature, intercept, slope):\n",
    "    # calculate the predicted values:\n",
    "    predicted_values = input_feature*slope + intercept\n",
    "    return predicted_values"
   ]
  },
  {
   "cell_type": "markdown",
   "metadata": {},
   "source": [
    "Now that we can calculate a prediction given the slope and intercept let's make a prediction. Use (or alter) the following to find out the estimated price for a house with 2650 squarefeet according to the squarefeet model we estiamted above.\n",
    "\n",
    "**Quiz Question: Using your Slope and Intercept from (4), What is the predicted price for a house with 2650 sqft?**"
   ]
  },
  {
   "cell_type": "code",
   "execution_count": 11,
   "metadata": {
    "collapsed": false
   },
   "outputs": [
    {
     "name": "stdout",
     "output_type": "stream",
     "text": [
      "The estimated price for a house with 2650 squarefeet is $700074.85\n"
     ]
    }
   ],
   "source": [
    "my_house_sqft = 2650\n",
    "estimated_price = get_regression_predictions(my_house_sqft, sqft_intercept, sqft_slope)\n",
    "print \"The estimated price for a house with %d squarefeet is $%.2f\" % (my_house_sqft, estimated_price)"
   ]
  },
  {
   "cell_type": "markdown",
   "metadata": {},
   "source": [
    "# Residual Sum of Squares"
   ]
  },
  {
   "cell_type": "markdown",
   "metadata": {},
   "source": [
    "Now that we have a model and can make predictions let's evaluate our model using Residual Sum of Squares (RSS). Recall that RSS is the sum of the squares of the residuals and the residuals is just a fancy word for the difference between the predicted output and the true output. \n",
    "\n",
    "Complete the following (or write your own) function to compute the RSS of a simple linear regression model given the input_feature, output, intercept and slope:"
   ]
  },
  {
   "cell_type": "code",
   "execution_count": 12,
   "metadata": {
    "collapsed": true
   },
   "outputs": [],
   "source": [
    "def get_residual_sum_of_squares(input_feature, output, intercept, slope):\n",
    "    # First get the predictions\n",
    "    predictions = input_feature*slope+intercept\n",
    "    # then compute the residuals (since we are squaring it doesn't matter which order you subtract)\n",
    "    R = predictions-output\n",
    "    # square the residuals and add them up\n",
    "    RSS = (R*R).sum()\n",
    "    return(RSS)"
   ]
  },
  {
   "cell_type": "markdown",
   "metadata": {},
   "source": [
    "Let's test our get_residual_sum_of_squares function by applying it to the test model where the data lie exactly on a line. Since they lie exactly on a line the residual sum of squares should be zero!"
   ]
  },
  {
   "cell_type": "code",
   "execution_count": 13,
   "metadata": {
    "collapsed": false
   },
   "outputs": [
    {
     "name": "stdout",
     "output_type": "stream",
     "text": [
      "0\n"
     ]
    }
   ],
   "source": [
    "print get_residual_sum_of_squares(test_feature, test_output, test_intercept, test_slope) # should be 0.0"
   ]
  },
  {
   "cell_type": "markdown",
   "metadata": {},
   "source": [
    "Now use your function to calculate the RSS on training data from the squarefeet model calculated above.\n",
    "\n",
    "**Quiz Question: According to this function and the slope and intercept from the squarefeet model What is the RSS for the simple linear regression using squarefeet to predict prices on TRAINING data?**"
   ]
  },
  {
   "cell_type": "code",
   "execution_count": 14,
   "metadata": {
    "collapsed": false
   },
   "outputs": [
    {
     "name": "stdout",
     "output_type": "stream",
     "text": [
      "The RSS of predicting Prices based on Square Feet is : 1.20191835632e+15\n"
     ]
    }
   ],
   "source": [
    "rss_prices_on_sqft = get_residual_sum_of_squares(train_data['sqft_living'], train_data['price'], sqft_intercept, sqft_slope)\n",
    "print 'The RSS of predicting Prices based on Square Feet is : ' + str(rss_prices_on_sqft)"
   ]
  },
  {
   "cell_type": "markdown",
   "metadata": {},
   "source": [
    "# Predict the squarefeet given price"
   ]
  },
  {
   "cell_type": "markdown",
   "metadata": {},
   "source": [
    "What if we want to predict the squarefoot given the price? Since we have an equation y = a + b\\*x we can solve the function for x. So that if we have the intercept (a) and the slope (b) and the price (y) we can solve for the estimated squarefeet (x).\n",
    "\n",
    "Comlplete the following function to compute the inverse regression estimate, i.e. predict the input_feature given the output!"
   ]
  },
  {
   "cell_type": "code",
   "execution_count": 15,
   "metadata": {
    "collapsed": true
   },
   "outputs": [],
   "source": [
    "def inverse_regression_predictions(output, intercept, slope):\n",
    "    # solve output = intercept + slope*input_feature for input_feature. Use this equation to compute the inverse predictions:\n",
    "    estimated_feature = (output - intercept)/slope\n",
    "    return estimated_feature"
   ]
  },
  {
   "cell_type": "markdown",
   "metadata": {},
   "source": [
    "Now that we have a function to compute the squarefeet given the price from our simple regression model let's see how big we might expect a house that costs $800,000 to be.\n",
    "\n",
    "**Quiz Question: According to this function and the regression slope and intercept from (3) what is the estimated square-feet for a house costing $800,000?**"
   ]
  },
  {
   "cell_type": "code",
   "execution_count": 16,
   "metadata": {
    "collapsed": false
   },
   "outputs": [
    {
     "name": "stdout",
     "output_type": "stream",
     "text": [
      "The estimated squarefeet for a house worth $800000.00 is 3004\n"
     ]
    }
   ],
   "source": [
    "my_house_price = 800000\n",
    "estimated_squarefeet = inverse_regression_predictions(my_house_price, sqft_intercept, sqft_slope)\n",
    "print \"The estimated squarefeet for a house worth $%.2f is %d\" % (my_house_price, estimated_squarefeet)"
   ]
  },
  {
   "cell_type": "markdown",
   "metadata": {},
   "source": [
    "# New Model: estimate prices from bedrooms"
   ]
  },
  {
   "cell_type": "markdown",
   "metadata": {},
   "source": [
    "We have made one model for predicting house prices using squarefeet, but there are many other features in the sales SFrame. \n",
    "Use your simple linear regression function to estimate the regression parameters from predicting Prices based on number of bedrooms. Use the training data!"
   ]
  },
  {
   "cell_type": "code",
   "execution_count": 17,
   "metadata": {
    "collapsed": false
   },
   "outputs": [
    {
     "name": "stdout",
     "output_type": "stream",
     "text": [
      "(109473.18046928808, 127588.95217458377)\n"
     ]
    }
   ],
   "source": [
    "# Estimate the slope and intercept for predicting 'price' based on 'bedrooms'\n",
    "bedrooms_intercept, bedrooms_slope = simple_linear_regression(train_data['bedrooms'], train_data['price'])\n",
    "print(bedrooms_intercept, bedrooms_slope)\n"
   ]
  },
  {
   "cell_type": "markdown",
   "metadata": {},
   "source": [
    "# Test your Linear Regression Algorithm"
   ]
  },
  {
   "cell_type": "markdown",
   "metadata": {},
   "source": [
    "Now we have two models for predicting the price of a house. How do we know which one is better? Calculate the RSS on the TEST data (remember this data wasn't involved in learning the model). Compute the RSS from predicting prices using bedrooms and from predicting prices using squarefeet.\n",
    "\n",
    "**Quiz Question: Which model (square feet or bedrooms) has lowest RSS on TEST data? Think about why this might be the case.**"
   ]
  },
  {
   "cell_type": "code",
   "execution_count": 18,
   "metadata": {
    "collapsed": false
   },
   "outputs": [
    {
     "name": "stdout",
     "output_type": "stream",
     "text": [
      "RSS bedrooms test data 8.2762798421e+11\n"
     ]
    }
   ],
   "source": [
    "# Compute RSS when using bedrooms on TEST data:\n",
    "RSS_bedrooms = get_residual_sum_of_squares(test_feature, test_output, bedrooms_intercept, bedrooms_slope)\n",
    "print('RSS bedrooms test data {}'.format(RSS_bedrooms))"
   ]
  },
  {
   "cell_type": "code",
   "execution_count": 19,
   "metadata": {
    "collapsed": false
   },
   "outputs": [
    {
     "name": "stdout",
     "output_type": "stream",
     "text": [
      "RSS sqft test data 10837703478.7\n"
     ]
    }
   ],
   "source": [
    "# Compute RSS when using squarefeet on TEST data:\n",
    "RSS_sqft = get_residual_sum_of_squares(test_feature, test_output, sqft_intercept, sqft_slope)\n",
    "print('RSS sqft test data {}'.format(RSS_sqft))"
   ]
  },
  {
   "cell_type": "code",
   "execution_count": null,
   "metadata": {
    "collapsed": true
   },
   "outputs": [],
   "source": []
  },
  {
   "cell_type": "code",
   "execution_count": null,
   "metadata": {
    "collapsed": true
   },
   "outputs": [],
   "source": []
  },
  {
   "cell_type": "code",
   "execution_count": 20,
   "metadata": {
    "collapsed": false
   },
   "outputs": [
    {
     "data": {
      "application/javascript": [
       "$(\"head\").append($(\"<link/>\").attr({\n",
       "  rel:  \"stylesheet\",\n",
       "  type: \"text/css\",\n",
       "  href: \"//cdnjs.cloudflare.com/ajax/libs/font-awesome/4.1.0/css/font-awesome.min.css\"\n",
       "}));\n",
       "$(\"head\").append($(\"<link/>\").attr({\n",
       "  rel:  \"stylesheet\",\n",
       "  type: \"text/css\",\n",
       "  href: \"https://static.turi.com/products/graphlab-create/2.1/canvas/css/canvas.css\"\n",
       "}));\n",
       "\n",
       "            (function(){\n",
       "\n",
       "                var e = null;\n",
       "                if (typeof element == 'undefined') {\n",
       "                    var scripts = document.getElementsByTagName('script');\n",
       "                    var thisScriptTag = scripts[scripts.length-1];\n",
       "                    var parentDiv = thisScriptTag.parentNode;\n",
       "                    e = document.createElement('div');\n",
       "                    parentDiv.appendChild(e);\n",
       "                } else {\n",
       "                    e = element[0];\n",
       "                }\n",
       "\n",
       "                if (typeof requirejs !== 'undefined') {\n",
       "                    // disable load timeout; ipython_app.js is large and can take a while to load.\n",
       "                    requirejs.config({waitSeconds: 0});\n",
       "                }\n",
       "\n",
       "                require(['https://static.turi.com/products/graphlab-create/2.1/canvas/js/ipython_app.js'], function(IPythonApp){\n",
       "                    var app = new IPythonApp();\n",
       "                    app.attachView('sframe','Plots', {\"selected_variable\": {\"name\": [\"sales\"], \"descriptives\": {\"rows\": 21613, \"columns\": 21}, \"view_component\": \"Plots\", \"view_file\": \"sframe\", \"view_params\": {\"y\": \"price\", \"x\": \"sqft_living\", \"columns\": [\"id\", \"date\", \"price\", \"bedrooms\", \"bathrooms\", \"sqft_living\", \"sqft_lot\", \"floors\", \"waterfront\", \"view\", \"condition\", \"grade\", \"sqft_above\", \"sqft_basement\", \"yr_built\", \"yr_renovated\", \"zipcode\", \"lat\", \"long\", \"sqft_living15\", \"sqft_lot15\"], \"view\": \"Scatter Plot\"}, \"view_components\": [\"Summary\", \"Table\", \"Bar Chart\", \"BoxWhisker Plot\", \"Line Chart\", \"Scatter Plot\", \"Heat Map\", \"Plots\"], \"type\": \"SFrame\", \"columns\": [{\"dtype\": \"str\", \"name\": \"id\"}, {\"dtype\": \"datetime\", \"name\": \"date\"}, {\"dtype\": \"float\", \"name\": \"price\"}, {\"dtype\": \"float\", \"name\": \"bedrooms\"}, {\"dtype\": \"float\", \"name\": \"bathrooms\"}, {\"dtype\": \"float\", \"name\": \"sqft_living\"}, {\"dtype\": \"int\", \"name\": \"sqft_lot\"}, {\"dtype\": \"str\", \"name\": \"floors\"}, {\"dtype\": \"int\", \"name\": \"waterfront\"}, {\"dtype\": \"int\", \"name\": \"view\"}, {\"dtype\": \"int\", \"name\": \"condition\"}, {\"dtype\": \"int\", \"name\": \"grade\"}, {\"dtype\": \"int\", \"name\": \"sqft_above\"}, {\"dtype\": \"int\", \"name\": \"sqft_basement\"}, {\"dtype\": \"int\", \"name\": \"yr_built\"}, {\"dtype\": \"int\", \"name\": \"yr_renovated\"}, {\"dtype\": \"str\", \"name\": \"zipcode\"}, {\"dtype\": \"float\", \"name\": \"lat\"}, {\"dtype\": \"float\", \"name\": \"long\"}, {\"dtype\": \"float\", \"name\": \"sqft_living15\"}, {\"dtype\": \"float\", \"name\": \"sqft_lot15\"}], \"column_identifiers\": [\"bathrooms\", \"sqft_living15\", \"sqft_above\", \"grade\", \"yr_built\", \"price\", \"bedrooms\", \"zipcode\", \"long\", \"id\", \"sqft_lot15\", \"sqft_living\", \"floors\", \"sqft_lot\", \"date\", \"waterfront\", \"sqft_basement\", \"yr_renovated\", \"lat\", \"condition\", \"view\"]}, \"complete\": 1, \"ipython\": true, \"progress\": 1.0, \"data\": [[2570.0, 715000.0], [2240.0, 480000.0], [2430.0, 310000.0], [920.0, 176000.0], [3230.0, 834950.0], [1220.0, 230000.0], [1290.0, 275000.0], [2740.0, 850000.0], [1500.0, 435000.0], [1850.0, 920000.0], [1920.0, 372000.0], [2605.0, 1017000.0], [4050.0, 1195000.0], [1100.0, 233000.0], [3160.0, 545000.0], [2660.0, 313100.0], [1120.0, 227950.0], [1040.0, 230000.0], [2760.0, 500000.0], [2370.0, 670000.0], [2750.0, 604700.0], [1620.0, 333000.0], [2890.0, 855000.0], [3390.0, 835000.0], [1500.0, 215000.0], [1800.0, 391000.0], [1510.0, 260000.0], [2070.0, 400000.0], [1140.0, 235000.0], [2440.0, 338000.0], [2700.0, 515000.0], [790.0, 280000.0], [2130.0, 1300000.0], [1390.0, 275000.0], [1680.0, 469000.0], [2520.0, 685000.0], [2590.0, 695000.0], [2860.0, 583500.0], [1630.0, 522000.0], [890.0, 587750.0], [1810.0, 515000.0], [1750.0, 445000.0], [1520.0, 171000.0], [2300.0, 417000.0], [1490.0, 507000.0], [2130.0, 310000.0], [2270.0, 596000.0], [2810.0, 999000.0], [2500.0, 599950.0], [2860.0, 503000.0], [1480.0, 315000.0], [3440.0, 616000.0], [3100.0, 700000.0], [1790.0, 330000.0], [2329.0, 327555.0], [1700.0, 681000.0], [1500.0, 480000.0], [1530.0, 320000.0], [2200.0, 1100000.0], [980.0, 280000.0], [2240.0, 450000.0], [1260.0, 289000.0], [1700.0, 277500.0], [5440.0, 850000.0], [1800.0, 365000.0], [2150.0, 415000.0], [1650.0, 370000.0], [2040.0, 730000.0], [2460.0, 900000.0], [1260.0, 335500.0], [2890.0, 978000.0], [1640.0, 320000.0], [1540.0, 539000.0], [2040.0, 375000.0], [1600.0, 302000.0], [2680.0, 449990.0], [1830.0, 518000.0], [1040.0, 480000.0], [1410.0, 410000.0], [2700.0, 652500.0], [3040.0, 478000.0], [1670.0, 585000.0], [850.0, 320000.0], [1150.0, 175000.0], [4910.0, 1675000.0], [1920.0, 270000.0], [1450.0, 320000.0], [1720.0, 537000.0], [2950.0, 1045000.0], [1430.0, 403250.0], [2240.0, 439000.0], [2800.0, 739000.0], [1340.0, 263000.0], [1210.0, 259000.0], [1480.0, 778100.0], [840.0, 203000.0], [1250.0, 439000.0], [1660.0, 261000.0], [1200.0, 289500.0], [4350.0, 900000.0], [2070.0, 850830.0], [1720.0, 402000.0], [3130.0, 975000.0], [2920.0, 1088000.0], [800.0, 250000.0], [1670.0, 785000.0], [1070.0, 324000.0], [2220.0, 615000.0], [1850.0, 496800.0], [3100.0, 540000.0], [830.0, 345000.0], [1260.0, 570000.0], [1280.0, 355000.0], [2080.0, 329950.0], [1190.0, 555000.0], [4620.0, 1459000.0], [2860.0, 530000.0], [1400.0, 305000.0], [2720.0, 560000.0], [1170.0, 525000.0], [1650.0, 360000.0], [1140.0, 358000.0], [2000.0, 470000.0], [1710.0, 500000.0], [2620.0, 852000.0], [3070.0, 525000.0], [2610.0, 368000.0], [1860.0, 535000.0], [1840.0, 520000.0], [1680.0, 480000.0], [1700.0, 539000.0], [1440.0, 560000.0], [2080.0, 254000.0], [2140.0, 589999.0], [820.0, 294000.0], [2130.0, 338500.0], [1030.0, 397380.0], [2440.0, 435000.0], [1030.0, 267000.0], [1170.0, 519950.0], [1990.0, 345000.0], [3110.0, 580000.0], [1820.0, 489950.0], [3040.0, 415000.0], [3500.0, 790000.0], [2880.0, 920000.0], [1170.0, 613000.0], [2860.0, 365000.0], [1920.0, 352500.0], [1630.0, 231500.0], [2360.0, 805000.0], [2130.0, 762000.0], [1710.0, 488500.0], [2740.0, 385000.0], [3190.0, 765000.0], [2880.0, 725000.0], [1660.0, 610000.0], [1160.0, 322500.0], [4030.0, 950000.0], [1880.0, 751750.0], [1020.0, 225000.0], [3250.0, 535000.0], [2450.0, 530000.0], [4460.0, 1550000.0], [2020.0, 420000.0], [1920.0, 667500.0], [4495.0, 870000.0], [1550.0, 280000.0], [1780.0, 311000.0], [1400.0, 658600.0], [1110.0, 585000.0], [1280.0, 350000.0], [1550.0, 349900.0], [3160.0, 860000.0], [1900.0, 235000.0], [2430.0, 770000.0], [1300.0, 344000.0], [1770.0, 350000.0], [2120.0, 385000.0], [1760.0, 585000.0], [1300.0, 235000.0], [1000.0, 453500.0], [1530.0, 449950.0], [1390.0, 686500.0], [3120.0, 653000.0], [4090.0, 1095000.0], [1800.0, 160000.0], [2475.0, 335900.0], [1620.0, 475000.0], [1290.0, 525000.0], [1650.0, 305000.0], [1790.0, 455000.0], [1530.0, 279000.0], [2420.0, 282000.0], [920.0, 125000.0], [2430.0, 305000.0], [3040.0, 1600000.0], [2150.0, 465000.0], [2280.0, 520000.0], [2075.0, 430000.0], [2680.0, 612000.0], [2050.0, 265000.0], [1350.0, 353000.0], [4060.0, 970000.0], [1870.0, 272000.0], [2370.0, 522500.0], [1840.0, 210500.0], [1010.0, 425000.0], [3360.0, 329999.0], [1930.0, 542000.0], [1500.0, 185000.0], [1040.0, 330000.0], [1510.0, 535000.0], [1820.0, 725000.0], [2420.0, 325000.0], [2040.0, 350000.0], [3660.0, 1107461.0], [1630.0, 541000.0], [1030.0, 310000.0], [2620.0, 443000.0], [1122.0, 265000.0], [1520.0, 389000.0], [2420.0, 725000.0], [2425.0, 447500.0], [3940.0, 1965000.0], [1250.0, 390000.0], [2490.0, 635000.0], [1220.0, 165000.0], [1170.0, 393820.0], [1800.0, 340000.0], [3830.0, 1250000.0], [2500.0, 525000.0], [1990.0, 536000.0], [2660.0, 579000.0], [1270.0, 510500.0], [3450.0, 990000.0], [1420.0, 310000.0], [1960.0, 723000.0], [2050.0, 480000.0], [2250.0, 280000.0], [3136.0, 665000.0], [3450.0, 1295000.0], [910.0, 254000.0], [2390.0, 460000.0], [2170.0, 467000.0], [1250.0, 282000.0], [1560.0, 525000.0], [1470.0, 239000.0], [2060.0, 459500.0], [1180.0, 410000.0], [1650.0, 219950.0], [3360.0, 455000.0], [1790.0, 402200.0], [2230.0, 600000.0], [3180.0, 660000.0], [1230.0, 569000.0], [1910.0, 250000.0], [1320.0, 580000.0], [1440.0, 246000.0], [1270.0, 379600.0], [1560.0, 385000.0], [1950.0, 438000.0], [3460.0, 1250000.0], [1250.0, 365000.0], [2320.0, 934550.0], [2530.0, 880000.0], [1450.0, 265000.0], [1560.0, 385000.0], [1590.0, 411000.0], [1980.0, 455000.0], [780.0, 270950.0], [1088.0, 250000.0], [2040.0, 545000.0], [3020.0, 780000.0], [1080.0, 331000.0], [2100.0, 280000.0], [2290.0, 450000.0], [2000.0, 441000.0], [2210.0, 455000.0], [2230.0, 347500.0], [2030.0, 572500.0], [1740.0, 180000.0], [1480.0, 450000.0], [2230.0, 652450.0], [1660.0, 452000.0], [2820.0, 897000.0], [3860.0, 880000.0], [1830.0, 263000.0], [3030.0, 509900.0], [1040.0, 425000.0], [1010.0, 235000.0], [1560.0, 399950.0], [1920.0, 230000.0], [1660.0, 265000.0], [1910.0, 650000.0], [2940.0, 837000.0], [2100.0, 352500.0], [2790.0, 568000.0], [1590.0, 235000.0], [2780.0, 439950.0], [1390.0, 374950.0], [2890.0, 300000.0], [1670.0, 450000.0], [3100.0, 563000.0], [2340.0, 290000.0], [1790.0, 615000.0], [1900.0, 305000.0], [1240.0, 220000.0], [2470.0, 338000.0], [1510.0, 800000.0], [2370.0, 770000.0], [3100.0, 795000.0], [1730.0, 435000.0], [2050.0, 290000.0], [1510.0, 310650.0], [1365.0, 530000.0], [2590.0, 487000.0], [3400.0, 828200.0], [2780.0, 550000.0], [1260.0, 445000.0], [1860.0, 715000.0], [2600.0, 452000.0], [3316.0, 490600.0], [4410.0, 1437500.0], [3150.0, 1206505.0], [650.0, 295000.0], [2440.0, 350000.0], [3100.0, 967000.0], [1250.0, 309500.0], [920.0, 255000.0], [1970.0, 315000.0], [2180.0, 657000.0], [1260.0, 194000.0], [970.0, 219900.0], [1550.0, 372500.0], [1964.0, 342000.0], [2190.0, 375000.0], [3850.0, 915000.0], [3020.0, 1185000.0], [1240.0, 235000.0], [1500.0, 418000.0], [1750.0, 260000.0], [2710.0, 1200000.0], [1275.0, 309600.0], [3100.0, 511000.0], [930.0, 230000.0], [2130.0, 546500.0], [1676.0, 330000.0], [1020.0, 680000.0], [2730.0, 1030000.0], [2460.0, 579950.0], [2620.0, 775000.0], [5310.0, 1050000.0], [1530.0, 469775.0], [2210.0, 336000.0], [1420.0, 293000.0], [1300.0, 552500.0], [2286.0, 481000.0], [2160.0, 355000.0], [1440.0, 253000.0], [750.0, 422000.0], [1570.0, 800000.0], [2300.0, 592000.0], [940.0, 180000.0], [940.0, 356000.0], [1490.0, 500000.0], [2390.0, 420000.0], [1020.0, 402101.0], [1946.0, 485000.0], [930.0, 300000.0], [2360.0, 515000.0], [2300.0, 342000.0], [1640.0, 242000.0], [1310.0, 230000.0], [3090.0, 659000.0], [820.0, 510000.0], [2518.0, 643000.0], [1040.0, 299000.0], [1320.0, 475000.0], [850.0, 298000.0], [2245.0, 362865.0], [1800.0, 390000.0], [1540.0, 759600.0], [1220.0, 222000.0], [1690.0, 482500.0], [1820.0, 350000.0], [950.0, 137000.0], [2760.0, 602500.0], [3223.0, 469950.0], [2210.0, 240000.0], [3060.0, 864000.0], [1260.0, 503000.0], [2180.0, 910000.0], [4910.0, 1222500.0], [1700.0, 475000.0], [3100.0, 742500.0], [2080.0, 357500.0], [760.0, 162500.0], [1550.0, 325000.0], [1560.0, 254000.0], [1540.0, 402000.0], [3010.0, 847000.0], [2280.0, 349000.0], [2110.0, 479000.0], [2110.0, 585000.0], [2130.0, 305000.0], [2420.0, 550000.0], [810.0, 155000.0], [4120.0, 1300000.0], [2520.0, 500000.0], [1770.0, 606150.0], [1180.0, 249500.0], [1740.0, 283000.0], [2410.0, 530000.0], [1590.0, 395825.0], [2710.0, 830000.0], [1720.0, 525000.0], [1020.0, 160000.0], [2310.0, 422000.0], [2240.0, 469000.0], [1960.0, 490000.0], [2655.0, 409950.0], [2320.0, 410000.0], [1540.0, 415000.0], [1130.0, 550000.0], [860.0, 219900.0], [770.0, 212000.0], [3480.0, 532000.0], [3600.0, 1112500.0], [1560.0, 525000.0], [1790.0, 410000.0], [1650.0, 475000.0], [1650.0, 238000.0], [1850.0, 230000.0], [1260.0, 485000.0], [1620.0, 305000.0], [2390.0, 360000.0], [1130.0, 411000.0], [1270.0, 438000.0], [1088.0, 238000.0], [1460.0, 220000.0], [1740.0, 261500.0], [2690.0, 359950.0], [1660.0, 700000.0], [1600.0, 427000.0], [1920.0, 400000.0], [1740.0, 568000.0], [1960.0, 655000.0], [3320.0, 400000.0], [1410.0, 382000.0], [1220.0, 250000.0], [1500.0, 315000.0], [5130.0, 1599950.0], [2160.0, 228950.0], [4320.0, 1100000.0], [1100.0, 174900.0], [1090.0, 577000.0], [1970.0, 705000.0], [2490.0, 306000.0], [1380.0, 408000.0], [2720.0, 875000.0], [2340.0, 360000.0], [2100.0, 650000.0], [1300.0, 198000.0], [2120.0, 293550.0], [2680.0, 575000.0], [1400.0, 415250.0], [1120.0, 380000.0], [3310.0, 644000.0], [3070.0, 620000.0], [1210.0, 208000.0], [3200.0, 399950.0], [2050.0, 329950.0], [1160.0, 425000.0], [2510.0, 535000.0], [3110.0, 755000.0], [1820.0, 511000.0], [828.0, 110000.0], [1150.0, 227500.0], [4280.0, 1138990.0], [2570.0, 752000.0], [2960.0, 1015000.0], [760.0, 415000.0], [1680.0, 381000.0], [2530.0, 435000.0], [2240.0, 805000.0], [3190.0, 585000.0], [970.0, 165000.0], [1890.0, 325000.0], [3070.0, 858000.0], [1190.0, 195000.0], [1390.0, 657100.0], [2290.0, 343000.0], [3050.0, 909950.0], [3480.0, 2500000.0], [2510.0, 665000.0], [3470.0, 1218000.0], [1810.0, 235000.0], [2880.0, 560000.0], [970.0, 206000.0], [3180.0, 650000.0], [1750.0, 225000.0], [1960.0, 355000.0], [2630.0, 738000.0], [1590.0, 417000.0], [1680.0, 330000.0], [1210.0, 529000.0], [2190.0, 391000.0], [820.0, 150000.0], [1470.0, 401000.0], [2200.0, 924000.0], [1830.0, 562000.0], [2700.0, 480000.0], [1970.0, 294700.0], [3020.0, 955000.0], [1390.0, 535000.0], [1080.0, 429000.0], [1360.0, 540000.0], [1870.0, 390000.0], [1350.0, 211000.0], [2610.0, 335000.0], [1570.0, 169000.0], [2530.0, 515000.0], [1890.0, 1065000.0], [1690.0, 515000.0], [2891.0, 415000.0], [2680.0, 360000.0], [2070.0, 635000.0], [1530.0, 465000.0], [2150.0, 639000.0], [2650.0, 665000.0], [2550.0, 355000.0], [2680.0, 590000.0], [1760.0, 290000.0], [1820.0, 287000.0], [2720.0, 873000.0], [2080.0, 474950.0], [3100.0, 930000.0], [3220.0, 800000.0], [1860.0, 799950.0], [1240.0, 359950.0], [1920.0, 250000.0], [1180.0, 257500.0], [1500.0, 255950.0], [870.0, 595000.0], [2490.0, 520000.0], [2670.0, 347000.0], [1950.0, 484000.0], [2210.0, 500000.0], [1460.0, 521000.0], [3920.0, 770000.0], [2700.0, 1260000.0], [1410.0, 529500.0], [750.0, 261000.0], [1240.0, 259950.0], [3410.0, 471000.0], [5010.0, 2351956.0], [1020.0, 219950.0], [1170.0, 370000.0], [2310.0, 815000.0], [3450.0, 850000.0], [2100.0, 299900.0], [1450.0, 240000.0], [870.0, 406500.0], [2280.0, 820000.0], [2330.0, 588500.0], [1180.0, 260000.0], [1170.0, 260000.0], [3800.0, 894000.0], [1240.0, 405000.0], [2210.0, 330000.0], [1360.0, 425000.0], [1880.0, 261950.0], [1820.0, 650000.0], [980.0, 425000.0], [1230.0, 356000.0], [2780.0, 479950.0], [6050.0, 930000.0], [4370.0, 473000.0], [1340.0, 383000.0], [3780.0, 980000.0], [1710.0, 565000.0], [4190.0, 1160000.0], [1800.0, 335000.0], [2740.0, 476000.0], [2330.0, 420000.0], [4070.0, 710000.0], [1930.0, 175000.0], [2290.0, 420000.0], [1630.0, 291600.0], [1600.0, 224000.0], [3150.0, 815000.0], [1560.0, 509000.0], [1100.0, 375000.0], [1310.0, 223000.0], [2940.0, 1010000.0], [2600.0, 300000.0], [1050.0, 414500.0], [3340.0, 655000.0], [2876.0, 525000.0], [2510.0, 571000.0], [1870.0, 325000.0], [1040.0, 183500.0], [2260.0, 514000.0], [3800.0, 549900.0], [2740.0, 779000.0], [1310.0, 437000.0], [2260.0, 651000.0], [910.0, 155000.0], [1140.0, 467000.0], [1910.0, 412450.0], [5340.0, 2095000.0], [1610.0, 319000.0], [1310.0, 154200.0], [1010.0, 269000.0], [3010.0, 659950.0], [2020.0, 464900.0], [1450.0, 499000.0], [1370.0, 385000.0], [1910.0, 650000.0], [3180.0, 440000.0], [3560.0, 851000.0], [1460.0, 381000.0], [1780.0, 398500.0], [860.0, 245000.0], [3760.0, 851000.0], [1200.0, 306000.0], [1050.0, 390000.0], [3480.0, 1850000.0], [1010.0, 429000.0], [1120.0, 243950.0], [3238.0, 355425.0], [3340.0, 1328000.0], [1290.0, 239800.0], [710.0, 289000.0], [2820.0, 428900.0], [2510.0, 788500.0], [1480.0, 420000.0], [1570.0, 447450.0], [1970.0, 323000.0], [1670.0, 252000.0], [3740.0, 1078500.0], [1600.0, 502000.0], [1940.0, 274000.0], [1660.0, 288000.0], [1240.0, 230000.0], [1850.0, 245000.0], [1800.0, 505000.0], [2350.0, 770000.0], [1250.0, 283500.0], [5020.0, 1500000.0], [3760.0, 919204.0], [2730.0, 542500.0], [2410.0, 485000.0], [3880.0, 430000.0], [1920.0, 235000.0], [1070.0, 382000.0], [2270.0, 527500.0], [6410.0, 2725000.0], [3110.0, 700000.0], [830.0, 301500.0], [1270.0, 335000.0], [2920.0, 1400000.0], [1780.0, 442900.0], [950.0, 190000.0], [1290.0, 521450.0], [2240.0, 482000.0], [2940.0, 482500.0], [790.0, 100000.0], [2370.0, 330000.0], [3490.0, 1225000.0], [1120.0, 310000.0], [3030.0, 790000.0], [1160.0, 182000.0], [1830.0, 285000.0], [2250.0, 375000.0], [3290.0, 595000.0], [790.0, 115000.0], [2490.0, 1705000.0], [3010.0, 822600.0], [1850.0, 450000.0], [1440.0, 509990.0], [2290.0, 359900.0], [5150.0, 2250000.0], [910.0, 370000.0], [2270.0, 390000.0], [1280.0, 425000.0], [1080.0, 124000.0], [1690.0, 318000.0], [2400.0, 387500.0], [2000.0, 324360.0], [3530.0, 2367000.0], [2240.0, 349950.0], [2810.0, 450000.0], [3130.0, 685530.0], [2403.0, 519900.0], [2020.0, 459000.0], [1390.0, 297950.0], [2340.0, 949950.0], [1120.0, 219900.0], [960.0, 208950.0], [3240.0, 750000.0], [1800.0, 425000.0], [2500.0, 965800.0], [2590.0, 570000.0], [2530.0, 354950.0], [3220.0, 763000.0], [3080.0, 950000.0], [1220.0, 240000.0], [1040.0, 450000.0], [1700.0, 337500.0], [2560.0, 675000.0], [790.0, 375000.0], [1930.0, 339500.0], [1810.0, 251700.0], [2430.0, 305000.0], [950.0, 248000.0], [1470.0, 245000.0], [1420.0, 349950.0], [3170.0, 455000.0], [1300.0, 365000.0], [1660.0, 716000.0], [1670.0, 697000.0], [1920.0, 465000.0], [1380.0, 450000.0], [1650.0, 320000.0], [1120.0, 750000.0], [1380.0, 426000.0], [2910.0, 550000.0], [1646.0, 307500.0], [2420.0, 998000.0], [2105.0, 330000.0], [2290.0, 209950.0], [3510.0, 931088.0], [690.0, 139000.0], [1640.0, 415000.0], [1610.0, 275000.0], [1070.0, 312500.0], [3030.0, 455000.0], [1130.0, 439108.0], [2490.0, 778983.0], [1310.0, 475000.0], [710.0, 216000.0], [1940.0, 545000.0], [1500.0, 395000.0], [3150.0, 750000.0], [960.0, 300000.0], [2340.0, 487600.0], [2820.0, 585000.0], [2060.0, 624950.0], [1720.0, 313100.0], [3970.0, 810000.0], [1651.0, 363000.0], [3090.0, 870000.0], [1110.0, 600000.0], [3010.0, 750000.0], [780.0, 135000.0], [1030.0, 205000.0], [1040.0, 225000.0], [2610.0, 665000.0], [1130.0, 179950.0], [1710.0, 280000.0], [2530.0, 400000.0], [2460.0, 675000.0], [1100.0, 225000.0], [2060.0, 560000.0], [1330.0, 300000.0], [1820.0, 605000.0], [1330.0, 374500.0], [2120.0, 329500.0], [1260.0, 399900.0], [2180.0, 472000.0], [2450.0, 610000.0], [1250.0, 425000.0], [2630.0, 270000.0], [2490.0, 608000.0], [1640.0, 414250.0], [1910.0, 493000.0], [1800.0, 377000.0], [1390.0, 392500.0], [1330.0, 399950.0], [960.0, 320000.0], [1020.0, 195000.0], [1180.0, 325000.0], [1490.0, 368888.0], [2650.0, 302000.0], [1850.0, 303000.0], [910.0, 200000.0], [2960.0, 1250000.0], [2210.0, 619500.0], [2370.0, 420000.0], [1320.0, 243000.0], [1530.0, 450000.0], [2600.0, 695000.0], [1140.0, 234000.0], [2570.0, 320000.0], [6210.0, 3200000.0], [1180.0, 250200.0], [1170.0, 282500.0], [1260.0, 436500.0], [3600.0, 1075000.0], [1270.0, 455000.0], [2980.0, 680000.0], [900.0, 275000.0], [1540.0, 441000.0], [5180.0, 1075000.0], [1490.0, 835000.0], [3110.0, 367500.0], [2210.0, 305000.0], [2050.0, 479000.0], [1370.0, 350000.0], [2840.0, 396000.0], [2950.0, 424900.0], [670.0, 279000.0], [1590.0, 310000.0], [1560.0, 269000.0], [2600.0, 1697000.0], [1130.0, 250000.0], [1140.0, 218000.0], [2900.0, 637000.0], [1250.0, 287000.0], [3340.0, 870000.0], [1200.0, 179950.0], [1480.0, 307150.0], [3060.0, 415000.0], [1930.0, 548050.0], [2420.0, 369946.0], [720.0, 333000.0], [1490.0, 415000.0], [1280.0, 379000.0], [2720.0, 665000.0], [4260.0, 1000000.0], [1370.0, 288000.0], [3110.0, 719000.0], [1380.0, 249900.0], [6550.0, 1500000.0], [2420.0, 329990.0], [1790.0, 402000.0], [1110.0, 293000.0], [1860.0, 860000.0], [2160.0, 402500.0], [1160.0, 315500.0], [2580.0, 665000.0], [2260.0, 525000.0], [2770.0, 390000.0], [1640.0, 352000.0], [2590.0, 796500.0], [2110.0, 380000.0], [1420.0, 362000.0], [1240.0, 459000.0], [1850.0, 257200.0], [3140.0, 810000.0], [1610.0, 435000.0], [1660.0, 399500.0], [1210.0, 320000.0], [1520.0, 525000.0], [1220.0, 670000.0], [1850.0, 330000.0], [3700.0, 1100000.0], [1600.0, 280000.0], [2270.0, 287000.0], [2080.0, 325000.0], [1390.0, 199000.0], [1340.0, 550000.0], [6630.0, 1240000.0], [2120.0, 575000.0], [1460.0, 392137.0], [1170.0, 286000.0], [1320.0, 381156.0], [1910.0, 240000.0], [7320.0, 1135250.0], [3750.0, 775000.0], [1460.0, 449000.0], [1870.0, 485000.0], [920.0, 280300.0], [2070.0, 262000.0], [2000.0, 593700.0], [3181.0, 379900.0], [1410.0, 500000.0], [940.0, 355000.0], [1660.0, 765000.0], [1330.0, 183000.0], [3361.0, 511000.0], [2730.0, 489500.0], [3990.0, 866000.0], [3200.0, 1270000.0], [1220.0, 225000.0], [1390.0, 204900.0], [1560.0, 360000.0], [2260.0, 560000.0], [3120.0, 1939999.0], [1000.0, 375000.0], [1150.0, 346100.0], [2340.0, 545000.0], [2320.0, 447500.0], [1990.0, 345000.0], [1270.0, 499000.0], [1860.0, 529950.0], [2680.0, 463000.0], [1910.0, 299000.0], [2350.0, 659000.0], [1740.0, 580000.0], [1430.0, 235000.0], [1470.0, 300000.0], [790.0, 439000.0], [1300.0, 455000.0], [1010.0, 180000.0], [3070.0, 1570000.0], [1550.0, 1075000.0], [3080.0, 830000.0], [4850.0, 3567000.0], [2520.0, 875000.0], [1410.0, 205000.0], [1260.0, 245560.0], [2700.0, 550000.0], [2140.0, 545000.0], [2570.0, 379000.0], [3570.0, 942990.0], [3240.0, 975000.0], [1280.0, 389000.0], [1600.0, 690000.0], [3190.0, 2125000.0], [1100.0, 374000.0], [1220.0, 251000.0], [1500.0, 257100.0], [2660.0, 765000.0], [1660.0, 203700.0], [1280.0, 370000.0], [1370.0, 359000.0], [2170.0, 1150000.0], [1600.0, 286000.0], [1680.0, 619500.0], [2200.0, 280000.0], [990.0, 275000.0], [790.0, 435000.0], [1500.0, 614950.0], [3300.0, 920000.0], [1620.0, 780000.0], [2020.0, 253000.0], [1620.0, 298000.0], [1690.0, 338000.0], [1800.0, 754300.0], [2400.0, 575000.0], [1980.0, 700000.0], [1710.0, 525000.0], [2050.0, 369950.0], [2820.0, 318000.0], [2380.0, 340000.0], [1790.0, 410000.0], [3340.0, 808000.0], [1940.0, 359000.0], [910.0, 300000.0], [1430.0, 453000.0], [1490.0, 242150.0], [1660.0, 225000.0], [2670.0, 550000.0], [2180.0, 677000.0], [1300.0, 295000.0], [2110.0, 610000.0], [2050.0, 585000.0], [1190.0, 375000.0], [1010.0, 385000.0], [3260.0, 565000.0], [1370.0, 375000.0], [590.0, 398000.0], [1560.0, 900000.0], [2720.0, 599950.0], [3770.0, 940000.0], [1980.0, 810000.0], [1430.0, 198000.0], [1950.0, 601000.0], [2430.0, 723000.0], [1980.0, 295000.0], [1730.0, 348000.0], [2690.0, 597157.0], [1300.0, 415000.0], [2970.0, 469500.0], [2070.0, 535100.0], [1200.0, 365000.0], [1270.0, 435000.0], [2200.0, 279000.0], [3070.0, 718000.0], [3790.0, 929950.0], [930.0, 379000.0], [1520.0, 575000.0], [1480.0, 598950.0], [1370.0, 368000.0], [2480.0, 717000.0], [1280.0, 245000.0], [5180.0, 1488000.0], [4250.0, 2196000.0], [2960.0, 857500.0], [2780.0, 645000.0], [1770.0, 325000.0], [1730.0, 569000.0], [1680.0, 599950.0], [1810.0, 713400.0], [2450.0, 300000.0], [1780.0, 318500.0], [770.0, 156000.0]], \"columns\": [{\"dtype\": \"str\", \"name\": \"id\"}, {\"dtype\": \"datetime\", \"name\": \"date\"}, {\"dtype\": \"float\", \"name\": \"price\"}, {\"dtype\": \"float\", \"name\": \"bedrooms\"}, {\"dtype\": \"float\", \"name\": \"bathrooms\"}, {\"dtype\": \"float\", \"name\": \"sqft_living\"}, {\"dtype\": \"int\", \"name\": \"sqft_lot\"}, {\"dtype\": \"str\", \"name\": \"floors\"}, {\"dtype\": \"int\", \"name\": \"waterfront\"}, {\"dtype\": \"int\", \"name\": \"view\"}, {\"dtype\": \"int\", \"name\": \"condition\"}, {\"dtype\": \"int\", \"name\": \"grade\"}, {\"dtype\": \"int\", \"name\": \"sqft_above\"}, {\"dtype\": \"int\", \"name\": \"sqft_basement\"}, {\"dtype\": \"int\", \"name\": \"yr_built\"}, {\"dtype\": \"int\", \"name\": \"yr_renovated\"}, {\"dtype\": \"str\", \"name\": \"zipcode\"}, {\"dtype\": \"float\", \"name\": \"lat\"}, {\"dtype\": \"float\", \"name\": \"long\"}, {\"dtype\": \"float\", \"name\": \"sqft_living15\"}, {\"dtype\": \"float\", \"name\": \"sqft_lot15\"}]}, e);\n",
       "                });\n",
       "            })();\n",
       "        "
      ]
     },
     "metadata": {},
     "output_type": "display_data"
    }
   ],
   "source": [
    "graphlab.canvas.set_target('ipynb')\n",
    "sales.show(view=\"Scatter Plot\", x=\"sqft_living\", y=\"price\")"
   ]
  },
  {
   "cell_type": "code",
   "execution_count": 21,
   "metadata": {
    "collapsed": false
   },
   "outputs": [
    {
     "data": {
      "application/javascript": [
       "$(\"head\").append($(\"<link/>\").attr({\n",
       "  rel:  \"stylesheet\",\n",
       "  type: \"text/css\",\n",
       "  href: \"//cdnjs.cloudflare.com/ajax/libs/font-awesome/4.1.0/css/font-awesome.min.css\"\n",
       "}));\n",
       "$(\"head\").append($(\"<link/>\").attr({\n",
       "  rel:  \"stylesheet\",\n",
       "  type: \"text/css\",\n",
       "  href: \"https://static.turi.com/products/graphlab-create/2.1/canvas/css/canvas.css\"\n",
       "}));\n",
       "\n",
       "            (function(){\n",
       "\n",
       "                var e = null;\n",
       "                if (typeof element == 'undefined') {\n",
       "                    var scripts = document.getElementsByTagName('script');\n",
       "                    var thisScriptTag = scripts[scripts.length-1];\n",
       "                    var parentDiv = thisScriptTag.parentNode;\n",
       "                    e = document.createElement('div');\n",
       "                    parentDiv.appendChild(e);\n",
       "                } else {\n",
       "                    e = element[0];\n",
       "                }\n",
       "\n",
       "                if (typeof requirejs !== 'undefined') {\n",
       "                    // disable load timeout; ipython_app.js is large and can take a while to load.\n",
       "                    requirejs.config({waitSeconds: 0});\n",
       "                }\n",
       "\n",
       "                require(['https://static.turi.com/products/graphlab-create/2.1/canvas/js/ipython_app.js'], function(IPythonApp){\n",
       "                    var app = new IPythonApp();\n",
       "                    app.attachView('sframe','Plots', {\"selected_variable\": {\"name\": [\"sales\"], \"descriptives\": {\"rows\": 21613, \"columns\": 21}, \"view_component\": \"Plots\", \"view_file\": \"sframe\", \"view_params\": {\"y\": \"price\", \"x\": \"bedrooms\", \"columns\": [\"id\", \"date\", \"price\", \"bedrooms\", \"bathrooms\", \"sqft_living\", \"sqft_lot\", \"floors\", \"waterfront\", \"view\", \"condition\", \"grade\", \"sqft_above\", \"sqft_basement\", \"yr_built\", \"yr_renovated\", \"zipcode\", \"lat\", \"long\", \"sqft_living15\", \"sqft_lot15\"], \"view\": \"Scatter Plot\"}, \"view_components\": [\"Summary\", \"Table\", \"Bar Chart\", \"BoxWhisker Plot\", \"Line Chart\", \"Scatter Plot\", \"Heat Map\", \"Plots\"], \"type\": \"SFrame\", \"columns\": [{\"dtype\": \"str\", \"name\": \"id\"}, {\"dtype\": \"datetime\", \"name\": \"date\"}, {\"dtype\": \"float\", \"name\": \"price\"}, {\"dtype\": \"float\", \"name\": \"bedrooms\"}, {\"dtype\": \"float\", \"name\": \"bathrooms\"}, {\"dtype\": \"float\", \"name\": \"sqft_living\"}, {\"dtype\": \"int\", \"name\": \"sqft_lot\"}, {\"dtype\": \"str\", \"name\": \"floors\"}, {\"dtype\": \"int\", \"name\": \"waterfront\"}, {\"dtype\": \"int\", \"name\": \"view\"}, {\"dtype\": \"int\", \"name\": \"condition\"}, {\"dtype\": \"int\", \"name\": \"grade\"}, {\"dtype\": \"int\", \"name\": \"sqft_above\"}, {\"dtype\": \"int\", \"name\": \"sqft_basement\"}, {\"dtype\": \"int\", \"name\": \"yr_built\"}, {\"dtype\": \"int\", \"name\": \"yr_renovated\"}, {\"dtype\": \"str\", \"name\": \"zipcode\"}, {\"dtype\": \"float\", \"name\": \"lat\"}, {\"dtype\": \"float\", \"name\": \"long\"}, {\"dtype\": \"float\", \"name\": \"sqft_living15\"}, {\"dtype\": \"float\", \"name\": \"sqft_lot15\"}], \"column_identifiers\": [\"bathrooms\", \"sqft_living15\", \"sqft_above\", \"grade\", \"yr_built\", \"price\", \"bedrooms\", \"zipcode\", \"long\", \"id\", \"sqft_lot15\", \"sqft_living\", \"floors\", \"sqft_lot\", \"date\", \"waterfront\", \"sqft_basement\", \"yr_renovated\", \"lat\", \"condition\", \"view\"]}, \"complete\": 1, \"ipython\": true, \"progress\": 1.0, \"data\": [[2.0, 179950.0], [3.0, 747000.0], [3.0, 625000.0], [4.0, 650000.0], [2.0, 490000.0], [3.0, 260000.0], [3.0, 622200.0], [3.0, 372500.0], [3.0, 210000.0], [2.0, 279000.0], [3.0, 294950.0], [3.0, 380000.0], [3.0, 501000.0], [2.0, 590000.0], [3.0, 420000.0], [7.0, 800000.0], [4.0, 1050000.0], [4.0, 530000.0], [3.0, 765000.0], [2.0, 469775.0], [2.0, 358803.0], [3.0, 240000.0], [3.0, 550000.0], [3.0, 425000.0], [3.0, 325000.0], [4.0, 337500.0], [3.0, 601000.0], [4.0, 524000.0], [3.0, 380000.0], [3.0, 570000.0], [4.0, 355000.0], [3.0, 211000.0], [4.0, 687500.0], [3.0, 255000.0], [3.0, 467000.0], [4.0, 254000.0], [2.0, 435000.0], [3.0, 450000.0], [5.0, 488000.0], [4.0, 260000.0], [3.0, 567500.0], [4.0, 1100000.0], [4.0, 900000.0], [2.0, 240000.0], [3.0, 226500.0], [3.0, 135000.0], [4.0, 279000.0], [2.0, 319000.0], [4.0, 710000.0], [3.0, 385000.0], [3.0, 297000.0], [4.0, 689000.0], [5.0, 685000.0], [3.0, 1250000.0], [3.0, 430000.0], [3.0, 608000.0], [5.0, 500000.0], [4.0, 975000.0], [3.0, 255500.0], [3.0, 713400.0], [4.0, 550000.0], [5.0, 1610000.0], [3.0, 424950.0], [3.0, 199000.0], [3.0, 719000.0], [3.0, 465000.0], [3.0, 430000.0], [4.0, 911000.0], [2.0, 298800.0], [3.0, 523000.0], [4.0, 899000.0], [3.0, 260000.0], [3.0, 249000.0], [3.0, 580000.0], [6.0, 725000.0], [3.0, 263000.0], [2.0, 705000.0], [3.0, 480000.0], [4.0, 435000.0], [3.0, 499000.0], [4.0, 325000.0], [3.0, 236000.0], [3.0, 490000.0], [2.0, 287000.0], [4.0, 265000.0], [3.0, 258000.0], [3.0, 500000.0], [5.0, 460000.0], [3.0, 313000.0], [3.0, 295000.0], [4.0, 535000.0], [4.0, 300000.0], [4.0, 690000.0], [4.0, 305000.0], [4.0, 764000.0], [3.0, 539950.0], [3.0, 340000.0], [3.0, 300000.0], [5.0, 287500.0], [2.0, 403250.0], [3.0, 219950.0], [3.0, 405000.0], [3.0, 695000.0], [3.0, 1088000.0], [3.0, 535000.0], [3.0, 304500.0], [6.0, 682500.0], [3.0, 680000.0], [4.0, 799000.0], [3.0, 1190000.0], [4.0, 620000.0], [3.0, 270000.0], [2.0, 370000.0], [3.0, 250000.0], [1.0, 118000.0], [4.0, 588000.0], [2.0, 325000.0], [3.0, 445000.0], [3.0, 515000.0], [4.0, 828950.0], [3.0, 550000.0], [4.0, 724950.0], [4.0, 495000.0], [2.0, 510000.0], [4.0, 550000.0], [3.0, 263000.0], [3.0, 454000.0], [4.0, 410000.0], [3.0, 285000.0], [4.0, 300000.0], [4.0, 615000.0], [4.0, 715000.0], [3.0, 240000.0], [3.0, 740000.0], [4.0, 675000.0], [5.0, 359950.0], [3.0, 414000.0], [4.0, 390000.0], [3.0, 338500.0], [3.0, 203000.0], [5.0, 355000.0], [3.0, 390000.0], [5.0, 1025000.0], [4.0, 875000.0], [3.0, 620000.0], [4.0, 370000.0], [3.0, 327500.0], [2.0, 409900.0], [4.0, 550000.0], [3.0, 545000.0], [4.0, 300000.0], [4.0, 599950.0], [3.0, 1400000.0], [2.0, 244000.0], [3.0, 255000.0], [3.0, 571000.0], [5.0, 315000.0], [3.0, 288000.0], [3.0, 282500.0], [4.0, 320000.0], [1.0, 611206.0], [3.0, 270500.0], [3.0, 137124.0], [3.0, 530000.0], [3.0, 258500.0], [3.0, 225000.0], [3.0, 242050.0], [3.0, 253000.0], [4.0, 630000.0], [4.0, 290000.0], [3.0, 605000.0], [5.0, 840000.0], [4.0, 800000.0], [3.0, 326500.0], [3.0, 665000.0], [5.0, 299000.0], [3.0, 337500.0], [4.0, 607500.0], [3.0, 750000.0], [4.0, 970000.0], [3.0, 219950.0], [3.0, 315000.0], [2.0, 124500.0], [4.0, 250000.0], [4.0, 555000.0], [5.0, 1095000.0], [3.0, 234950.0], [4.0, 235000.0], [3.0, 408000.0], [4.0, 725000.0], [3.0, 305000.0], [3.0, 573500.0], [3.0, 580000.0], [2.0, 618000.0], [4.0, 889000.0], [4.0, 775000.0], [4.0, 465000.0], [3.0, 219900.0], [3.0, 530000.0], [4.0, 375000.0], [3.0, 567500.0], [5.0, 2400000.0], [3.0, 344950.0], [4.0, 595000.0], [3.0, 332000.0], [2.0, 184900.0], [2.0, 315000.0], [3.0, 229000.0], [4.0, 425000.0], [3.0, 330000.0], [4.0, 1445000.0], [5.0, 205000.0], [4.0, 592500.0], [3.0, 500000.0], [4.0, 680000.0], [3.0, 395000.0], [2.0, 370000.0], [4.0, 451000.0], [4.0, 600000.0], [3.0, 780000.0], [4.0, 2200000.0], [4.0, 436952.0], [2.0, 575000.0], [3.0, 325000.0], [4.0, 975000.0], [4.0, 352800.0], [4.0, 198000.0], [3.0, 832500.0], [3.0, 235000.0], [5.0, 542500.0], [2.0, 655000.0], [3.0, 420000.0], [3.0, 589000.0], [3.0, 406000.0], [3.0, 570000.0], [2.0, 579100.0], [3.0, 330000.0], [4.0, 843500.0], [4.0, 870000.0], [4.0, 420000.0], [1.0, 415000.0], [3.0, 240000.0], [4.0, 585000.0], [3.0, 275000.0], [4.0, 377000.0], [5.0, 455000.0], [4.0, 540000.0], [3.0, 463000.0], [4.0, 438000.0], [3.0, 339950.0], [3.0, 275000.0], [3.0, 350000.0], [4.0, 465000.0], [3.0, 349500.0], [2.0, 715000.0], [3.0, 375000.0], [4.0, 750000.0], [4.0, 920000.0], [5.0, 539950.0], [2.0, 498000.0], [2.0, 269500.0], [4.0, 333000.0], [3.0, 539000.0], [4.0, 939000.0], [4.0, 400000.0], [2.0, 210000.0], [3.0, 502000.0], [3.0, 180000.0], [3.0, 861000.0], [3.0, 435000.0], [3.0, 565000.0], [4.0, 638150.0], [5.0, 450000.0], [1.0, 655000.0], [3.0, 265000.0], [3.0, 579000.0], [3.0, 570000.0], [3.0, 599900.0], [3.0, 482975.0], [3.0, 750000.0], [3.0, 175000.0], [3.0, 355000.0], [3.0, 256900.0], [1.0, 350000.0], [3.0, 820000.0], [3.0, 316000.0], [3.0, 249000.0], [4.0, 628000.0], [5.0, 675000.0], [5.0, 675000.0], [3.0, 313500.0], [4.0, 335000.0], [3.0, 892500.0], [3.0, 485000.0], [2.0, 500000.0], [3.0, 310000.0], [3.0, 350000.0], [4.0, 680000.0], [5.0, 780000.0], [3.0, 470000.0], [4.0, 555000.0], [4.0, 691000.0], [3.0, 763101.0], [3.0, 208633.0], [4.0, 310000.0], [3.0, 405000.0], [1.0, 344000.0], [3.0, 981000.0], [4.0, 550000.0], [4.0, 585000.0], [4.0, 597000.0], [5.0, 755000.0], [3.0, 375000.0], [3.0, 354000.0], [3.0, 886000.0], [3.0, 398000.0], [3.0, 410000.0], [4.0, 760000.0], [3.0, 235000.0], [3.0, 280000.0], [4.0, 465000.0], [2.0, 163800.0], [3.0, 335750.0], [3.0, 363000.0], [4.0, 630000.0], [3.0, 732500.0], [3.0, 600000.0], [4.0, 1030000.0], [4.0, 561600.0], [3.0, 657044.0], [6.0, 305000.0], [2.0, 452000.0], [3.0, 320000.0], [4.0, 330000.0], [3.0, 970500.0], [3.0, 260000.0], [3.0, 190000.0], [4.0, 576925.0], [3.0, 269950.0], [5.0, 300000.0], [3.0, 370000.0], [5.0, 970000.0], [3.0, 545000.0], [3.0, 223000.0], [3.0, 615000.0], [3.0, 260000.0], [2.0, 280000.0], [2.0, 210000.0], [3.0, 315000.0], [4.0, 955000.0], [3.0, 990000.0], [3.0, 260000.0], [3.0, 780000.0], [3.0, 410000.0], [3.0, 326500.0], [3.0, 365000.0], [3.0, 880000.0], [3.0, 239950.0], [0.0, 339950.0], [5.0, 823000.0], [2.0, 499000.0], [3.0, 190000.0], [3.0, 625000.0], [3.0, 604950.0], [2.0, 227000.0], [3.0, 398500.0], [2.0, 412000.0], [3.0, 267000.0], [1.0, 224000.0], [3.0, 437000.0], [4.0, 860000.0], [4.0, 471000.0], [4.0, 364950.0], [3.0, 294000.0], [3.0, 850000.0], [4.0, 690000.0], [3.0, 368888.0], [4.0, 259000.0], [4.0, 206000.0], [4.0, 278000.0], [3.0, 420000.0], [2.0, 202000.0], [5.0, 1307000.0], [3.0, 616950.0], [3.0, 440000.0], [3.0, 560000.0], [3.0, 845000.0], [3.0, 435000.0], [4.0, 425000.0], [2.0, 514000.0], [5.0, 1800000.0], [4.0, 640000.0], [3.0, 234000.0], [3.0, 650000.0], [2.0, 294950.0], [2.0, 335000.0], [3.0, 452000.0], [3.0, 479000.0], [3.0, 378750.0], [4.0, 245000.0], [3.0, 375000.0], [4.0, 648000.0], [3.0, 435000.0], [3.0, 550000.0], [4.0, 330000.0], [3.0, 960000.0], [5.0, 900000.0], [4.0, 1033888.0], [4.0, 364950.0], [3.0, 222500.0], [3.0, 140000.0], [4.0, 649000.0], [3.0, 584000.0], [3.0, 979000.0], [2.0, 453500.0], [3.0, 357000.0], [4.0, 428400.0], [3.0, 746300.0], [4.0, 1256500.0], [3.0, 415000.0], [3.0, 585000.0], [3.0, 1065000.0], [4.0, 363500.0], [4.0, 917000.0], [3.0, 543000.0], [2.0, 575000.0], [3.0, 1195000.0], [4.0, 265000.0], [2.0, 241000.0], [2.0, 345000.0], [5.0, 250750.0], [4.0, 705000.0], [3.0, 485000.0], [3.0, 383000.0], [3.0, 553000.0], [4.0, 300000.0], [3.0, 606400.0], [4.0, 749995.0], [3.0, 249000.0], [3.0, 428000.0], [4.0, 400000.0], [3.0, 502000.0], [3.0, 474950.0], [3.0, 705000.0], [2.0, 250000.0], [3.0, 267300.0], [3.0, 348000.0], [3.0, 432000.0], [5.0, 5350000.0], [4.0, 323000.0], [2.0, 260000.0], [3.0, 333500.0], [3.0, 232000.0], [3.0, 435000.0], [4.0, 458450.0], [2.0, 592500.0], [2.0, 550500.0], [3.0, 705000.0], [3.0, 635500.0], [4.0, 465000.0], [4.0, 575000.0], [2.0, 448000.0], [6.0, 599950.0], [3.0, 396450.0], [4.0, 1029275.0], [3.0, 1250000.0], [3.0, 385000.0], [4.0, 465000.0], [3.0, 225000.0], [4.0, 500000.0], [3.0, 567500.0], [2.0, 689000.0], [2.0, 191950.0], [3.0, 567000.0], [4.0, 551000.0], [2.0, 505000.0], [2.0, 545000.0], [3.0, 709000.0], [3.0, 290000.0], [3.0, 725000.0], [3.0, 190000.0], [4.0, 308950.0], [4.0, 955500.0], [3.0, 898888.0], [3.0, 210000.0], [3.0, 280000.0], [4.0, 416500.0], [3.0, 2193000.0], [3.0, 397000.0], [5.0, 625000.0], [3.0, 214950.0], [4.0, 550000.0], [3.0, 602000.0], [2.0, 452000.0], [3.0, 700000.0], [4.0, 359999.0], [4.0, 725000.0], [3.0, 456150.0], [3.0, 719000.0], [4.0, 400000.0], [4.0, 590000.0], [3.0, 990400.0], [2.0, 420000.0], [2.0, 474000.0], [4.0, 280000.0], [4.0, 300000.0], [3.0, 258000.0], [3.0, 575000.0], [4.0, 400000.0], [2.0, 334000.0], [5.0, 270000.0], [3.0, 280500.0], [3.0, 613000.0], [5.0, 1295000.0], [3.0, 760000.0], [3.0, 333000.0], [3.0, 491000.0], [3.0, 670000.0], [4.0, 161000.0], [4.0, 615000.0], [3.0, 540000.0], [3.0, 549900.0], [3.0, 309000.0], [3.0, 275000.0], [4.0, 255000.0], [3.0, 605000.0], [5.0, 455000.0], [4.0, 700000.0], [4.0, 1750000.0], [2.0, 382000.0], [3.0, 700000.0], [4.0, 581000.0], [4.0, 605000.0], [5.0, 1150000.0], [4.0, 935000.0], [4.0, 233000.0], [3.0, 235000.0], [4.0, 899000.0], [3.0, 194000.0], [4.0, 415000.0], [5.0, 1015000.0], [5.0, 575000.0], [4.0, 828500.0], [3.0, 230000.0], [4.0, 330000.0], [2.0, 306000.0], [2.0, 265000.0], [2.0, 259950.0], [2.0, 365000.0], [2.0, 215000.0], [3.0, 480680.0], [2.0, 338000.0], [4.0, 457000.0], [2.0, 329950.0], [4.0, 1000000.0], [2.0, 279475.0], [4.0, 490000.0], [3.0, 235000.0], [4.0, 320000.0], [3.0, 400000.0], [4.0, 750000.0], [4.0, 380000.0], [4.0, 1275000.0], [3.0, 1266525.0], [3.0, 300000.0], [3.0, 305240.0], [4.0, 600000.0], [4.0, 549950.0], [4.0, 412000.0], [3.0, 433000.0], [3.0, 348000.0], [4.0, 728000.0], [2.0, 751750.0], [4.0, 750000.0], [4.0, 362500.0], [3.0, 610000.0], [2.0, 564000.0], [4.0, 715000.0], [3.0, 1236000.0], [4.0, 564000.0], [3.0, 525000.0], [3.0, 264000.0], [4.0, 1149000.0], [4.0, 439000.0], [3.0, 680000.0], [4.0, 379950.0], [5.0, 865000.0], [3.0, 535000.0], [4.0, 540000.0], [3.0, 287450.0], [3.0, 505000.0], [2.0, 213800.0], [3.0, 432500.0], [3.0, 379000.0], [4.0, 440000.0], [4.0, 310000.0], [4.0, 1255000.0], [4.0, 1050000.0], [4.0, 515000.0], [4.0, 355000.0], [4.0, 329000.0], [3.0, 310650.0], [5.0, 830000.0], [4.0, 335000.0], [4.0, 373500.0], [2.0, 441750.0], [4.0, 1625000.0], [3.0, 203000.0], [3.0, 215000.0], [3.0, 200500.0], [4.0, 160000.0], [4.0, 1875000.0], [4.0, 563000.0], [3.0, 322000.0], [1.0, 185000.0], [2.0, 325000.0], [2.0, 405500.0], [6.0, 1245000.0], [3.0, 250000.0], [2.0, 265000.0], [2.0, 365000.0], [3.0, 283000.0], [3.0, 585000.0], [3.0, 625000.0], [5.0, 979700.0], [3.0, 289999.0], [4.0, 855000.0], [3.0, 1042500.0], [4.0, 273000.0], [5.0, 580000.0], [4.0, 455000.0], [3.0, 305000.0], [4.0, 502000.0], [2.0, 410000.0], [6.0, 735000.0], [4.0, 475000.0], [3.0, 214000.0], [2.0, 400000.0], [4.0, 585000.0], [4.0, 882990.0], [3.0, 615000.0], [4.0, 825000.0], [3.0, 410000.0], [5.0, 275000.0], [3.0, 430000.0], [3.0, 240000.0], [4.0, 275000.0], [4.0, 890000.0], [4.0, 302059.0], [3.0, 616300.0], [3.0, 355900.0], [3.0, 681000.0], [3.0, 570000.0], [2.0, 452000.0], [3.0, 625000.0], [5.0, 7062500.0], [5.0, 825000.0], [4.0, 288790.0], [3.0, 450000.0], [3.0, 546500.0], [3.0, 283000.0], [3.0, 225000.0], [4.0, 342000.0], [4.0, 375000.0], [4.0, 925000.0], [4.0, 685000.0], [4.0, 450000.0], [3.0, 402000.0], [6.0, 767500.0], [7.0, 565000.0], [3.0, 599950.0], [3.0, 269900.0], [2.0, 205000.0], [2.0, 256950.0], [3.0, 249900.0], [3.0, 470000.0], [4.0, 471000.0], [3.0, 658588.0], [3.0, 237000.0], [3.0, 294010.0], [3.0, 219950.0], [3.0, 568000.0], [3.0, 377500.0], [4.0, 413000.0], [3.0, 483500.0], [3.0, 624950.0], [2.0, 401000.0], [3.0, 231500.0], [2.0, 189650.0], [4.0, 693000.0], [4.0, 285000.0], [3.0, 365000.0], [5.0, 616200.0], [4.0, 364000.0], [4.0, 340000.0], [4.0, 660000.0], [3.0, 359000.0], [4.0, 870000.0], [3.0, 225000.0], [4.0, 772000.0], [4.0, 350000.0], [3.0, 250000.0], [3.0, 252500.0], [4.0, 995000.0], [3.0, 230000.0], [2.0, 602000.0], [9.0, 934000.0], [3.0, 865000.0], [3.0, 290000.0], [4.0, 459000.0], [6.0, 685000.0], [4.0, 389950.0], [4.0, 844000.0], [4.0, 304000.0], [2.0, 686500.0], [7.0, 840000.0], [4.0, 530000.0], [2.0, 335000.0], [3.0, 328000.0], [3.0, 408000.0], [2.0, 640000.0], [3.0, 340000.0], [4.0, 1578000.0], [3.0, 435000.0], [2.0, 176000.0], [3.0, 310000.0], [4.0, 650000.0], [4.0, 600000.0], [3.0, 585000.0], [4.0, 501000.0], [2.0, 208000.0], [4.0, 200000.0], [1.0, 229500.0], [4.0, 335000.0], [5.0, 750000.0], [5.0, 345600.0], [3.0, 500000.0], [3.0, 264000.0], [3.0, 140000.0], [3.0, 515000.0], [2.0, 470000.0], [3.0, 241000.0], [3.0, 320000.0], [4.0, 675000.0], [4.0, 525000.0], [4.0, 229950.0], [3.0, 329000.0], [3.0, 358000.0], [4.0, 300000.0], [3.0, 589000.0], [2.0, 460000.0], [3.0, 221000.0], [3.0, 500000.0], [2.0, 290000.0], [3.0, 605000.0], [4.0, 334950.0], [3.0, 160797.0], [3.0, 400000.0], [2.0, 399950.0], [5.0, 405600.0], [2.0, 275000.0], [3.0, 550000.0], [5.0, 600000.0], [4.0, 385000.0], [4.0, 640000.0], [1.0, 375000.0], [5.0, 538900.0], [4.0, 320000.0], [3.0, 401000.0], [3.0, 620000.0], [6.0, 715000.0], [4.0, 637000.0], [5.0, 340000.0], [4.0, 508450.0], [3.0, 345000.0], [2.0, 898000.0], [4.0, 1288000.0], [3.0, 330000.0], [5.0, 265000.0], [4.0, 260000.0], [3.0, 210000.0], [4.0, 1008000.0], [4.0, 589000.0], [2.0, 560000.0], [2.0, 489000.0], [2.0, 520000.0], [4.0, 307000.0], [3.0, 204250.0], [3.0, 593700.0], [3.0, 353000.0], [3.0, 499950.0], [4.0, 270000.0], [3.0, 232500.0], [2.0, 304950.0], [4.0, 565000.0], [2.0, 850000.0], [3.0, 325000.0], [3.0, 279000.0], [3.0, 549000.0], [3.0, 768000.0], [3.0, 650000.0], [3.0, 370000.0], [3.0, 449950.0], [4.0, 310000.0], [3.0, 380000.0], [2.0, 235000.0], [3.0, 496700.0], [3.0, 335000.0], [3.0, 384000.0], [4.0, 260000.0], [3.0, 775000.0], [3.0, 245000.0], [4.0, 760000.0], [3.0, 578550.0], [3.0, 740000.0], [4.0, 1010000.0], [3.0, 515000.0], [3.0, 435000.0], [3.0, 562100.0], [3.0, 497000.0], [2.0, 426000.0], [5.0, 407500.0], [3.0, 397990.0], [3.0, 635000.0], [4.0, 630000.0], [1.0, 362000.0], [2.0, 332000.0], [3.0, 680000.0], [4.0, 685000.0], [4.0, 453000.0], [5.0, 726888.0], [3.0, 325000.0], [3.0, 370000.0], [3.0, 230000.0], [3.0, 514700.0], [3.0, 399000.0], [4.0, 485000.0], [3.0, 219000.0], [4.0, 285000.0], [4.0, 513000.0], [3.0, 350000.0], [2.0, 500000.0], [3.0, 428750.0], [4.0, 968933.0], [3.0, 425000.0], [4.0, 485000.0], [4.0, 689950.0], [4.0, 325000.0], [4.0, 999950.0], [3.0, 269950.0], [3.0, 560000.0], [3.0, 600000.0], [4.0, 685000.0], [4.0, 925000.0], [5.0, 327000.0], [4.0, 455000.0], [5.0, 475000.0], [3.0, 569999.0], [5.0, 696500.0], [4.0, 322000.0], [2.0, 550000.0], [4.0, 295000.0], [3.0, 439000.0], [3.0, 589000.0], [3.0, 3600000.0], [2.0, 240000.0], [2.0, 650000.0], [4.0, 530000.0], [2.0, 515000.0], [3.0, 458000.0], [2.0, 389000.0], [3.0, 689800.0], [4.0, 595000.0], [5.0, 515000.0], [4.0, 325000.0], [0.0, 1095000.0], [2.0, 250000.0], [5.0, 870000.0], [3.0, 490000.0], [4.0, 440000.0], [3.0, 685000.0], [3.0, 635000.0], [4.0, 225000.0], [4.0, 258750.0], [4.0, 260000.0], [3.0, 215000.0], [3.0, 521000.0], [4.0, 360000.0], [3.0, 391000.0], [4.0, 411000.0], [3.0, 399950.0], [2.0, 162500.0], [4.0, 295700.0], [3.0, 229500.0], [3.0, 224000.0], [4.0, 820000.0], [3.0, 348000.0], [4.0, 272000.0], [3.0, 289571.0], [3.0, 291500.0], [4.0, 810000.0], [4.0, 645000.0], [3.0, 431000.0], [2.0, 170000.0], [3.0, 300000.0], [2.0, 501000.0], [3.0, 315500.0], [4.0, 571500.0], [4.0, 765000.0], [3.0, 1600000.0], [4.0, 242150.0], [4.0, 2575000.0], [2.0, 150000.0], [2.0, 369000.0], [3.0, 522000.0], [3.0, 529000.0], [3.0, 570000.0], [3.0, 279950.0], [3.0, 260000.0], [3.0, 247500.0], [5.0, 688000.0], [3.0, 570000.0], [4.0, 1765000.0], [3.0, 330000.0], [3.0, 707000.0], [2.0, 553000.0], [3.0, 440000.0], [3.0, 520000.0], [4.0, 498000.0], [4.0, 345000.0], [4.0, 935000.0], [3.0, 245000.0], [2.0, 501000.0], [4.0, 840000.0], [3.0, 389000.0], [3.0, 650000.0], [3.0, 235000.0], [4.0, 245000.0], [4.0, 249900.0], [3.0, 400000.0], [3.0, 1325000.0], [2.0, 577500.0], [4.0, 735000.0], [3.0, 712500.0], [3.0, 850000.0], [3.0, 465000.0], [4.0, 260000.0], [6.0, 508000.0], [3.0, 355000.0], [4.0, 239000.0], [3.0, 450000.0], [3.0, 310000.0], [4.0, 505000.0], [3.0, 475000.0], [3.0, 262000.0], [3.0, 238000.0], [3.0, 620000.0], [3.0, 323000.0], [3.0, 425000.0], [4.0, 526000.0], [3.0, 211000.0], [3.0, 310000.0], [3.0, 755000.0], [3.0, 848000.0], [3.0, 550000.0], [5.0, 1850000.0], [3.0, 430000.0], [4.0, 321000.0], [4.0, 244950.0], [3.0, 145000.0], [5.0, 535000.0], [4.0, 1795000.0], [3.0, 340500.0], [3.0, 615000.0], [4.0, 765000.0], [3.0, 445000.0], [3.0, 300000.0], [5.0, 405000.0], [4.0, 600600.0], [4.0, 760000.0], [3.0, 229900.0], [3.0, 407500.0], [2.0, 995000.0], [3.0, 660000.0], [3.0, 550000.0], [4.0, 515000.0], [4.0, 359000.0], [3.0, 568000.0], [3.0, 300000.0], [3.0, 484950.0], [4.0, 630000.0], [2.0, 403000.0], [4.0, 307550.0], [3.0, 250000.0], [3.0, 510000.0], [3.0, 461000.0], [3.0, 1620500.0], [4.0, 1030000.0], [3.0, 385000.0], [3.0, 570000.0]], \"columns\": [{\"dtype\": \"str\", \"name\": \"id\"}, {\"dtype\": \"datetime\", \"name\": \"date\"}, {\"dtype\": \"float\", \"name\": \"price\"}, {\"dtype\": \"float\", \"name\": \"bedrooms\"}, {\"dtype\": \"float\", \"name\": \"bathrooms\"}, {\"dtype\": \"float\", \"name\": \"sqft_living\"}, {\"dtype\": \"int\", \"name\": \"sqft_lot\"}, {\"dtype\": \"str\", \"name\": \"floors\"}, {\"dtype\": \"int\", \"name\": \"waterfront\"}, {\"dtype\": \"int\", \"name\": \"view\"}, {\"dtype\": \"int\", \"name\": \"condition\"}, {\"dtype\": \"int\", \"name\": \"grade\"}, {\"dtype\": \"int\", \"name\": \"sqft_above\"}, {\"dtype\": \"int\", \"name\": \"sqft_basement\"}, {\"dtype\": \"int\", \"name\": \"yr_built\"}, {\"dtype\": \"int\", \"name\": \"yr_renovated\"}, {\"dtype\": \"str\", \"name\": \"zipcode\"}, {\"dtype\": \"float\", \"name\": \"lat\"}, {\"dtype\": \"float\", \"name\": \"long\"}, {\"dtype\": \"float\", \"name\": \"sqft_living15\"}, {\"dtype\": \"float\", \"name\": \"sqft_lot15\"}]}, e);\n",
       "                });\n",
       "            })();\n",
       "        "
      ]
     },
     "metadata": {},
     "output_type": "display_data"
    }
   ],
   "source": [
    "graphlab.canvas.set_target('ipynb')\n",
    "sales.show(view=\"Scatter Plot\", x=\"bedrooms\", y=\"price\")"
   ]
  },
  {
   "cell_type": "code",
   "execution_count": null,
   "metadata": {
    "collapsed": true
   },
   "outputs": [],
   "source": []
  }
 ],
 "metadata": {
  "kernelspec": {
   "display_name": "Python 2",
   "language": "python",
   "name": "python2"
  },
  "language_info": {
   "codemirror_mode": {
    "name": "ipython",
    "version": 2
   },
   "file_extension": ".py",
   "mimetype": "text/x-python",
   "name": "python",
   "nbconvert_exporter": "python",
   "pygments_lexer": "ipython2",
   "version": "2.7.11"
  }
 },
 "nbformat": 4,
 "nbformat_minor": 0
}
