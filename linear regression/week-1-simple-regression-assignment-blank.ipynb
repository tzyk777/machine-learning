{
 "cells": [
  {
   "cell_type": "markdown",
   "metadata": {},
   "source": [
    "# Regression Week 1: Simple Linear Regression"
   ]
  },
  {
   "cell_type": "markdown",
   "metadata": {},
   "source": [
    "In this notebook we will use data on house sales in King County to predict house prices using simple (one input) linear regression. You will:\n",
    "* Use graphlab SArray and SFrame functions to compute important summary statistics\n",
    "* Write a function to compute the Simple Linear Regression weights using the closed form solution\n",
    "* Write a function to make predictions of the output given the input feature\n",
    "* Turn the regression around to predict the input given the output\n",
    "* Compare two different models for predicting house prices\n",
    "\n",
    "In this notebook you will be provided with some already complete code as well as some code that you should complete yourself in order to answer quiz questions. The code we provide to complte is optional and is there to assist you with solving the problems but feel free to ignore the helper code and write your own."
   ]
  },
  {
   "cell_type": "markdown",
   "metadata": {},
   "source": [
    "# Fire up graphlab create"
   ]
  },
  {
   "cell_type": "code",
   "execution_count": 14,
   "metadata": {
    "collapsed": false
   },
   "outputs": [],
   "source": [
    "import graphlab"
   ]
  },
  {
   "cell_type": "markdown",
   "metadata": {},
   "source": [
    "# Load house sales data\n",
    "\n",
    "Dataset is from house sales in King County, the region where the city of Seattle, WA is located."
   ]
  },
  {
   "cell_type": "code",
   "execution_count": 20,
   "metadata": {
    "collapsed": false
   },
   "outputs": [
    {
     "name": "stdout",
     "output_type": "stream",
     "text": [
      " Volume in drive D is LENOVO\n",
      " Volume Serial Number is 84BE-322C\n",
      "\n",
      " Directory of D:\\programming\\Machine learning\\linear regression\n",
      "\n",
      "09/24/2016  12:25 PM    <DIR>          .\n",
      "09/24/2016  12:25 PM    <DIR>          ..\n",
      "09/24/2016  12:20 PM    <DIR>          .ipynb_checkpoints\n",
      "09/24/2016  12:17 PM           930,178 kc_house_data.gl.zip\n",
      "09/22/2016  10:14 PM             4,491 Philadelphia_Crime_Rate_noNA.csv\n",
      "09/22/2016  10:23 PM            68,035 PhillyCrime.ipynb\n",
      "09/24/2016  12:25 PM            18,367 week-1-simple-regression-assignment-blank.ipynb\n",
      "               4 File(s)      1,021,071 bytes\n",
      "               3 Dir(s)  770,678,861,824 bytes free\n"
     ]
    }
   ],
   "source": [
    "ls"
   ]
  },
  {
   "cell_type": "code",
   "execution_count": 27,
   "metadata": {
    "collapsed": false
   },
   "outputs": [],
   "source": [
    "sales = graphlab.SFrame('kc_house_data.gl/')"
   ]
  },
  {
   "cell_type": "markdown",
   "metadata": {},
   "source": [
    "# Split data into training and testing"
   ]
  },
  {
   "cell_type": "markdown",
   "metadata": {},
   "source": [
    "We use seed=0 so that everyone running this notebook gets the same results.  In practice, you may set a random seed (or let GraphLab Create pick a random seed for you).  "
   ]
  },
  {
   "cell_type": "code",
   "execution_count": 28,
   "metadata": {
    "collapsed": false
   },
   "outputs": [],
   "source": [
    "train_data,test_data = sales.random_split(.8,seed=0)"
   ]
  },
  {
   "cell_type": "markdown",
   "metadata": {},
   "source": [
    "# Useful SFrame summary functions"
   ]
  },
  {
   "cell_type": "markdown",
   "metadata": {},
   "source": [
    "In order to make use of the closed form solution as well as take advantage of graphlab's built in functions we will review some important ones. In particular:\n",
    "* Computing the sum of an SArray\n",
    "* Computing the arithmetic average (mean) of an SArray\n",
    "* multiplying SArrays by constants\n",
    "* multiplying SArrays by other SArrays"
   ]
  },
  {
   "cell_type": "code",
   "execution_count": 29,
   "metadata": {
    "collapsed": false
   },
   "outputs": [
    {
     "name": "stdout",
     "output_type": "stream",
     "text": [
      "average price via method 1: 540088.141905\n",
      "average price via method 2: 540088.141905\n"
     ]
    }
   ],
   "source": [
    "# Let's compute the mean of the House Prices in King County in 2 different ways.\n",
    "prices = sales['price'] # extract the price column of the sales SFrame -- this is now an SArray\n",
    "\n",
    "# recall that the arithmetic average (the mean) is the sum of the prices divided by the total number of houses:\n",
    "sum_prices = prices.sum()\n",
    "num_houses = prices.size() # when prices is an SArray .size() returns its length\n",
    "avg_price_1 = sum_prices/num_houses\n",
    "avg_price_2 = prices.mean() # if you just want the average, the .mean() function\n",
    "print \"average price via method 1: \" + str(avg_price_1)\n",
    "print \"average price via method 2: \" + str(avg_price_2)"
   ]
  },
  {
   "cell_type": "markdown",
   "metadata": {},
   "source": [
    "As we see we get the same answer both ways"
   ]
  },
  {
   "cell_type": "code",
   "execution_count": 30,
   "metadata": {
    "collapsed": false
   },
   "outputs": [
    {
     "name": "stdout",
     "output_type": "stream",
     "text": [
      "the sum of price squared is: 9.21732513355e+15\n"
     ]
    }
   ],
   "source": [
    "# if we want to multiply every price by 0.5 it's a simple as:\n",
    "half_prices = 0.5*prices\n",
    "# Let's compute the sum of squares of price. We can multiply two SArrays of the same length elementwise also with *\n",
    "prices_squared = prices*prices\n",
    "sum_prices_squared = prices_squared.sum() # price_squared is an SArray of the squares and we want to add them up.\n",
    "print \"the sum of price squared is: \" + str(sum_prices_squared)"
   ]
  },
  {
   "cell_type": "markdown",
   "metadata": {},
   "source": [
    "Aside: The python notation x.xxe+yy means x.xx \\* 10^(yy). e.g 100 = 10^2 = 1*10^2 = 1e2 "
   ]
  },
  {
   "cell_type": "markdown",
   "metadata": {},
   "source": [
    "# Build a generic simple linear regression function "
   ]
  },
  {
   "cell_type": "markdown",
   "metadata": {},
   "source": [
    "Armed with these SArray functions we can use the closed form solution found from lecture to compute the slope and intercept for a simple linear regression on observations stored as SArrays: input_feature, output.\n",
    "\n",
    "Complete the following function (or write your own) to compute the simple linear regression slope and intercept:"
   ]
  },
  {
   "cell_type": "code",
   "execution_count": 31,
   "metadata": {
    "collapsed": false
   },
   "outputs": [],
   "source": [
    "def simple_linear_regression(input_feature, output):\n",
    "    N = output.size()\n",
    "    # compute the sum of input_feature and output\n",
    "    sum_x = input_feature.sum()\n",
    "    sum_y = output.sum()\n",
    "    \n",
    "    # compute the product of the output and the input_feature and its sum\n",
    "    product_sum = (input_feature*output).sum()\n",
    "    # compute the squared value of the input_feature and its sum\n",
    "    sqsum_x = (input_feature*input_feature).sum()\n",
    "    # use the formula for the slope\n",
    "    slope = (product_sum-sum_x*sum_y/N)/(sqsum_x-sum_x*sum_x/N)\n",
    "    # use the formula for the intercept\n",
    "    intercept = sum_y/N - slope*sum_x/N\n",
    "    \n",
    "    return (intercept, slope)"
   ]
  },
  {
   "cell_type": "markdown",
   "metadata": {},
   "source": [
    "We can test that our function works by passing it something where we know the answer. In particular we can generate a feature and then put the output exactly on a line: output = 1 + 1\\*input_feature then we know both our slope and intercept should be 1"
   ]
  },
  {
   "cell_type": "code",
   "execution_count": 32,
   "metadata": {
    "collapsed": false,
    "scrolled": true
   },
   "outputs": [
    {
     "name": "stdout",
     "output_type": "stream",
     "text": [
      "Intercept: 1\n",
      "Slope: 1\n"
     ]
    }
   ],
   "source": [
    "test_feature = graphlab.SArray(range(5))\n",
    "test_output = graphlab.SArray(1 + 1*test_feature)\n",
    "(test_intercept, test_slope) =  simple_linear_regression(test_feature, test_output)\n",
    "print \"Intercept: \" + str(test_intercept)\n",
    "print \"Slope: \" + str(test_slope)"
   ]
  },
  {
   "cell_type": "markdown",
   "metadata": {},
   "source": [
    "Now that we know it works let's build a regression model for predicting price based on sqft_living. Rembember that we train on train_data!"
   ]
  },
  {
   "cell_type": "code",
   "execution_count": 46,
   "metadata": {
    "collapsed": false
   },
   "outputs": [
    {
     "name": "stdout",
     "output_type": "stream",
     "text": [
      "Intercept: -47116.0765749\n",
      "Slope: 281.958838568\n"
     ]
    }
   ],
   "source": [
    "sqft_intercept, sqft_slope = simple_linear_regression(train_data['sqft_living'], train_data['price'])\n",
    "\n",
    "print \"Intercept: \" + str(sqft_intercept)\n",
    "print \"Slope: \" + str(sqft_slope)"
   ]
  },
  {
   "cell_type": "markdown",
   "metadata": {},
   "source": [
    "# Predicting Values"
   ]
  },
  {
   "cell_type": "markdown",
   "metadata": {},
   "source": [
    "Now that we have the model parameters: intercept & slope we can make predictions. Using SArrays it's easy to multiply an SArray by a constant and add a constant value. Complete the following function to return the predicted output given the input_feature, slope and intercept:"
   ]
  },
  {
   "cell_type": "code",
   "execution_count": 37,
   "metadata": {
    "collapsed": false
   },
   "outputs": [
    {
     "data": {
      "application/javascript": [
       "$(\"head\").append($(\"<link/>\").attr({\n",
       "  rel:  \"stylesheet\",\n",
       "  type: \"text/css\",\n",
       "  href: \"//cdnjs.cloudflare.com/ajax/libs/font-awesome/4.1.0/css/font-awesome.min.css\"\n",
       "}));\n",
       "$(\"head\").append($(\"<link/>\").attr({\n",
       "  rel:  \"stylesheet\",\n",
       "  type: \"text/css\",\n",
       "  href: \"https://static.turi.com/products/graphlab-create/2.1/canvas/css/canvas.css\"\n",
       "}));\n",
       "\n",
       "            (function(){\n",
       "\n",
       "                var e = null;\n",
       "                if (typeof element == 'undefined') {\n",
       "                    var scripts = document.getElementsByTagName('script');\n",
       "                    var thisScriptTag = scripts[scripts.length-1];\n",
       "                    var parentDiv = thisScriptTag.parentNode;\n",
       "                    e = document.createElement('div');\n",
       "                    parentDiv.appendChild(e);\n",
       "                } else {\n",
       "                    e = element[0];\n",
       "                }\n",
       "\n",
       "                if (typeof requirejs !== 'undefined') {\n",
       "                    // disable load timeout; ipython_app.js is large and can take a while to load.\n",
       "                    requirejs.config({waitSeconds: 0});\n",
       "                }\n",
       "\n",
       "                require(['https://static.turi.com/products/graphlab-create/2.1/canvas/js/ipython_app.js'], function(IPythonApp){\n",
       "                    var app = new IPythonApp();\n",
       "                    app.attachView('sframe','Plots', {\"selected_variable\": {\"name\": [\"sales\"], \"descriptives\": {\"rows\": 21613, \"columns\": 21}, \"view_component\": \"Plots\", \"view_file\": \"sframe\", \"view_params\": {\"y\": \"price\", \"x\": \"sqft_living\", \"columns\": [\"id\", \"date\", \"price\", \"bedrooms\", \"bathrooms\", \"sqft_living\", \"sqft_lot\", \"floors\", \"waterfront\", \"view\", \"condition\", \"grade\", \"sqft_above\", \"sqft_basement\", \"yr_built\", \"yr_renovated\", \"zipcode\", \"lat\", \"long\", \"sqft_living15\", \"sqft_lot15\"], \"view\": \"Scatter Plot\"}, \"view_components\": [\"Summary\", \"Table\", \"Bar Chart\", \"BoxWhisker Plot\", \"Line Chart\", \"Scatter Plot\", \"Heat Map\", \"Plots\"], \"type\": \"SFrame\", \"columns\": [{\"dtype\": \"str\", \"name\": \"id\"}, {\"dtype\": \"datetime\", \"name\": \"date\"}, {\"dtype\": \"float\", \"name\": \"price\"}, {\"dtype\": \"float\", \"name\": \"bedrooms\"}, {\"dtype\": \"float\", \"name\": \"bathrooms\"}, {\"dtype\": \"float\", \"name\": \"sqft_living\"}, {\"dtype\": \"int\", \"name\": \"sqft_lot\"}, {\"dtype\": \"str\", \"name\": \"floors\"}, {\"dtype\": \"int\", \"name\": \"waterfront\"}, {\"dtype\": \"int\", \"name\": \"view\"}, {\"dtype\": \"int\", \"name\": \"condition\"}, {\"dtype\": \"int\", \"name\": \"grade\"}, {\"dtype\": \"int\", \"name\": \"sqft_above\"}, {\"dtype\": \"int\", \"name\": \"sqft_basement\"}, {\"dtype\": \"int\", \"name\": \"yr_built\"}, {\"dtype\": \"int\", \"name\": \"yr_renovated\"}, {\"dtype\": \"str\", \"name\": \"zipcode\"}, {\"dtype\": \"float\", \"name\": \"lat\"}, {\"dtype\": \"float\", \"name\": \"long\"}, {\"dtype\": \"float\", \"name\": \"sqft_living15\"}, {\"dtype\": \"float\", \"name\": \"sqft_lot15\"}], \"column_identifiers\": [\"bathrooms\", \"sqft_living15\", \"sqft_above\", \"grade\", \"yr_built\", \"price\", \"bedrooms\", \"zipcode\", \"long\", \"id\", \"sqft_lot15\", \"sqft_living\", \"floors\", \"sqft_lot\", \"date\", \"waterfront\", \"sqft_basement\", \"yr_renovated\", \"lat\", \"condition\", \"view\"]}, \"complete\": 1, \"ipython\": true, \"progress\": 1.0, \"data\": [[1550.0, 555000.0], [1550.0, 685000.0], [1250.0, 462000.0], [2090.0, 380000.0], [1190.0, 160134.0], [2040.0, 289950.0], [2220.0, 332500.0], [2220.0, 349990.0], [2460.0, 347500.0], [1160.0, 345000.0], [3560.0, 662500.0], [2660.0, 590000.0], [2630.0, 385000.0], [1810.0, 450000.0], [3440.0, 1050000.0], [2990.0, 772000.0], [1310.0, 242000.0], [1600.0, 485000.0], [2180.0, 330000.0], [2490.0, 572500.0], [1870.0, 325000.0], [2800.0, 1028000.0], [1480.0, 455000.0], [1900.0, 420000.0], [2300.0, 505000.0], [1630.0, 725000.0], [2410.0, 432000.0], [1500.0, 529950.0], [3020.0, 975000.0], [1080.0, 228500.0], [1930.0, 542000.0], [1600.0, 395000.0], [2060.0, 460000.0], [1520.0, 230000.0], [2550.0, 699000.0], [3380.0, 350000.0], [1990.0, 569000.0], [1660.0, 619000.0], [1520.0, 288000.0], [1360.0, 237100.0], [2620.0, 277500.0], [2820.0, 690000.0], [2020.0, 535000.0], [1220.0, 348580.0], [820.0, 365000.0], [2020.0, 552500.0], [1340.0, 160000.0], [1500.0, 707500.0], [1060.0, 420000.0], [1890.0, 521000.0], [3000.0, 759900.0], [1200.0, 483500.0], [1570.0, 352500.0], [840.0, 325000.0], [820.0, 265000.0], [710.0, 289000.0], [2960.0, 389500.0], [840.0, 135000.0], [2020.0, 356000.0], [3110.0, 600600.0], [1160.0, 208000.0], [3110.0, 755000.0], [2090.0, 546200.0], [2600.0, 430000.0], [970.0, 204995.0], [2010.0, 502000.0], [2240.0, 242000.0], [1220.0, 231000.0], [1390.0, 275000.0], [2760.0, 830000.0], [2590.0, 1500000.0], [1060.0, 206000.0], [1560.0, 353900.0], [1780.0, 325000.0], [1680.0, 629950.0], [840.0, 360000.0], [2140.0, 998500.0], [2530.0, 368500.0], [970.0, 560000.0], [4370.0, 1025000.0], [1830.0, 470000.0], [3940.0, 933399.0], [1070.0, 550000.0], [1420.0, 306500.0], [2050.0, 245000.0], [2100.0, 426500.0], [1360.0, 370000.0], [1390.0, 190500.0], [1230.0, 139500.0], [2610.0, 547500.0], [1510.0, 593777.0], [2990.0, 498500.0], [1910.0, 496600.0], [2240.0, 375000.0], [1360.0, 536500.0], [1620.0, 425000.0], [1550.0, 430000.0], [1030.0, 595000.0], [1400.0, 425000.0], [1120.0, 230000.0], [1540.0, 570000.0], [4590.0, 3000000.0], [2070.0, 781000.0], [1296.0, 399950.0], [2980.0, 750000.0], [2340.0, 375000.0], [2790.0, 535000.0], [1240.0, 188500.0], [2470.0, 669000.0], [1830.0, 358000.0], [1430.0, 266200.0], [1610.0, 246700.0], [1540.0, 272500.0], [2420.0, 279950.0], [1770.0, 320900.0], [2120.0, 440000.0], [1280.0, 495000.0], [2950.0, 402000.0], [1060.0, 279475.0], [3400.0, 951000.0], [1770.0, 350500.0], [1450.0, 391500.0], [1590.0, 339275.0], [2950.0, 1865000.0], [1620.0, 298000.0], [3050.0, 740000.0], [2630.0, 430000.0], [2360.0, 700000.0], [1910.0, 630000.0], [1230.0, 400000.0], [1820.0, 515000.0], [2010.0, 660500.0], [3840.0, 875000.0], [1750.0, 585000.0], [2400.0, 456500.0], [1480.0, 598950.0], [1570.0, 346500.0], [2020.0, 430000.0], [740.0, 175000.0], [960.0, 201000.0], [3760.0, 1375000.0], [2640.0, 389517.0], [1030.0, 397000.0], [9890.0, 6885000.0], [2210.0, 240000.0], [2060.0, 890000.0], [1490.0, 265950.0], [1940.0, 359000.0], [2260.0, 258000.0], [2470.0, 503000.0], [3570.0, 935000.0], [3620.0, 480000.0], [1160.0, 350000.0], [1680.0, 306000.0], [2730.0, 565000.0], [2200.0, 559900.0], [2920.0, 1051000.0], [2400.0, 592000.0], [1358.0, 280000.0], [2300.0, 352500.0], [980.0, 393000.0], [1970.0, 340000.0], [3400.0, 900000.0], [1200.0, 250000.0], [2020.0, 420000.0], [2160.0, 650000.0], [2330.0, 580000.0], [1780.0, 365000.0], [4440.0, 1295000.0], [6200.0, 1959000.0], [1160.0, 500000.0], [1413.0, 286800.0], [2600.0, 555000.0], [1260.0, 305000.0], [2590.0, 673000.0], [1720.0, 555000.0], [1310.0, 291750.0], [1270.0, 406000.0], [1950.0, 269950.0], [1710.0, 320000.0], [1300.0, 502000.0], [1100.0, 339000.0], [1500.0, 270000.0], [1460.0, 465000.0], [2100.0, 505000.0], [4090.0, 1095000.0], [1830.0, 236000.0], [2640.0, 1545000.0], [1920.0, 270000.0], [3220.0, 355000.0], [1880.0, 529000.0], [1010.0, 250000.0], [830.0, 225000.0], [1940.0, 1151250.0], [1800.0, 449950.0], [3690.0, 725000.0], [1660.0, 374950.0], [5450.0, 610000.0], [2420.0, 920000.0], [2770.0, 675000.0], [2200.0, 345000.0], [1310.0, 280000.0], [2660.0, 851000.0], [1170.0, 564000.0], [1230.0, 349950.0], [2480.0, 840000.0], [1560.0, 511100.0], [900.0, 275000.0], [1030.0, 229950.0], [1410.0, 541000.0], [1090.0, 440000.0], [2580.0, 937750.0], [1700.0, 652000.0], [1330.0, 225000.0], [1000.0, 352500.0], [1480.0, 315000.0], [2160.0, 625500.0], [1080.0, 192500.0], [1210.0, 173250.0], [1320.0, 467000.0], [1250.0, 340000.0], [1140.0, 660000.0], [3470.0, 1500000.0], [1220.0, 580000.0], [2080.0, 715000.0], [3300.0, 760000.0], [2320.0, 934550.0], [1560.0, 270000.0], [2680.0, 390000.0], [2430.0, 410000.0], [3630.0, 1085000.0], [3260.0, 1328000.0], [1910.0, 650000.0], [1220.0, 415000.0], [1460.0, 480000.0], [1340.0, 360000.0], [1100.0, 428750.0], [1480.0, 319000.0], [1260.0, 550000.0], [1660.0, 324500.0], [1010.0, 387000.0], [1570.0, 359950.0], [4560.0, 1200000.0], [1700.0, 979000.0], [1390.0, 354000.0], [2840.0, 450000.0], [1690.0, 370000.0], [2200.0, 950000.0], [2450.0, 530000.0], [1610.0, 269000.0], [1210.0, 257500.0], [2580.0, 787888.0], [4400.0, 1800000.0], [1560.0, 292000.0], [4050.0, 670000.0], [2710.0, 668500.0], [3950.0, 860000.0], [2930.0, 645000.0], [2665.0, 340000.0], [2660.0, 635000.0], [1320.0, 279000.0], [1270.0, 237000.0], [1970.0, 400000.0], [910.0, 465000.0], [3510.0, 723000.0], [2120.0, 600000.0], [2400.0, 275000.0], [3470.0, 920000.0], [2070.0, 272500.0], [1820.0, 699000.0], [1427.0, 260000.0], [1700.0, 616300.0], [2180.0, 580000.0], [1140.0, 358000.0], [1330.0, 425000.0], [3340.0, 637850.0], [2370.0, 475000.0], [830.0, 200000.0], [2270.0, 352750.0], [2070.0, 366500.0], [950.0, 285000.0], [2210.0, 294000.0], [3830.0, 2050000.0], [2168.0, 575000.0], [1921.0, 245000.0], [2890.0, 550000.0], [2440.0, 954500.0], [2840.0, 945000.0], [2090.0, 424950.0], [2840.0, 292050.0], [2780.0, 870000.0], [2170.0, 419000.0], [1330.0, 280000.0], [4320.0, 1670000.0], [3840.0, 884250.0], [2210.0, 500000.0], [1080.0, 219000.0], [1240.0, 379900.0], [840.0, 290000.0], [4310.0, 1130000.0], [1460.0, 505000.0], [2490.0, 949000.0], [1980.0, 400000.0], [2260.0, 400000.0], [2570.0, 275000.0], [1220.0, 231000.0], [3790.0, 1165000.0], [2360.0, 339999.0], [840.0, 400000.0], [2720.0, 469950.0], [1080.0, 390000.0], [3930.0, 589000.0], [1580.0, 500000.0], [1650.0, 382000.0], [1830.0, 348000.0], [1950.0, 305000.0], [2870.0, 872750.0], [1490.0, 184000.0], [1380.0, 380000.0], [1330.0, 300000.0], [1420.0, 265000.0], [2030.0, 520000.0], [4210.0, 1146800.0], [760.0, 261590.0], [2600.0, 252500.0], [3930.0, 1875000.0], [1730.0, 258000.0], [2200.0, 280000.0], [4320.0, 565000.0], [1600.0, 390000.0], [5760.0, 2880500.0], [1810.0, 235000.0], [1440.0, 328000.0], [1620.0, 439000.0], [1040.0, 160000.0], [1360.0, 488000.0], [4030.0, 890000.0], [2480.0, 920000.0], [1890.0, 570000.0], [1310.0, 320000.0], [2490.0, 306000.0], [1480.0, 450000.0], [5120.0, 1550000.0], [1240.0, 355000.0], [2260.0, 486000.0], [2480.0, 716000.0], [1658.0, 263900.0], [1620.0, 657500.0], [1250.0, 491000.0], [1350.0, 428000.0], [2430.0, 255000.0], [1720.0, 389700.0], [1900.0, 315000.0], [1270.0, 435000.0], [1330.0, 539950.0], [2570.0, 680000.0], [2198.0, 388000.0], [3020.0, 670000.0], [700.0, 328000.0], [2260.0, 551000.0], [2220.0, 555000.0], [1720.0, 234950.0], [3220.0, 640000.0], [1260.0, 255000.0], [1680.0, 451000.0], [1470.0, 352500.0], [740.0, 235750.0], [3030.0, 998000.0], [4020.0, 1950000.0], [2600.0, 691500.0], [2460.0, 520000.0], [2180.0, 315000.0], [2460.0, 675000.0], [1770.0, 295000.0], [1450.0, 297000.0], [1320.0, 150000.0], [1050.0, 473000.0], [1040.0, 642000.0], [1584.0, 263000.0], [3300.0, 780000.0], [2320.0, 630000.0], [1410.0, 225000.0], [2550.0, 369000.0], [1350.0, 477000.0], [2160.0, 900000.0], [2510.0, 799000.0], [2160.0, 354000.0], [1650.0, 267500.0], [1440.0, 420000.0], [840.0, 199950.0], [1230.0, 195000.0], [2010.0, 360000.0], [2320.0, 316000.0], [1130.0, 672000.0], [2080.0, 660000.0], [1680.0, 412500.0], [700.0, 367000.0], [1970.0, 374950.0], [1700.0, 985000.0], [2060.0, 348000.0], [990.0, 210000.0], [1530.0, 575000.0], [1240.0, 324950.0], [1660.0, 225000.0], [2880.0, 751000.0], [1950.0, 395000.0], [2940.0, 885000.0], [2660.0, 545000.0], [2730.0, 510000.0], [1180.0, 355000.0], [800.0, 295000.0], [1280.0, 390000.0], [1430.0, 252000.0], [930.0, 190000.0], [530.0, 400000.0], [1480.0, 160000.0], [1710.0, 482000.0], [2200.0, 423000.0], [2630.0, 625000.0], [1620.0, 299000.0], [2630.0, 585000.0], [2610.0, 925000.0], [3030.0, 400000.0], [1540.0, 530100.0], [1440.0, 325000.0], [2710.0, 615000.0], [1946.0, 485000.0], [2050.0, 360000.0], [2070.0, 449950.0], [1180.0, 220000.0], [1660.0, 225000.0], [1930.0, 425000.0], [1440.0, 365000.0], [2060.0, 400000.0], [1530.0, 269000.0], [1980.0, 306000.0], [1330.0, 389000.0], [1590.0, 190000.0], [2350.0, 400000.0], [2370.0, 870000.0], [2240.0, 654000.0], [880.0, 248500.0], [2760.0, 745000.0], [2420.0, 345000.0], [1020.0, 200000.0], [1280.0, 187000.0], [2244.0, 269950.0], [2730.0, 565000.0], [1390.0, 162500.0], [2530.0, 349900.0], [1270.0, 348000.0], [1440.0, 413800.0], [1650.0, 251000.0], [1710.0, 685000.0], [2180.0, 485000.0], [2430.0, 362300.0], [2900.0, 785000.0], [4130.0, 998000.0], [1970.0, 540000.0], [1280.0, 355000.0], [3390.0, 915000.0], [890.0, 358000.0], [1510.0, 230000.0], [2330.0, 375000.0], [980.0, 330000.0], [2270.0, 435000.0], [1320.0, 359000.0], [2700.0, 680000.0], [1940.0, 299000.0], [1570.0, 252000.0], [2890.0, 978000.0], [1170.0, 352500.0], [1160.0, 390000.0], [1600.0, 492500.0], [3540.0, 899000.0], [2680.0, 779950.0], [1610.0, 460000.0], [2050.0, 252000.0], [1190.0, 240000.0], [840.0, 187000.0], [1140.0, 420000.0], [2160.0, 750000.0], [1860.0, 275000.0], [3260.0, 1280000.0], [1040.0, 596000.0], [1730.0, 216000.0], [2510.0, 571000.0], [4380.0, 995000.0], [5774.0, 740000.0], [2460.0, 405000.0], [1220.0, 467000.0], [1390.0, 431000.0], [2990.0, 1061604.0], [840.0, 377500.0], [1490.0, 230000.0], [1140.0, 569950.0], [1710.0, 675000.0], [2930.0, 710000.0], [1120.0, 202500.0], [1720.0, 365000.0], [2830.0, 680000.0], [970.0, 325000.0], [1930.0, 342000.0], [2790.0, 751000.0], [1330.0, 257000.0], [1920.0, 308950.0], [1340.0, 239000.0], [470.0, 192500.0], [940.0, 239000.0], [4170.0, 810000.0], [1540.0, 357000.0], [1780.0, 526000.0], [1510.0, 479200.0], [980.0, 133000.0], [1210.0, 453000.0], [1640.0, 408000.0], [1680.0, 227000.0], [1820.0, 327500.0], [2510.0, 490000.0], [2270.0, 631000.0], [1840.0, 585000.0], [1980.0, 345000.0], [1800.0, 442500.0], [2680.0, 475000.0], [2250.0, 333490.0], [1130.0, 354000.0], [1690.0, 461000.0], [1560.0, 385000.0], [2170.0, 340000.0], [1463.0, 390000.0], [1840.0, 285000.0], [1360.0, 200000.0], [1780.0, 710000.0], [2100.0, 759000.0], [1040.0, 204000.0], [1450.0, 375000.0], [1760.0, 440000.0], [1330.0, 385000.0], [1530.0, 371025.0], [1890.0, 525000.0], [2370.0, 655000.0], [1580.0, 557510.0], [2580.0, 1075000.0], [1220.0, 469950.0], [1210.0, 310000.0], [2240.0, 534950.0], [2390.0, 535000.0], [890.0, 391000.0], [1190.0, 295950.0], [1500.0, 419000.0], [800.0, 422500.0], [2680.0, 608095.0], [1790.0, 451000.0], [2680.0, 653000.0], [1300.0, 396000.0], [1140.0, 329000.0], [1790.0, 560000.0], [4790.0, 818500.0], [1068.0, 239950.0], [3250.0, 863500.0], [2380.0, 695000.0], [2880.0, 660000.0], [2440.0, 562500.0], [4120.0, 863000.0], [1330.0, 400000.0], [2740.0, 648000.0], [4360.0, 795127.0], [2530.0, 590000.0], [1580.0, 375000.0], [1720.0, 360000.0], [2320.0, 568000.0], [2060.0, 435000.0], [1120.0, 249950.0], [1540.0, 302000.0], [3030.0, 875000.0], [2440.0, 515000.0], [1760.0, 387000.0], [2170.0, 329900.0], [1070.0, 425000.0], [1840.0, 265000.0], [960.0, 395000.0], [1290.0, 265000.0], [1850.0, 373000.0], [1780.0, 443000.0], [1610.0, 263500.0], [2280.0, 395000.0], [2460.0, 495000.0], [2880.0, 775000.0], [1440.0, 269000.0], [3060.0, 959750.0], [3350.0, 550000.0], [1230.0, 250000.0], [1230.0, 275000.0], [3290.0, 775000.0], [1080.0, 315000.0], [1430.0, 270000.0], [3100.0, 700000.0], [3230.0, 1776000.0], [3740.0, 1139990.0], [1320.0, 206000.0], [3100.0, 540000.0], [3250.0, 875000.0], [990.0, 285000.0], [1445.0, 366000.0], [1640.0, 775000.0], [2250.0, 585000.0], [1170.0, 235000.0], [940.0, 443500.0], [2060.0, 885000.0], [3238.0, 355425.0], [2800.0, 439000.0], [6040.0, 1150000.0], [1170.0, 336750.0], [1980.0, 361500.0], [1510.0, 675000.0], [1560.0, 592000.0], [1780.0, 336000.0], [2330.0, 615000.0], [2720.0, 420000.0], [920.0, 417000.0], [1860.0, 477500.0], [1626.0, 526000.0], [2850.0, 655000.0], [3270.0, 600000.0], [1430.0, 450000.0], [2050.0, 370228.0], [1660.0, 559950.0], [920.0, 514000.0], [1800.0, 410000.0], [2610.0, 510000.0], [1690.0, 462500.0], [1640.0, 478000.0], [910.0, 275000.0], [7880.0, 2415000.0], [1200.0, 460000.0], [1340.0, 205000.0], [2240.0, 349950.0], [2190.0, 450000.0], [1080.0, 411000.0], [1260.0, 320000.0], [1560.0, 1200000.0], [4130.0, 1070000.0], [970.0, 546000.0], [2560.0, 1175000.0], [2870.0, 710000.0], [700.0, 399000.0], [1680.0, 545000.0], [2550.0, 315000.0], [1400.0, 575000.0], [2650.0, 674950.0], [1480.0, 254000.0], [1620.0, 600000.0], [1580.0, 540000.0], [2090.0, 555000.0], [2300.0, 299000.0], [1850.0, 218000.0], [920.0, 176000.0], [3180.0, 1227500.0], [2180.0, 480000.0], [990.0, 269950.0], [770.0, 260000.0], [930.0, 190000.0], [1850.0, 390000.0], [1800.0, 205000.0], [880.0, 360000.0], [2200.0, 424000.0], [1960.0, 250000.0], [2180.0, 230000.0], [1630.0, 165000.0], [6640.0, 4500000.0], [1390.0, 280000.0], [1560.0, 425000.0], [2140.0, 615750.0], [3620.0, 856000.0], [3650.0, 1210000.0], [1310.0, 240000.0], [1010.0, 280000.0], [2140.0, 530000.0], [850.0, 308500.0], [1510.0, 248000.0], [950.0, 304000.0], [2860.0, 503000.0], [2360.0, 871000.0], [4700.0, 1400000.0], [2240.0, 439000.0], [3520.0, 589500.0], [1710.0, 715000.0], [3280.0, 594950.0], [1650.0, 705000.0], [3160.0, 1280000.0], [720.0, 150000.0], [1430.0, 462600.0], [1990.0, 507500.0], [2130.0, 546500.0], [2460.0, 600000.0], [1610.0, 650000.0], [2830.0, 533000.0], [3680.0, 980000.0], [2340.0, 544000.0], [1890.0, 430000.0], [2290.0, 685900.0], [1820.0, 309000.0], [610.0, 286000.0], [2520.0, 975000.0], [2080.0, 800000.0], [2240.0, 469000.0], [2780.0, 479950.0], [1390.0, 425000.0], [1690.0, 270000.0], [1630.0, 468000.0], [2360.0, 504600.0], [800.0, 465000.0], [1460.0, 436000.0], [1680.0, 334000.0], [2060.0, 343888.0], [2320.0, 325900.0], [2800.0, 350000.0], [3760.0, 799950.0], [1000.0, 196000.0], [1510.0, 545000.0], [3640.0, 913000.0], [2750.0, 375000.0], [2420.0, 375000.0], [1070.0, 209000.0], [2520.0, 350000.0], [2670.0, 865000.0], [1260.0, 240000.0], [2100.0, 650000.0], [1320.0, 475000.0], [1380.0, 525000.0], [1260.0, 295000.0], [980.0, 575000.0], [2070.0, 289950.0], [1260.0, 188200.0], [1240.0, 277700.0], [890.0, 283000.0], [1940.0, 392000.0], [1090.0, 335000.0], [2400.0, 300000.0], [3180.0, 1411600.0], [1000.0, 400000.0], [3720.0, 1050000.0], [3230.0, 827000.0], [1830.0, 325000.0], [1050.0, 187000.0], [1200.0, 234000.0], [2860.0, 815000.0], [1380.0, 539000.0], [3470.0, 834800.0], [3160.0, 1190000.0], [1660.0, 285000.0], [1670.0, 680000.0], [2660.0, 447000.0], [2380.0, 699800.0], [4480.0, 490000.0], [1500.0, 415000.0], [3490.0, 692000.0], [700.0, 340000.0], [2550.0, 703770.0], [1320.0, 430000.0], [4120.0, 1300000.0], [3090.0, 850000.0], [1390.0, 345000.0], [3000.0, 398950.0], [1230.0, 205000.0], [2330.0, 639500.0], [1510.0, 335000.0], [1510.0, 415000.0], [1040.0, 210000.0], [1200.0, 718500.0], [890.0, 475000.0], [1790.0, 410000.0], [2110.0, 580000.0], [660.0, 225000.0], [2060.0, 323400.0], [2840.0, 713000.0], [3100.0, 1450000.0], [1990.0, 450000.0], [2510.0, 267000.0], [3100.0, 1289000.0], [6900.0, 1135000.0], [1270.0, 335000.0], [2640.0, 1084500.0], [1760.0, 382495.0], [2490.0, 550000.0], [910.0, 389000.0], [1330.0, 375000.0], [1380.0, 350000.0], [1810.0, 358000.0], [2220.0, 921000.0], [3440.0, 1285000.0], [1610.0, 225000.0], [2300.0, 738500.0], [1350.0, 270000.0], [1660.0, 431000.0], [1300.0, 550000.0], [1740.0, 616000.0], [2690.0, 563750.0], [1680.0, 427000.0], [1780.0, 1000000.0], [1240.0, 459000.0], [1000.0, 265000.0], [840.0, 389100.0], [1430.0, 394900.0], [980.0, 375000.0], [2140.0, 419000.0], [1340.0, 417000.0], [3170.0, 660000.0], [2280.0, 325000.0], [2280.0, 675000.0], [1250.0, 345000.0], [1740.0, 472000.0], [2880.0, 830000.0], [2210.0, 250250.0], [3060.0, 588000.0], [1460.0, 475000.0], [2710.0, 600000.0], [1740.0, 480000.0], [3300.0, 1105000.0], [1910.0, 485000.0], [1490.0, 325000.0], [1850.0, 450000.0], [2420.0, 820000.0], [2590.0, 790100.0], [2860.0, 874000.0], [970.0, 226000.0], [1830.0, 740000.0], [4090.0, 640000.0], [1850.0, 287200.0], [3680.0, 1378000.0], [2310.0, 422000.0], [1650.0, 599000.0], [1840.0, 404000.0], [1850.0, 476100.0], [1870.0, 306000.0], [1440.0, 292500.0], [2710.0, 865000.0], [720.0, 330000.0], [1500.0, 578000.0], [2470.0, 332000.0], [1920.0, 341000.0], [3620.0, 996000.0], [2580.0, 915000.0], [1810.0, 501000.0], [2980.0, 330000.0], [2140.0, 589999.0], [1590.0, 278000.0], [2080.0, 567500.0], [2240.0, 555000.0], [1090.0, 685000.0], [1510.0, 516130.0], [3400.0, 530000.0], [1630.0, 231500.0], [1340.0, 309500.0], [2720.0, 545000.0], [2610.0, 1049000.0], [3120.0, 375000.0], [4040.0, 1250000.0], [1520.0, 425000.0], [1720.0, 245000.0], [1250.0, 344000.0], [800.0, 180000.0], [2350.0, 299000.0], [2650.0, 425000.0], [2200.0, 460000.0], [2820.0, 735000.0], [2100.0, 750000.0], [1060.0, 435000.0], [2560.0, 499000.0], [2080.0, 545000.0], [5940.0, 1149000.0], [2030.0, 305000.0], [2060.0, 339989.0], [1720.0, 500000.0], [1400.0, 510250.0], [1300.0, 505500.0], [1530.0, 147500.0], [1380.0, 272000.0], [1020.0, 285000.0], [2060.0, 459500.0], [2440.0, 548000.0], [1960.0, 509000.0], [1480.0, 483945.0], [1380.0, 209950.0], [1320.0, 455000.0], [840.0, 450000.0], [2510.0, 375000.0], [1370.0, 168000.0], [1830.0, 452000.0], [1870.0, 325000.0], [1510.0, 250000.0], [1490.0, 490000.0], [2100.0, 1081000.0], [2320.0, 470101.0], [2900.0, 720000.0], [1670.0, 649950.0], [2440.0, 631625.0], [1340.0, 349000.0], [2250.0, 950000.0], [1390.0, 657100.0], [2040.0, 675000.0], [3490.0, 975000.0], [1440.0, 705000.0], [3900.0, 850000.0], [1650.0, 447000.0], [2430.0, 459950.0], [920.0, 275000.0], [3310.0, 1650000.0], [810.0, 206000.0], [1400.0, 265000.0], [1420.0, 234000.0], [2630.0, 500000.0], [4200.0, 1460000.0], [1100.0, 184000.0], [1370.0, 354800.0], [3420.0, 549900.0], [3850.0, 925000.0], [770.0, 176000.0], [2540.0, 719000.0], [1890.0, 458500.0], [1440.0, 250000.0], [1470.0, 381000.0], [2340.0, 645000.0], [1020.0, 212000.0], [1560.0, 451000.0], [3180.0, 1505000.0], [2740.0, 530000.0], [2680.0, 359999.0], [2930.0, 635000.0], [1580.0, 225000.0], [1550.0, 351000.0], [1660.0, 625000.0], [1150.0, 300000.0], [3360.0, 769995.0], [2770.0, 359000.0], [2064.0, 567035.0], [2790.0, 378000.0], [1940.0, 420000.0], [3780.0, 833000.0], [2040.0, 580000.0], [1410.0, 425000.0], [2430.0, 427500.0], [1300.0, 675000.0], [4390.0, 971000.0], [2110.0, 325000.0], [1870.0, 293000.0], [2270.0, 643000.0], [1150.0, 370000.0], [2400.0, 515055.0], [1490.0, 745000.0], [1710.0, 480000.0], [1370.0, 175000.0], [1940.0, 665000.0], [1290.0, 265000.0], [3597.0, 330000.0], [2020.0, 345000.0], [1200.0, 225205.0], [2020.0, 532000.0], [1860.0, 510000.0], [2900.0, 630000.0], [2730.0, 620000.0], [1890.0, 1430000.0], [2510.0, 600000.0], [2260.0, 514000.0], [2460.0, 599000.0], [1072.0, 250000.0], [1760.0, 490000.0], [2280.0, 577500.0], [1170.0, 250000.0], [3490.0, 1620000.0], [1780.0, 455000.0], [1070.0, 265000.0], [2540.0, 489950.0], [3270.0, 1033888.0], [2090.0, 490000.0], [1720.0, 514000.0], [2400.0, 535000.0], [1450.0, 440000.0], [1800.0, 409316.0], [1460.0, 591000.0], [990.0, 402500.0], [2520.0, 598500.0], [2520.0, 392400.0], [1070.0, 370000.0], [2380.0, 330000.0], [1310.0, 510000.0], [2550.0, 660000.0], [1180.0, 273000.0], [2120.0, 425000.0], [1120.0, 166000.0], [2060.0, 640000.0], [2290.0, 620000.0], [2530.0, 375000.0], [1760.0, 388000.0], [5370.0, 1350000.0], [990.0, 226550.0], [2230.0, 280000.0], [2450.0, 359950.0], [3210.0, 889000.0], [2290.0, 470000.0]], \"columns\": [{\"dtype\": \"str\", \"name\": \"id\"}, {\"dtype\": \"datetime\", \"name\": \"date\"}, {\"dtype\": \"float\", \"name\": \"price\"}, {\"dtype\": \"float\", \"name\": \"bedrooms\"}, {\"dtype\": \"float\", \"name\": \"bathrooms\"}, {\"dtype\": \"float\", \"name\": \"sqft_living\"}, {\"dtype\": \"int\", \"name\": \"sqft_lot\"}, {\"dtype\": \"str\", \"name\": \"floors\"}, {\"dtype\": \"int\", \"name\": \"waterfront\"}, {\"dtype\": \"int\", \"name\": \"view\"}, {\"dtype\": \"int\", \"name\": \"condition\"}, {\"dtype\": \"int\", \"name\": \"grade\"}, {\"dtype\": \"int\", \"name\": \"sqft_above\"}, {\"dtype\": \"int\", \"name\": \"sqft_basement\"}, {\"dtype\": \"int\", \"name\": \"yr_built\"}, {\"dtype\": \"int\", \"name\": \"yr_renovated\"}, {\"dtype\": \"str\", \"name\": \"zipcode\"}, {\"dtype\": \"float\", \"name\": \"lat\"}, {\"dtype\": \"float\", \"name\": \"long\"}, {\"dtype\": \"float\", \"name\": \"sqft_living15\"}, {\"dtype\": \"float\", \"name\": \"sqft_lot15\"}]}, e);\n",
       "                });\n",
       "            })();\n",
       "        "
      ]
     },
     "metadata": {},
     "output_type": "display_data"
    }
   ],
   "source": [
    "graphlab.canvas.set_target('ipynb')\n",
    "sales.show(view=\"Scatter Plot\", x=\"sqft_living\", y=\"price\")"
   ]
  },
  {
   "cell_type": "code",
   "execution_count": 34,
   "metadata": {
    "collapsed": false
   },
   "outputs": [],
   "source": [
    "def get_regression_predictions(input_feature, intercept, slope):\n",
    "    # calculate the predicted values:\n",
    "    predicted_values = input_feature*slope + intercept\n",
    "    return predicted_values"
   ]
  },
  {
   "cell_type": "markdown",
   "metadata": {},
   "source": [
    "Now that we can calculate a prediction given the slope and intercept let's make a prediction. Use (or alter) the following to find out the estimated price for a house with 2650 squarefeet according to the squarefeet model we estiamted above.\n",
    "\n",
    "**Quiz Question: Using your Slope and Intercept from (4), What is the predicted price for a house with 2650 sqft?**"
   ]
  },
  {
   "cell_type": "code",
   "execution_count": 35,
   "metadata": {
    "collapsed": false
   },
   "outputs": [
    {
     "name": "stdout",
     "output_type": "stream",
     "text": [
      "The estimated price for a house with 2650 squarefeet is $700074.85\n"
     ]
    }
   ],
   "source": [
    "my_house_sqft = 2650\n",
    "estimated_price = get_regression_predictions(my_house_sqft, sqft_intercept, sqft_slope)\n",
    "print \"The estimated price for a house with %d squarefeet is $%.2f\" % (my_house_sqft, estimated_price)"
   ]
  },
  {
   "cell_type": "markdown",
   "metadata": {},
   "source": [
    "# Residual Sum of Squares"
   ]
  },
  {
   "cell_type": "markdown",
   "metadata": {},
   "source": [
    "Now that we have a model and can make predictions let's evaluate our model using Residual Sum of Squares (RSS). Recall that RSS is the sum of the squares of the residuals and the residuals is just a fancy word for the difference between the predicted output and the true output. \n",
    "\n",
    "Complete the following (or write your own) function to compute the RSS of a simple linear regression model given the input_feature, output, intercept and slope:"
   ]
  },
  {
   "cell_type": "code",
   "execution_count": 38,
   "metadata": {
    "collapsed": true
   },
   "outputs": [],
   "source": [
    "def get_residual_sum_of_squares(input_feature, output, intercept, slope):\n",
    "    # First get the predictions\n",
    "    predictions = input_feature*slope+intercept\n",
    "    # then compute the residuals (since we are squaring it doesn't matter which order you subtract)\n",
    "    R = predictions-output\n",
    "    # square the residuals and add them up\n",
    "    RSS = (R*R).sum()\n",
    "    return(RSS)"
   ]
  },
  {
   "cell_type": "markdown",
   "metadata": {},
   "source": [
    "Let's test our get_residual_sum_of_squares function by applying it to the test model where the data lie exactly on a line. Since they lie exactly on a line the residual sum of squares should be zero!"
   ]
  },
  {
   "cell_type": "code",
   "execution_count": 39,
   "metadata": {
    "collapsed": false
   },
   "outputs": [
    {
     "name": "stdout",
     "output_type": "stream",
     "text": [
      "0\n"
     ]
    }
   ],
   "source": [
    "print get_residual_sum_of_squares(test_feature, test_output, test_intercept, test_slope) # should be 0.0"
   ]
  },
  {
   "cell_type": "markdown",
   "metadata": {},
   "source": [
    "Now use your function to calculate the RSS on training data from the squarefeet model calculated above.\n",
    "\n",
    "**Quiz Question: According to this function and the slope and intercept from the squarefeet model What is the RSS for the simple linear regression using squarefeet to predict prices on TRAINING data?**"
   ]
  },
  {
   "cell_type": "code",
   "execution_count": 40,
   "metadata": {
    "collapsed": false
   },
   "outputs": [
    {
     "name": "stdout",
     "output_type": "stream",
     "text": [
      "The RSS of predicting Prices based on Square Feet is : 1.20191835632e+15\n"
     ]
    }
   ],
   "source": [
    "rss_prices_on_sqft = get_residual_sum_of_squares(train_data['sqft_living'], train_data['price'], sqft_intercept, sqft_slope)\n",
    "print 'The RSS of predicting Prices based on Square Feet is : ' + str(rss_prices_on_sqft)"
   ]
  },
  {
   "cell_type": "markdown",
   "metadata": {},
   "source": [
    "# Predict the squarefeet given price"
   ]
  },
  {
   "cell_type": "markdown",
   "metadata": {},
   "source": [
    "What if we want to predict the squarefoot given the price? Since we have an equation y = a + b\\*x we can solve the function for x. So that if we have the intercept (a) and the slope (b) and the price (y) we can solve for the estimated squarefeet (x).\n",
    "\n",
    "Comlplete the following function to compute the inverse regression estimate, i.e. predict the input_feature given the output!"
   ]
  },
  {
   "cell_type": "code",
   "execution_count": 41,
   "metadata": {
    "collapsed": true
   },
   "outputs": [],
   "source": [
    "def inverse_regression_predictions(output, intercept, slope):\n",
    "    # solve output = intercept + slope*input_feature for input_feature. Use this equation to compute the inverse predictions:\n",
    "    estimated_feature = (output - intercept)/slope\n",
    "    return estimated_feature"
   ]
  },
  {
   "cell_type": "markdown",
   "metadata": {},
   "source": [
    "Now that we have a function to compute the squarefeet given the price from our simple regression model let's see how big we might expect a house that costs $800,000 to be.\n",
    "\n",
    "**Quiz Question: According to this function and the regression slope and intercept from (3) what is the estimated square-feet for a house costing $800,000?**"
   ]
  },
  {
   "cell_type": "code",
   "execution_count": 42,
   "metadata": {
    "collapsed": false
   },
   "outputs": [
    {
     "name": "stdout",
     "output_type": "stream",
     "text": [
      "The estimated squarefeet for a house worth $800000.00 is 3004\n"
     ]
    }
   ],
   "source": [
    "my_house_price = 800000\n",
    "estimated_squarefeet = inverse_regression_predictions(my_house_price, sqft_intercept, sqft_slope)\n",
    "print \"The estimated squarefeet for a house worth $%.2f is %d\" % (my_house_price, estimated_squarefeet)"
   ]
  },
  {
   "cell_type": "markdown",
   "metadata": {},
   "source": [
    "# New Model: estimate prices from bedrooms"
   ]
  },
  {
   "cell_type": "markdown",
   "metadata": {},
   "source": [
    "We have made one model for predicting house prices using squarefeet, but there are many other features in the sales SFrame. \n",
    "Use your simple linear regression function to estimate the regression parameters from predicting Prices based on number of bedrooms. Use the training data!"
   ]
  },
  {
   "cell_type": "code",
   "execution_count": 45,
   "metadata": {
    "collapsed": false
   },
   "outputs": [
    {
     "name": "stdout",
     "output_type": "stream",
     "text": [
      "(109473.18046928808, 127588.95217458377)\n"
     ]
    }
   ],
   "source": [
    "# Estimate the slope and intercept for predicting 'price' based on 'bedrooms'\n",
    "bedrooms_intercept, bedrooms_slope = simple_linear_regression(train_data['bedrooms'], train_data['price'])\n",
    "print(bedrooms_intercept, bedrooms_slope)\n"
   ]
  },
  {
   "cell_type": "markdown",
   "metadata": {},
   "source": [
    "# Test your Linear Regression Algorithm"
   ]
  },
  {
   "cell_type": "markdown",
   "metadata": {},
   "source": [
    "Now we have two models for predicting the price of a house. How do we know which one is better? Calculate the RSS on the TEST data (remember this data wasn't involved in learning the model). Compute the RSS from predicting prices using bedrooms and from predicting prices using squarefeet.\n",
    "\n",
    "**Quiz Question: Which model (square feet or bedrooms) has lowest RSS on TEST data? Think about why this might be the case.**"
   ]
  },
  {
   "cell_type": "code",
   "execution_count": 48,
   "metadata": {
    "collapsed": false
   },
   "outputs": [
    {
     "name": "stdout",
     "output_type": "stream",
     "text": [
      "RSS bedrooms test data 8.2762798421e+11\n"
     ]
    }
   ],
   "source": [
    "# Compute RSS when using bedrooms on TEST data:\n",
    "RSS_bedrooms = get_residual_sum_of_squares(test_feature, test_output, bedrooms_intercept, bedrooms_slope)\n",
    "print('RSS bedrooms test data {}'.format(RSS_bedrooms))"
   ]
  },
  {
   "cell_type": "code",
   "execution_count": 49,
   "metadata": {
    "collapsed": false
   },
   "outputs": [
    {
     "name": "stdout",
     "output_type": "stream",
     "text": [
      "RSS sqft test data 10837703478.7\n"
     ]
    }
   ],
   "source": [
    "# Compute RSS when using squarefeet on TEST data:\n",
    "RSS_sqft = get_residual_sum_of_squares(test_feature, test_output, sqft_intercept, sqft_slope)\n",
    "print('RSS sqft test data {}'.format(RSS_sqft))"
   ]
  },
  {
   "cell_type": "code",
   "execution_count": null,
   "metadata": {
    "collapsed": true
   },
   "outputs": [],
   "source": []
  }
 ],
 "metadata": {
  "kernelspec": {
   "display_name": "Python 2",
   "language": "python",
   "name": "python2"
  },
  "language_info": {
   "codemirror_mode": {
    "name": "ipython",
    "version": 2
   },
   "file_extension": ".py",
   "mimetype": "text/x-python",
   "name": "python",
   "nbconvert_exporter": "python",
   "pygments_lexer": "ipython2",
   "version": "2.7.11"
  }
 },
 "nbformat": 4,
 "nbformat_minor": 0
}
