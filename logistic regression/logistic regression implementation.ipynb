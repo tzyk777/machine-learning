{
 "cells": [
  {
   "cell_type": "code",
   "execution_count": 18,
   "metadata": {
    "collapsed": true
   },
   "outputs": [],
   "source": [
    "import pandas as pd\n",
    "import numpy as np\n",
    "import re\n",
    "import string"
   ]
  },
  {
   "cell_type": "code",
   "execution_count": 2,
   "metadata": {
    "collapsed": true
   },
   "outputs": [],
   "source": [
    "products = pd.DataFrame.from_csv('amazon_baby_subset.csv')"
   ]
  },
  {
   "cell_type": "code",
   "execution_count": 4,
   "metadata": {
    "collapsed": false
   },
   "outputs": [
    {
     "data": {
      "text/html": [
       "<div>\n",
       "<table border=\"1\" class=\"dataframe\">\n",
       "  <thead>\n",
       "    <tr style=\"text-align: right;\">\n",
       "      <th></th>\n",
       "      <th>review</th>\n",
       "      <th>rating</th>\n",
       "      <th>sentiment</th>\n",
       "    </tr>\n",
       "    <tr>\n",
       "      <th>name</th>\n",
       "      <th></th>\n",
       "      <th></th>\n",
       "      <th></th>\n",
       "    </tr>\n",
       "  </thead>\n",
       "  <tbody>\n",
       "    <tr>\n",
       "      <th>Stop Pacifier Sucking without tears with Thumbuddy To Love's Binky Fairy Puppet and Adorable Book</th>\n",
       "      <td>All of my kids have cried non-stop when I trie...</td>\n",
       "      <td>5</td>\n",
       "      <td>1</td>\n",
       "    </tr>\n",
       "    <tr>\n",
       "      <th>Nature's Lullabies Second Year Sticker Calendar</th>\n",
       "      <td>We wanted to get something to keep track of ou...</td>\n",
       "      <td>5</td>\n",
       "      <td>1</td>\n",
       "    </tr>\n",
       "    <tr>\n",
       "      <th>Nature's Lullabies Second Year Sticker Calendar</th>\n",
       "      <td>My daughter had her 1st baby over a year ago. ...</td>\n",
       "      <td>5</td>\n",
       "      <td>1</td>\n",
       "    </tr>\n",
       "    <tr>\n",
       "      <th>Lamaze Peekaboo, I Love You</th>\n",
       "      <td>One of baby's first and favorite books, and it...</td>\n",
       "      <td>4</td>\n",
       "      <td>1</td>\n",
       "    </tr>\n",
       "    <tr>\n",
       "      <th>SoftPlay Peek-A-Boo Where's Elmo A Children's Book</th>\n",
       "      <td>Very cute interactive book! My son loves this ...</td>\n",
       "      <td>5</td>\n",
       "      <td>1</td>\n",
       "    </tr>\n",
       "    <tr>\n",
       "      <th>Our Baby Girl Memory Book</th>\n",
       "      <td>Beautiful book, I love it to record cherished ...</td>\n",
       "      <td>5</td>\n",
       "      <td>1</td>\n",
       "    </tr>\n",
       "    <tr>\n",
       "      <th>Hunnt&amp;reg; Falling Flowers and Birds Kids Nursery Home Decor Vinyl Mural Art Wall Paper Stickers</th>\n",
       "      <td>Try this out for a spring project !Easy ,fun a...</td>\n",
       "      <td>5</td>\n",
       "      <td>1</td>\n",
       "    </tr>\n",
       "    <tr>\n",
       "      <th>Blessed By Pope Benedict XVI Divine Mercy Full Color Medal</th>\n",
       "      <td>very nice Divine Mercy Pendant of Jesus now on...</td>\n",
       "      <td>5</td>\n",
       "      <td>1</td>\n",
       "    </tr>\n",
       "    <tr>\n",
       "      <th>Cloth Diaper Pins Stainless Steel Traditional Safety Pin (Black)</th>\n",
       "      <td>We bought the pins as my 6 year old Autistic s...</td>\n",
       "      <td>4</td>\n",
       "      <td>1</td>\n",
       "    </tr>\n",
       "    <tr>\n",
       "      <th>Cloth Diaper Pins Stainless Steel Traditional Safety Pin (Black)</th>\n",
       "      <td>It has been many years since we needed diaper ...</td>\n",
       "      <td>5</td>\n",
       "      <td>1</td>\n",
       "    </tr>\n",
       "  </tbody>\n",
       "</table>\n",
       "</div>"
      ],
      "text/plain": [
       "                                                                                               review  \\\n",
       "name                                                                                                    \n",
       "Stop Pacifier Sucking without tears with Thumbu...  All of my kids have cried non-stop when I trie...   \n",
       "Nature's Lullabies Second Year Sticker Calendar     We wanted to get something to keep track of ou...   \n",
       "Nature's Lullabies Second Year Sticker Calendar     My daughter had her 1st baby over a year ago. ...   \n",
       "Lamaze Peekaboo, I Love You                         One of baby's first and favorite books, and it...   \n",
       "SoftPlay Peek-A-Boo Where's Elmo A Children's Book  Very cute interactive book! My son loves this ...   \n",
       "Our Baby Girl Memory Book                           Beautiful book, I love it to record cherished ...   \n",
       "Hunnt&reg; Falling Flowers and Birds Kids Nurse...  Try this out for a spring project !Easy ,fun a...   \n",
       "Blessed By Pope Benedict XVI Divine Mercy Full ...  very nice Divine Mercy Pendant of Jesus now on...   \n",
       "Cloth Diaper Pins Stainless Steel Traditional S...  We bought the pins as my 6 year old Autistic s...   \n",
       "Cloth Diaper Pins Stainless Steel Traditional S...  It has been many years since we needed diaper ...   \n",
       "\n",
       "                                                    rating  sentiment  \n",
       "name                                                                   \n",
       "Stop Pacifier Sucking without tears with Thumbu...       5          1  \n",
       "Nature's Lullabies Second Year Sticker Calendar          5          1  \n",
       "Nature's Lullabies Second Year Sticker Calendar          5          1  \n",
       "Lamaze Peekaboo, I Love You                              4          1  \n",
       "SoftPlay Peek-A-Boo Where's Elmo A Children's Book       5          1  \n",
       "Our Baby Girl Memory Book                                5          1  \n",
       "Hunnt&reg; Falling Flowers and Birds Kids Nurse...       5          1  \n",
       "Blessed By Pope Benedict XVI Divine Mercy Full ...       5          1  \n",
       "Cloth Diaper Pins Stainless Steel Traditional S...       4          1  \n",
       "Cloth Diaper Pins Stainless Steel Traditional S...       5          1  "
      ]
     },
     "execution_count": 4,
     "metadata": {},
     "output_type": "execute_result"
    }
   ],
   "source": [
    "products[:10]"
   ]
  },
  {
   "cell_type": "code",
   "execution_count": 10,
   "metadata": {
    "collapsed": false
   },
   "outputs": [
    {
     "data": {
      "text/plain": [
       "(26579, 3)"
      ]
     },
     "execution_count": 10,
     "metadata": {},
     "output_type": "execute_result"
    }
   ],
   "source": [
    "products[products.sentiment == 1].shape"
   ]
  },
  {
   "cell_type": "code",
   "execution_count": 11,
   "metadata": {
    "collapsed": false
   },
   "outputs": [
    {
     "data": {
      "text/plain": [
       "(26493, 3)"
      ]
     },
     "execution_count": 11,
     "metadata": {},
     "output_type": "execute_result"
    }
   ],
   "source": [
    "products[products.sentiment == -1].shape"
   ]
  },
  {
   "cell_type": "code",
   "execution_count": 13,
   "metadata": {
    "collapsed": false
   },
   "outputs": [],
   "source": [
    "important_words = pd.read_json('important_words.json')"
   ]
  },
  {
   "cell_type": "code",
   "execution_count": 14,
   "metadata": {
    "collapsed": true
   },
   "outputs": [],
   "source": [
    "# data clean\n",
    "products = products.fillna({'review': ''})"
   ]
  },
  {
   "cell_type": "code",
   "execution_count": 19,
   "metadata": {
    "collapsed": false
   },
   "outputs": [],
   "source": [
    "regex = re.compile('[%s]' % re.escape(string.punctuation))\n",
    "def remove_punctuation(text):\n",
    "    return regex.sub('', text)\n",
    "products['clean_review'] = products['review'].apply(remove_punctuation)"
   ]
  },
  {
   "cell_type": "code",
   "execution_count": 29,
   "metadata": {
    "collapsed": false
   },
   "outputs": [],
   "source": [
    "# features extractor\n",
    "for word in important_words[0]:\n",
    "    products[word] = products['clean_review'].apply(lambda s: s.split().count(word))"
   ]
  },
  {
   "cell_type": "code",
   "execution_count": 36,
   "metadata": {
    "collapsed": false
   },
   "outputs": [],
   "source": [
    "# features counting\n",
    "for word in important_words[0]:\n",
    "    products['contains_{}'.format(word)] = products[word].apply(lambda c: 1 if c >= 1 else 0)"
   ]
  },
  {
   "cell_type": "code",
   "execution_count": 45,
   "metadata": {
    "collapsed": false
   },
   "outputs": [
    {
     "data": {
      "text/plain": [
       "2955"
      ]
     },
     "execution_count": 45,
     "metadata": {},
     "output_type": "execute_result"
    }
   ],
   "source": [
    "# Quiz Question. How many reviews contain the word perfect?\n",
    "products[products['contains_perfect'] == 1]['contains_perfect'].sum()"
   ]
  },
  {
   "cell_type": "code",
   "execution_count": 85,
   "metadata": {
    "collapsed": true
   },
   "outputs": [],
   "source": [
    "# convert dataframe to multi-dimensional array\n",
    "def get_numpy_data(dataframe, features, label):\n",
    "    dataframe['constant'] = 1\n",
    "    features = ['constant'] + features\n",
    "    features_frame = dataframe[features]\n",
    "    feature_matrix = features_frame.as_matrix()\n",
    "    label_parray = dataframe[label]\n",
    "    label_array = label_parray.as_matrix()\n",
    "    return (feature_matrix.astype(float), label_array.astype(float))"
   ]
  },
  {
   "cell_type": "code",
   "execution_count": 86,
   "metadata": {
    "collapsed": true
   },
   "outputs": [],
   "source": [
    "features = important_words[0].values.tolist()"
   ]
  },
  {
   "cell_type": "code",
   "execution_count": 87,
   "metadata": {
    "collapsed": true
   },
   "outputs": [],
   "source": [
    "feature_matrix, label_array = get_numpy_data(products, features, 'sentiment')"
   ]
  },
  {
   "cell_type": "code",
   "execution_count": 88,
   "metadata": {
    "collapsed": false
   },
   "outputs": [
    {
     "data": {
      "text/plain": [
       "194"
      ]
     },
     "execution_count": 88,
     "metadata": {},
     "output_type": "execute_result"
    }
   ],
   "source": [
    "# Quiz Question: How many features are there in the feature_matrix?\n",
    "feature_matrix.shape[1]"
   ]
  },
  {
   "cell_type": "code",
   "execution_count": 57,
   "metadata": {
    "collapsed": true
   },
   "outputs": [],
   "source": [
    "# Quiz Question: Assuming that the intercept is present, how does the number of features in feature_matrix relate to the number of features in the logistic regression model?"
   ]
  },
  {
   "cell_type": "code",
   "execution_count": 155,
   "metadata": {
    "collapsed": true
   },
   "outputs": [],
   "source": [
    "def predict_probability(feature_matrix, coefficients):\n",
    "    score = np.dot(feature_matrix, coefficients)\n",
    "    return 1 / (np.exp(-score) + 1)"
   ]
  },
  {
   "cell_type": "code",
   "execution_count": 156,
   "metadata": {
    "collapsed": true
   },
   "outputs": [],
   "source": [
    "def feature_derivative(errors, feature):\n",
    "    derivative = np.dot(feature, errors)\n",
    "    return derivative"
   ]
  },
  {
   "cell_type": "code",
   "execution_count": 157,
   "metadata": {
    "collapsed": true
   },
   "outputs": [],
   "source": [
    "def compute_log_likelihood(feature_matrix, sentiment, coefficients):\n",
    "    indicators = (sentiment == 1)\n",
    "    scores = np.dot(feature_matrix, coefficients)\n",
    "    lp = np.sum((indicators - 1)*scores - np.log(1+np.exp(-scores)))\n",
    "    return lp"
   ]
  },
  {
   "cell_type": "code",
   "execution_count": 158,
   "metadata": {
    "collapsed": true
   },
   "outputs": [],
   "source": [
    "def logistic_regression(feature_matrix, sentiment, inital_coefficients, step_size, max_iter):\n",
    "    D = feature_matrix.shape[1]\n",
    "    coefficients = np.array(initial_coefficients)\n",
    "    for n in range(max_iter):\n",
    "        predictions = predict_probability(feature_matrix, coefficients)\n",
    "        indicators = (sentiment == 1)\n",
    "        errors = indicators - predictions\n",
    "        for i in range(D):\n",
    "            feature = feature_matrix[:, i]\n",
    "            derivative = feature_derivative(errors, feature)\n",
    "            coefficients[i] += step_size*derivative\n",
    "        if n%100 == 0:\n",
    "            print('Running {}th iteration, current log-likehood is {}'.format(\n",
    "                    n+1, compute_log_likelihood(feature_matrix, sentiment, coefficients)))\n",
    "    return coefficients"
   ]
  },
  {
   "cell_type": "code",
   "execution_count": 159,
   "metadata": {
    "collapsed": false
   },
   "outputs": [],
   "source": [
    "feature_matrix = feature_matrix\n",
    "sentiment = label_array\n",
    "initial_coefficients = np.zeros(feature_matrix.shape[1])\n",
    "step_size = 1e-7\n",
    "max_iter = 301"
   ]
  },
  {
   "cell_type": "code",
   "execution_count": 160,
   "metadata": {
    "collapsed": false
   },
   "outputs": [
    {
     "name": "stdout",
     "output_type": "stream",
     "text": [
      "Running 1th iteration, current log-likehood is -36780.91768478126\n",
      "Running 101th iteration, current log-likehood is -36230.46102346926\n",
      "Running 201th iteration, current log-likehood is -35728.89418769386\n",
      "Running 301th iteration, current log-likehood is -35268.51212682766\n"
     ]
    }
   ],
   "source": [
    "# Quiz question: As each iteration of gradient ascent passes, does the log likelihood increase or decrease?\n",
    "coefficients = logistic_regression(feature_matrix, sentiment, initial_coefficients, step_size, max_iter)"
   ]
  },
  {
   "cell_type": "code",
   "execution_count": 161,
   "metadata": {
    "collapsed": false
   },
   "outputs": [
    {
     "data": {
      "text/plain": [
       "25126"
      ]
     },
     "execution_count": 161,
     "metadata": {},
     "output_type": "execute_result"
    }
   ],
   "source": [
    "# Quiz question: How many reviews were predicted to have positive sentiment?\n",
    "np.sum(np.dot(feature_matrix, coefficients) > 0)"
   ]
  },
  {
   "cell_type": "code",
   "execution_count": 162,
   "metadata": {
    "collapsed": true
   },
   "outputs": [],
   "source": [
    "predictions = (np.dot(feature_matrix, coefficients) > 0).astype(int)"
   ]
  },
  {
   "cell_type": "code",
   "execution_count": 163,
   "metadata": {
    "collapsed": false
   },
   "outputs": [],
   "source": [
    "np.place(predictions, predictions == 1, 1)\n",
    "np.place(predictions, predictions == 0, -1)"
   ]
  },
  {
   "cell_type": "code",
   "execution_count": 164,
   "metadata": {
    "collapsed": false
   },
   "outputs": [
    {
     "data": {
      "text/plain": [
       "0.7518653904130238"
      ]
     },
     "execution_count": 164,
     "metadata": {},
     "output_type": "execute_result"
    }
   ],
   "source": [
    "# Quiz question: What is the accuracy of the model on predictions made above? (round to 2 digits of accuracy)\n",
    "sum(predictions == label_array) / len(label_array)"
   ]
  },
  {
   "cell_type": "code",
   "execution_count": 165,
   "metadata": {
    "collapsed": false
   },
   "outputs": [],
   "source": [
    "coefficients = coefficients[1:]\n",
    "word_coefficient_tuple = [(word, coefficient) for word, coefficient in zip(important_words[0], coefficients)]\n",
    "word_coefficient_tuple = sorted(word_coefficient_tuple, key=lambda x: x[1], reverse=True)"
   ]
  },
  {
   "cell_type": "code",
   "execution_count": 166,
   "metadata": {
    "collapsed": false
   },
   "outputs": [
    {
     "data": {
      "text/plain": [
       "[('great', 0.066546084170457695),\n",
       " ('love', 0.065890762922123258),\n",
       " ('easy', 0.06479458680257838),\n",
       " ('little', 0.045435626308421372),\n",
       " ('loves', 0.044976401394906038),\n",
       " ('well', 0.030135001092107074),\n",
       " ('perfect', 0.029739937104968462),\n",
       " ('old', 0.020077541034775381),\n",
       " ('nice', 0.018408707995268992),\n",
       " ('daughter', 0.01770319990570169)]"
      ]
     },
     "execution_count": 166,
     "metadata": {},
     "output_type": "execute_result"
    }
   ],
   "source": [
    "word_coefficient_tuple[:10]"
   ]
  },
  {
   "cell_type": "code",
   "execution_count": 168,
   "metadata": {
    "collapsed": false
   },
   "outputs": [
    {
     "data": {
      "text/plain": [
       "[('would', -0.053860148445203121),\n",
       " ('product', -0.041511033392108897),\n",
       " ('money', -0.038982037286487109),\n",
       " ('work', -0.033069515294752737),\n",
       " ('even', -0.030051249236035808),\n",
       " ('disappointed', -0.028978976142317068),\n",
       " ('get', -0.028711552980192588),\n",
       " ('back', -0.027742697230661327),\n",
       " ('return', -0.026592778462247283),\n",
       " ('monitor', -0.024482100545891717)]"
      ]
     },
     "execution_count": 168,
     "metadata": {},
     "output_type": "execute_result"
    }
   ],
   "source": [
    "word_coefficient_tuple[::-1][:10]"
   ]
  },
  {
   "cell_type": "code",
   "execution_count": null,
   "metadata": {
    "collapsed": true
   },
   "outputs": [],
   "source": []
  }
 ],
 "metadata": {
  "kernelspec": {
   "display_name": "Python 3",
   "language": "python",
   "name": "python3"
  },
  "language_info": {
   "codemirror_mode": {
    "name": "ipython",
    "version": 3
   },
   "file_extension": ".py",
   "mimetype": "text/x-python",
   "name": "python",
   "nbconvert_exporter": "python",
   "pygments_lexer": "ipython3",
   "version": "3.5.1"
  }
 },
 "nbformat": 4,
 "nbformat_minor": 0
}
