{
 "cells": [
  {
   "cell_type": "code",
   "execution_count": 44,
   "metadata": {
    "collapsed": true
   },
   "outputs": [],
   "source": [
    "import pandas as pd\n",
    "import re\n",
    "import string\n",
    "import numpy as np"
   ]
  },
  {
   "cell_type": "code",
   "execution_count": 2,
   "metadata": {
    "collapsed": false
   },
   "outputs": [],
   "source": [
    "products = pd.DataFrame.from_csv('amazon_baby_subset_r2.csv')"
   ]
  },
  {
   "cell_type": "code",
   "execution_count": 3,
   "metadata": {
    "collapsed": true
   },
   "outputs": [],
   "source": [
    "important_words = pd.read_json('important_words_r2.json')"
   ]
  },
  {
   "cell_type": "code",
   "execution_count": 4,
   "metadata": {
    "collapsed": false
   },
   "outputs": [],
   "source": [
    "# data clean\n",
    "products = products.fillna({'review': ''})\n",
    "regex = re.compile('[%s]' % re.escape(string.punctuation))\n",
    "def remove_punctuation(text):\n",
    "    return regex.sub('', text)\n",
    "products['clean_review'] = products['review'].apply(remove_punctuation)"
   ]
  },
  {
   "cell_type": "code",
   "execution_count": 5,
   "metadata": {
    "collapsed": true
   },
   "outputs": [],
   "source": [
    "# features extractor\n",
    "for word in important_words[0]:\n",
    "    products[word] = products['clean_review'].apply(lambda s: s.split().count(word))"
   ]
  },
  {
   "cell_type": "code",
   "execution_count": 6,
   "metadata": {
    "collapsed": true
   },
   "outputs": [],
   "source": [
    "# features counting\n",
    "for word in important_words[0]:\n",
    "    products['contains_{}'.format(word)] = products[word].apply(lambda c: 1 if c >= 1 else 0)"
   ]
  },
  {
   "cell_type": "code",
   "execution_count": 7,
   "metadata": {
    "collapsed": false
   },
   "outputs": [],
   "source": [
    "training_data_idx = pd.read_json('module-4-assignment-train-idx.json')\n",
    "validation_data_idx = pd.read_json('module-4-assignment-validation-idx.json')"
   ]
  },
  {
   "cell_type": "code",
   "execution_count": 8,
   "metadata": {
    "collapsed": false
   },
   "outputs": [],
   "source": [
    "training_data = products.ix[training_data_idx[0]]\n",
    "validation_data = products.ix[validation_data_idx[0]]"
   ]
  },
  {
   "cell_type": "code",
   "execution_count": 37,
   "metadata": {
    "collapsed": true
   },
   "outputs": [],
   "source": [
    "# convert dataframe to multi-dimensional array\n",
    "def get_numpy_data(dataframe, features, label):\n",
    "    dataframe['constant'] = 1\n",
    "    features = ['constant'] + features\n",
    "    features_frame = dataframe[features]\n",
    "    feature_matrix = features_frame.as_matrix()\n",
    "    label_parray = dataframe[label]\n",
    "    label_array = label_parray.as_matrix()\n",
    "    return (feature_matrix.astype(float), label_array.astype(float))"
   ]
  },
  {
   "cell_type": "code",
   "execution_count": 35,
   "metadata": {
    "collapsed": true
   },
   "outputs": [],
   "source": [
    "features = important_words[0].values.tolist()"
   ]
  },
  {
   "cell_type": "code",
   "execution_count": 38,
   "metadata": {
    "collapsed": false
   },
   "outputs": [
    {
     "name": "stderr",
     "output_type": "stream",
     "text": [
      "D:\\Users\\zeyang\\Miniconda3\\lib\\site-packages\\ipykernel\\__main__.py:3: SettingWithCopyWarning: \n",
      "A value is trying to be set on a copy of a slice from a DataFrame.\n",
      "Try using .loc[row_indexer,col_indexer] = value instead\n",
      "\n",
      "See the caveats in the documentation: http://pandas.pydata.org/pandas-docs/stable/indexing.html#indexing-view-versus-copy\n",
      "  app.launch_new_instance()\n"
     ]
    }
   ],
   "source": [
    "feature_matrix_train, sentiment_train = get_numpy_data(training_data, features, 'sentiment')\n",
    "feature_matrix_valid, sentiment_valid = get_numpy_data(validation_data, features, 'sentiment') "
   ]
  },
  {
   "cell_type": "code",
   "execution_count": 39,
   "metadata": {
    "collapsed": true
   },
   "outputs": [],
   "source": [
    "def predict_probability(feature_matrix, coefficients):\n",
    "    score = np.dot(feature_matrix, coefficients)\n",
    "    return 1 / (np.exp(-score) + 1)"
   ]
  },
  {
   "cell_type": "code",
   "execution_count": 129,
   "metadata": {
    "collapsed": true
   },
   "outputs": [],
   "source": [
    "def feature_derivative(errors, feature, coefficient, l2_penalty, feature_is_constant):\n",
    "    derivative = np.dot(feature, errors)\n",
    "    if feature_is_constant:\n",
    "        return derivative\n",
    "    return derivative - 2*l2_penalty*coefficient"
   ]
  },
  {
   "cell_type": "code",
   "execution_count": 130,
   "metadata": {
    "collapsed": true
   },
   "outputs": [],
   "source": [
    "# Quiz question: In the code above, was the intercept term regularized?\n",
    "# Nope"
   ]
  },
  {
   "cell_type": "code",
   "execution_count": 131,
   "metadata": {
    "collapsed": true
   },
   "outputs": [],
   "source": [
    "def compute_log_likelihood(feature_matrix, sentiment, coefficients, l2_penalty):\n",
    "    indicators = (sentiment == 1)\n",
    "    scores = np.dot(feature_matrix, coefficients)\n",
    "    lp = np.sum((indicators - 1)*scores - np.log(1+np.exp(-scores))) - l2_penalty * np.sum(np.square(coefficients[1:]))\n",
    "    return lp"
   ]
  },
  {
   "cell_type": "code",
   "execution_count": 132,
   "metadata": {
    "collapsed": true
   },
   "outputs": [],
   "source": [
    "# Quiz question: Does the term with L2 regularization increase or decrease ℓℓ(w)?\n",
    "# Decrease"
   ]
  },
  {
   "cell_type": "code",
   "execution_count": 141,
   "metadata": {
    "collapsed": true
   },
   "outputs": [],
   "source": [
    "def logistic_regression_with_L2(feature_matrix, sentiment, initial_coefficients, step_size, l2_penalty, max_iter):\n",
    "    D = feature_matrix.shape[1]\n",
    "    coefficients = np.array(initial_coefficients)\n",
    "    for n in range(max_iter):\n",
    "        predictions = predict_probability(feature_matrix, coefficients)\n",
    "        indicators = (sentiment == 1)\n",
    "        errors = indicators - predictions\n",
    "        for i in range(D):\n",
    "            feature = feature_matrix[:, i]\n",
    "            derivative = feature_derivative(errors, feature, coefficients[i], l2_penalty, i==0)\n",
    "            coefficients[i] += step_size*derivative\n",
    "        if n%100 == 0:\n",
    "            print('Running {}th iteration, current log-likehood is {}'.format(\n",
    "                    n+1, compute_log_likelihood(feature_matrix, sentiment, coefficients, l2_penalty)))\n",
    "    return coefficients"
   ]
  },
  {
   "cell_type": "code",
   "execution_count": 142,
   "metadata": {
    "collapsed": true
   },
   "outputs": [],
   "source": [
    "l2_penalty = [0, 4, 10, 1e2, 1e3, 1e5]"
   ]
  },
  {
   "cell_type": "code",
   "execution_count": 143,
   "metadata": {
    "collapsed": true
   },
   "outputs": [],
   "source": [
    "feature_matrix = feature_matrix_train\n",
    "sentiment = sentiment_train\n",
    "initial_coefficients = np.zeros(194)\n",
    "step_size = 5e-6\n",
    "max_iter = 501"
   ]
  },
  {
   "cell_type": "code",
   "execution_count": 215,
   "metadata": {
    "collapsed": false
   },
   "outputs": [
    {
     "name": "stdout",
     "output_type": "stream",
     "text": [
      "Using l2_penalty 0\n",
      "Running 1th iteration, current log-likehood is -29179.39138302689\n",
      "Running 101th iteration, current log-likehood is -22794.90974920854\n",
      "Running 201th iteration, current log-likehood is -21283.295273529307\n",
      "Running 301th iteration, current log-likehood is -20570.97485472953\n",
      "Running 401th iteration, current log-likehood is -20152.21466944124\n",
      "Running 501th iteration, current log-likehood is -19876.623334098615\n",
      "Using l2_penalty 4\n",
      "Running 1th iteration, current log-likehood is -29179.395081753617\n",
      "Running 101th iteration, current log-likehood is -22813.448445799357\n",
      "Running 201th iteration, current log-likehood is -21321.141647938977\n",
      "Running 301th iteration, current log-likehood is -20624.986344387962\n",
      "Running 401th iteration, current log-likehood is -20219.920488449712\n",
      "Running 501th iteration, current log-likehood is -19956.113417765006\n",
      "Using l2_penalty 10\n",
      "Running 1th iteration, current log-likehood is -29179.4006298437\n",
      "Running 101th iteration, current log-likehood is -22841.089951352158\n",
      "Running 201th iteration, current log-likehood is -21377.25595328189\n",
      "Running 301th iteration, current log-likehood is -20704.6399542816\n",
      "Running 401th iteration, current log-likehood is -20319.256853074032\n",
      "Running 501th iteration, current log-likehood is -20072.163217214038\n",
      "Using l2_penalty 100.0\n",
      "Running 1th iteration, current log-likehood is -29179.483851195015\n",
      "Running 101th iteration, current log-likehood is -23232.88192018414\n",
      "Running 201th iteration, current log-likehood is -22133.50726528031\n",
      "Running 301th iteration, current log-likehood is -21730.039574878283\n",
      "Running 401th iteration, current log-likehood is -21545.87572144833\n",
      "Running 501th iteration, current log-likehood is -21451.95551389539\n",
      "Using l2_penalty 1000.0\n",
      "Running 1th iteration, current log-likehood is -29180.31606470814\n",
      "Running 101th iteration, current log-likehood is -25614.81468705127\n",
      "Running 201th iteration, current log-likehood is -25536.209989186344\n",
      "Running 301th iteration, current log-likehood is -25532.576912204662\n",
      "Running 401th iteration, current log-likehood is -25532.355437649905\n",
      "Running 501th iteration, current log-likehood is -25532.33970048623\n",
      "Using l2_penalty 100000.0\n",
      "Running 1th iteration, current log-likehood is -29271.85955115189\n",
      "Running 101th iteration, current log-likehood is -29271.176697497198\n",
      "Running 201th iteration, current log-likehood is -29271.176668620163\n",
      "Running 301th iteration, current log-likehood is -29271.17666861874\n",
      "Running 401th iteration, current log-likehood is -29271.176668618737\n",
      "Running 501th iteration, current log-likehood is -29271.176668618733\n"
     ]
    }
   ],
   "source": [
    "coefficients = {}\n",
    "for penalty in l2_penalty:\n",
    "    print('Using l2_penalty {}'.format(penalty))\n",
    "    coefficients['coefficients_{}_penalty'.format(penalty)] = logistic_regression_with_L2(\n",
    "        feature_matrix, sentiment, initial_coefficients, step_size, penalty, max_iter)"
   ]
  },
  {
   "cell_type": "code",
   "execution_count": 157,
   "metadata": {
    "collapsed": false
   },
   "outputs": [
    {
     "data": {
      "text/plain": [
       "dict_keys(['coefficients_0_penalty', 'coefficients_100.0_penalty', 'coefficients_10_penalty', 'coefficients_100000.0_penalty', 'coefficients_4_penalty', 'coefficients_1000.0_penalty'])"
      ]
     },
     "execution_count": 157,
     "metadata": {},
     "output_type": "execute_result"
    }
   ],
   "source": [
    "coefficients.keys()"
   ]
  },
  {
   "cell_type": "code",
   "execution_count": 160,
   "metadata": {
    "collapsed": true
   },
   "outputs": [],
   "source": [
    "zero_penalty_words = [(word, coeff) for word, coeff in zip(features, coefficients['coefficients_0_penalty'][1:])]"
   ]
  },
  {
   "cell_type": "code",
   "execution_count": 162,
   "metadata": {
    "collapsed": false
   },
   "outputs": [],
   "source": [
    "zero_penalty_words = sorted(zero_penalty_words, key=lambda x: x[1], reverse=True)"
   ]
  },
  {
   "cell_type": "code",
   "execution_count": 197,
   "metadata": {
    "collapsed": false
   },
   "outputs": [],
   "source": [
    "positive_words = [tup[0] for tup in zero_penalty_words[:5]]\n",
    "negative_words = [tup[0] for tup in zero_penalty_words[-5:]]"
   ]
  },
  {
   "cell_type": "code",
   "execution_count": 222,
   "metadata": {
    "collapsed": true
   },
   "outputs": [
    {
     "data": {
      "text/plain": [
       "['returned', 'waste', 'return', 'money', 'disappointed']"
      ]
     },
     "execution_count": 222,
     "metadata": {},
     "output_type": "execute_result"
    }
   ],
   "source": [
    "negative_words"
   ]
  },
  {
   "cell_type": "code",
   "execution_count": 198,
   "metadata": {
    "collapsed": false,
    "scrolled": true
   },
   "outputs": [
    {
     "data": {
      "text/plain": [
       "['love', 'loves', 'easy', 'perfect', 'great']"
      ]
     },
     "execution_count": 198,
     "metadata": {},
     "output_type": "execute_result"
    }
   ],
   "source": [
    "positive_words"
   ]
  },
  {
   "cell_type": "code",
   "execution_count": 199,
   "metadata": {
    "collapsed": true
   },
   "outputs": [],
   "source": [
    "# Quiz Question. Which of the following is not listed in either positive_words or negative_words?"
   ]
  },
  {
   "cell_type": "code",
   "execution_count": 202,
   "metadata": {
    "collapsed": false
   },
   "outputs": [
    {
     "data": {
      "text/plain": [
       "dict_keys(['coefficients_0_penalty', 'coefficients_100.0_penalty', 'coefficients_10_penalty', 'coefficients_100000.0_penalty', 'coefficients_4_penalty', 'coefficients_1000.0_penalty'])"
      ]
     },
     "execution_count": 202,
     "metadata": {},
     "output_type": "execute_result"
    }
   ],
   "source": [
    "coefficients.keys()"
   ]
  },
  {
   "cell_type": "code",
   "execution_count": 203,
   "metadata": {
    "collapsed": false
   },
   "outputs": [],
   "source": [
    "table = []\n",
    "for idx, word in enumerate(features):\n",
    "    coeff_list = [word]\n",
    "    coeff_list.append(coefficients['coefficients_0_penalty'][idx])\n",
    "    coeff_list.append(coefficients['coefficients_4_penalty'][idx])\n",
    "    coeff_list.append(coefficients['coefficients_10_penalty'][idx])\n",
    "    coeff_list.append(coefficients['coefficients_100.0_penalty'][idx])\n",
    "    coeff_list.append(coefficients['coefficients_1000.0_penalty'][idx])\n",
    "    coeff_list.append(coefficients['coefficients_100000.0_penalty'][idx])\n",
    "    table.append(coeff_list)\n",
    "headers = ['word', 'coefficients_0_penalty', 'coefficients_4_penalty', 'coefficients_10_penalty', \n",
    "           'coefficients_1e2_penalty', 'coefficients_1e3_penalty', 'coefficients_1e5_penalty']\n",
    "table = pd.DataFrame(table, columns=headers)"
   ]
  },
  {
   "cell_type": "code",
   "execution_count": 204,
   "metadata": {
    "collapsed": false
   },
   "outputs": [
    {
     "data": {
      "image/png": "[encoded data removed]",
      "text/plain": [
       "<matplotlib.figure.Figure at 0x1bac55c9080>"
      ]
     },
     "metadata": {},
     "output_type": "display_data"
    }
   ],
   "source": [
    "import matplotlib.pyplot as plt\n",
    "%matplotlib inline\n",
    "plt.rcParams['figure.figsize'] = 10, 6\n",
    "\n",
    "def make_coefficient_plot(table, positive_words, negative_words, l2_penalty_list):\n",
    "    cmap_positive = plt.get_cmap('Reds')\n",
    "    cmap_negative = plt.get_cmap('Blues')\n",
    "    \n",
    "    xx = l2_penalty_list\n",
    "    plt.plot(xx, [0.]*len(xx), '--', lw=1, color='k')\n",
    "    \n",
    "    table_positive_words = table[table['word'].isin(positive_words)]\n",
    "    table_negative_words = table[table['word'].isin(negative_words)]\n",
    "    del table_positive_words['word']\n",
    "    del table_negative_words['word']\n",
    "    \n",
    "    for i in range(len(positive_words)):\n",
    "        color = cmap_positive(0.8*((i+1)/(len(positive_words)*1.2)+0.15))\n",
    "        plt.plot(xx, table_positive_words[i:i+1].as_matrix().flatten(),\n",
    "                 '-', label=positive_words[i], linewidth=4.0, color=color)\n",
    "        \n",
    "    for i in range(len(negative_words)):\n",
    "        color = cmap_negative(0.8*((i+1)/(len(negative_words)*1.2)+0.15))\n",
    "        plt.plot(xx, table_negative_words[i:i+1].as_matrix().flatten(),\n",
    "                 '-', label=negative_words[i], linewidth=4.0, color=color)\n",
    "        \n",
    "    plt.legend(loc='best', ncol=3, prop={'size':16}, columnspacing=0.5)\n",
    "    plt.axis([1, 1e5, -1, 2])\n",
    "    plt.title('Coefficient path')\n",
    "    plt.xlabel('L2 penalty ($\\lambda$)')\n",
    "    plt.ylabel('Coefficient value')\n",
    "    plt.xscale('log')\n",
    "    plt.rcParams.update({'font.size': 18})\n",
    "    plt.tight_layout()\n",
    "\n",
    "make_coefficient_plot(table, positive_words, negative_words, l2_penalty_list=[0, 4, 10, 1e2, 1e3, 1e5])"
   ]
  },
  {
   "cell_type": "code",
   "execution_count": 205,
   "metadata": {
    "collapsed": true
   },
   "outputs": [],
   "source": [
    "# Quiz Question: (True/False) All coefficients consistently get smaller in size as L2 penalty is increased.\n",
    "# True"
   ]
  },
  {
   "cell_type": "code",
   "execution_count": 206,
   "metadata": {
    "collapsed": true
   },
   "outputs": [],
   "source": [
    "# Quiz Question: (True/False) Relative order of coefficients is preserved as L2 penalty is increased. \n",
    "# (If word 'cat' was more positive than word 'dog', then it remains to be so as L2 penalty is increased.)\n",
    "# True"
   ]
  },
  {
   "cell_type": "code",
   "execution_count": 219,
   "metadata": {
    "collapsed": false
   },
   "outputs": [
    {
     "name": "stdout",
     "output_type": "stream",
     "text": [
      "coefficients_0_penalty\n",
      "0.785156157787\n",
      "coefficients_100.0_penalty\n",
      "0.783975826822\n",
      "coefficients_10_penalty\n",
      "0.784990911452\n",
      "coefficients_100000.0_penalty\n",
      "0.680366374731\n",
      "coefficients_4_penalty\n",
      "0.785108944548\n",
      "coefficients_1000.0_penalty\n",
      "0.775855149784\n"
     ]
    }
   ],
   "source": [
    "for key in coefficients:\n",
    "    print(key)\n",
    "    coeff = coefficients[key]\n",
    "    predictions = (np.dot(feature_matrix_train, coeff) > 0).astype(int)\n",
    "    np.place(predictions, predictions == 0, -1)\n",
    "    print(np.sum(predictions==sentiment_train) / len(sentiment_train))"
   ]
  },
  {
   "cell_type": "code",
   "execution_count": 218,
   "metadata": {
    "collapsed": true
   },
   "outputs": [],
   "source": [
    "# Quiz question: Which model (L2 = 0, 4, 10, 100, 1e3, 1e5) has the highest accuracy on the training data?\n",
    "# 0"
   ]
  },
  {
   "cell_type": "code",
   "execution_count": 220,
   "metadata": {
    "collapsed": false
   },
   "outputs": [
    {
     "name": "stdout",
     "output_type": "stream",
     "text": [
      "coefficients_0_penalty\n",
      "0.78143964149\n",
      "coefficients_100.0_penalty\n",
      "0.781066193633\n",
      "coefficients_10_penalty\n",
      "0.781719727383\n",
      "coefficients_100000.0_penalty\n",
      "0.667818130893\n",
      "coefficients_4_penalty\n",
      "0.781533003454\n",
      "coefficients_1000.0_penalty\n",
      "0.771356549342\n"
     ]
    }
   ],
   "source": [
    "for key in coefficients:\n",
    "    print(key)\n",
    "    coeff = coefficients[key]\n",
    "    predictions = (np.dot(feature_matrix_valid, coeff) > 0).astype(int)\n",
    "    np.place(predictions, predictions == 0, -1)\n",
    "    print(np.sum(predictions==sentiment_valid) / len(sentiment_valid))"
   ]
  },
  {
   "cell_type": "code",
   "execution_count": 221,
   "metadata": {
    "collapsed": true
   },
   "outputs": [],
   "source": [
    "# Quiz question: Which model (L2 = 0, 4, 10, 100, 1e3, 1e5) has the highest accuracy on the validation data?\n",
    "# 10"
   ]
  },
  {
   "cell_type": "code",
   "execution_count": null,
   "metadata": {
    "collapsed": true
   },
   "outputs": [],
   "source": [
    "# Quiz question: Does the highest accuracy on the training data imply that the model is the best one?\n",
    "# Nope"
   ]
  }
 ],
 "metadata": {
  "kernelspec": {
   "display_name": "Python 3",
   "language": "python",
   "name": "python3"
  },
  "language_info": {
   "codemirror_mode": {
    "name": "ipython",
    "version": 3
   },
   "file_extension": ".py",
   "mimetype": "text/x-python",
   "name": "python",
   "nbconvert_exporter": "python",
   "pygments_lexer": "ipython3",
   "version": "3.5.1"
  }
 },
 "nbformat": 4,
 "nbformat_minor": 0
}
